{
  "nbformat": 4,
  "nbformat_minor": 0,
  "metadata": {
    "colab": {
      "name": "Projeto_queimadas",
      "provenance": []
    },
    "kernelspec": {
      "name": "python3",
      "display_name": "Python 3"
    },
    "language_info": {
      "name": "python"
    }
  },
  "cells": [
    {
      "cell_type": "code",
      "metadata": {
        "id": "qlmoygightqM"
      },
      "source": [
        "import pandas as pd\n",
        "import numpy as np"
      ],
      "execution_count": 112,
      "outputs": []
    },
    {
      "cell_type": "code",
      "metadata": {
        "id": "w7DJrxWph0VT"
      },
      "source": [
        "df = pd.read_csv(\"historico_regiao_nordeste.csv\")\n",
        "df"
      ],
      "execution_count": null,
      "outputs": []
    },
    {
      "cell_type": "code",
      "metadata": {
        "colab": {
          "base_uri": "https://localhost:8080/",
          "height": 714
        },
        "id": "KRGTRojcCIvh",
        "outputId": "564b3f19-f523-4ffd-e8fe-337df1e9c2b8"
      },
      "source": [
        "df"
      ],
      "execution_count": 152,
      "outputs": [
        {
          "output_type": "execute_result",
          "data": {
            "text/html": [
              "<div>\n",
              "<style scoped>\n",
              "    .dataframe tbody tr th:only-of-type {\n",
              "        vertical-align: middle;\n",
              "    }\n",
              "\n",
              "    .dataframe tbody tr th {\n",
              "        vertical-align: top;\n",
              "    }\n",
              "\n",
              "    .dataframe thead th {\n",
              "        text-align: right;\n",
              "    }\n",
              "</style>\n",
              "<table border=\"1\" class=\"dataframe\">\n",
              "  <thead>\n",
              "    <tr style=\"text-align: right;\">\n",
              "      <th></th>\n",
              "      <th>Janeiro</th>\n",
              "      <th>Fevereiro</th>\n",
              "      <th>Março</th>\n",
              "      <th>Abril</th>\n",
              "      <th>Maio</th>\n",
              "      <th>Junho</th>\n",
              "      <th>Julho</th>\n",
              "      <th>Agosto</th>\n",
              "      <th>Setembro</th>\n",
              "      <th>Outubro</th>\n",
              "      <th>Novembro</th>\n",
              "      <th>Dezembro</th>\n",
              "      <th>Total</th>\n",
              "      <th>Ano</th>\n",
              "      <th>Log_Total</th>\n",
              "    </tr>\n",
              "  </thead>\n",
              "  <tbody>\n",
              "    <tr>\n",
              "      <th>2</th>\n",
              "      <td>72</td>\n",
              "      <td>106</td>\n",
              "      <td>162</td>\n",
              "      <td>99</td>\n",
              "      <td>142</td>\n",
              "      <td>318</td>\n",
              "      <td>531</td>\n",
              "      <td>2036</td>\n",
              "      <td>5055</td>\n",
              "      <td>10018</td>\n",
              "      <td>3640</td>\n",
              "      <td>2023</td>\n",
              "      <td>24202</td>\n",
              "      <td>2000</td>\n",
              "      <td>4.383851</td>\n",
              "    </tr>\n",
              "    <tr>\n",
              "      <th>3</th>\n",
              "      <td>121</td>\n",
              "      <td>116</td>\n",
              "      <td>7</td>\n",
              "      <td>43</td>\n",
              "      <td>292</td>\n",
              "      <td>342</td>\n",
              "      <td>1317</td>\n",
              "      <td>4485</td>\n",
              "      <td>12226</td>\n",
              "      <td>14927</td>\n",
              "      <td>8736</td>\n",
              "      <td>2413</td>\n",
              "      <td>45025</td>\n",
              "      <td>2001</td>\n",
              "      <td>4.653454</td>\n",
              "    </tr>\n",
              "    <tr>\n",
              "      <th>4</th>\n",
              "      <td>270</td>\n",
              "      <td>630</td>\n",
              "      <td>306</td>\n",
              "      <td>253</td>\n",
              "      <td>350</td>\n",
              "      <td>523</td>\n",
              "      <td>2901</td>\n",
              "      <td>8169</td>\n",
              "      <td>16617</td>\n",
              "      <td>18400</td>\n",
              "      <td>15334</td>\n",
              "      <td>8249</td>\n",
              "      <td>72002</td>\n",
              "      <td>2002</td>\n",
              "      <td>4.857345</td>\n",
              "    </tr>\n",
              "    <tr>\n",
              "      <th>5</th>\n",
              "      <td>2326</td>\n",
              "      <td>516</td>\n",
              "      <td>571</td>\n",
              "      <td>739</td>\n",
              "      <td>563</td>\n",
              "      <td>1470</td>\n",
              "      <td>4056</td>\n",
              "      <td>4667</td>\n",
              "      <td>22278</td>\n",
              "      <td>20040</td>\n",
              "      <td>16441</td>\n",
              "      <td>9669</td>\n",
              "      <td>83336</td>\n",
              "      <td>2003</td>\n",
              "      <td>4.920833</td>\n",
              "    </tr>\n",
              "    <tr>\n",
              "      <th>6</th>\n",
              "      <td>963</td>\n",
              "      <td>306</td>\n",
              "      <td>377</td>\n",
              "      <td>371</td>\n",
              "      <td>737</td>\n",
              "      <td>1402</td>\n",
              "      <td>2661</td>\n",
              "      <td>5113</td>\n",
              "      <td>17932</td>\n",
              "      <td>16286</td>\n",
              "      <td>19339</td>\n",
              "      <td>13306</td>\n",
              "      <td>78793</td>\n",
              "      <td>2004</td>\n",
              "      <td>4.896488</td>\n",
              "    </tr>\n",
              "    <tr>\n",
              "      <th>7</th>\n",
              "      <td>2445</td>\n",
              "      <td>578</td>\n",
              "      <td>442</td>\n",
              "      <td>331</td>\n",
              "      <td>313</td>\n",
              "      <td>1109</td>\n",
              "      <td>3093</td>\n",
              "      <td>5492</td>\n",
              "      <td>15823</td>\n",
              "      <td>23891</td>\n",
              "      <td>14851</td>\n",
              "      <td>8569</td>\n",
              "      <td>76937</td>\n",
              "      <td>2005</td>\n",
              "      <td>4.886135</td>\n",
              "    </tr>\n",
              "    <tr>\n",
              "      <th>8</th>\n",
              "      <td>1593</td>\n",
              "      <td>691</td>\n",
              "      <td>499</td>\n",
              "      <td>176</td>\n",
              "      <td>298</td>\n",
              "      <td>870</td>\n",
              "      <td>2296</td>\n",
              "      <td>5105</td>\n",
              "      <td>9145</td>\n",
              "      <td>9959</td>\n",
              "      <td>12720</td>\n",
              "      <td>8203</td>\n",
              "      <td>51555</td>\n",
              "      <td>2006</td>\n",
              "      <td>4.712271</td>\n",
              "    </tr>\n",
              "    <tr>\n",
              "      <th>9</th>\n",
              "      <td>2058</td>\n",
              "      <td>285</td>\n",
              "      <td>417</td>\n",
              "      <td>403</td>\n",
              "      <td>889</td>\n",
              "      <td>2774</td>\n",
              "      <td>5804</td>\n",
              "      <td>19547</td>\n",
              "      <td>27403</td>\n",
              "      <td>23376</td>\n",
              "      <td>13910</td>\n",
              "      <td>7243</td>\n",
              "      <td>104109</td>\n",
              "      <td>2007</td>\n",
              "      <td>5.017488</td>\n",
              "    </tr>\n",
              "    <tr>\n",
              "      <th>10</th>\n",
              "      <td>1407</td>\n",
              "      <td>672</td>\n",
              "      <td>355</td>\n",
              "      <td>323</td>\n",
              "      <td>372</td>\n",
              "      <td>1010</td>\n",
              "      <td>2354</td>\n",
              "      <td>3418</td>\n",
              "      <td>10459</td>\n",
              "      <td>16631</td>\n",
              "      <td>15153</td>\n",
              "      <td>8842</td>\n",
              "      <td>60996</td>\n",
              "      <td>2008</td>\n",
              "      <td>4.785301</td>\n",
              "    </tr>\n",
              "    <tr>\n",
              "      <th>11</th>\n",
              "      <td>1923</td>\n",
              "      <td>402</td>\n",
              "      <td>512</td>\n",
              "      <td>135</td>\n",
              "      <td>87</td>\n",
              "      <td>496</td>\n",
              "      <td>1856</td>\n",
              "      <td>3493</td>\n",
              "      <td>8801</td>\n",
              "      <td>7653</td>\n",
              "      <td>11908</td>\n",
              "      <td>6852</td>\n",
              "      <td>44118</td>\n",
              "      <td>2009</td>\n",
              "      <td>4.644616</td>\n",
              "    </tr>\n",
              "    <tr>\n",
              "      <th>12</th>\n",
              "      <td>1513</td>\n",
              "      <td>692</td>\n",
              "      <td>651</td>\n",
              "      <td>379</td>\n",
              "      <td>836</td>\n",
              "      <td>2144</td>\n",
              "      <td>5176</td>\n",
              "      <td>13843</td>\n",
              "      <td>24257</td>\n",
              "      <td>14937</td>\n",
              "      <td>12672</td>\n",
              "      <td>4333</td>\n",
              "      <td>81433</td>\n",
              "      <td>2010</td>\n",
              "      <td>4.910800</td>\n",
              "    </tr>\n",
              "    <tr>\n",
              "      <th>13</th>\n",
              "      <td>597</td>\n",
              "      <td>317</td>\n",
              "      <td>404</td>\n",
              "      <td>340</td>\n",
              "      <td>414</td>\n",
              "      <td>1592</td>\n",
              "      <td>2646</td>\n",
              "      <td>5665</td>\n",
              "      <td>16959</td>\n",
              "      <td>8527</td>\n",
              "      <td>8497</td>\n",
              "      <td>6080</td>\n",
              "      <td>52038</td>\n",
              "      <td>2011</td>\n",
              "      <td>4.716321</td>\n",
              "    </tr>\n",
              "    <tr>\n",
              "      <th>14</th>\n",
              "      <td>1459</td>\n",
              "      <td>606</td>\n",
              "      <td>849</td>\n",
              "      <td>788</td>\n",
              "      <td>1188</td>\n",
              "      <td>2306</td>\n",
              "      <td>6419</td>\n",
              "      <td>16283</td>\n",
              "      <td>19031</td>\n",
              "      <td>14700</td>\n",
              "      <td>5050</td>\n",
              "      <td>4154</td>\n",
              "      <td>72833</td>\n",
              "      <td>2012</td>\n",
              "      <td>4.862328</td>\n",
              "    </tr>\n",
              "    <tr>\n",
              "      <th>15</th>\n",
              "      <td>885</td>\n",
              "      <td>618</td>\n",
              "      <td>671</td>\n",
              "      <td>306</td>\n",
              "      <td>385</td>\n",
              "      <td>1137</td>\n",
              "      <td>2098</td>\n",
              "      <td>4065</td>\n",
              "      <td>9576</td>\n",
              "      <td>7099</td>\n",
              "      <td>4466</td>\n",
              "      <td>4322</td>\n",
              "      <td>35628</td>\n",
              "      <td>2013</td>\n",
              "      <td>4.551791</td>\n",
              "    </tr>\n",
              "    <tr>\n",
              "      <th>16</th>\n",
              "      <td>868</td>\n",
              "      <td>196</td>\n",
              "      <td>347</td>\n",
              "      <td>321</td>\n",
              "      <td>482</td>\n",
              "      <td>1415</td>\n",
              "      <td>3475</td>\n",
              "      <td>8312</td>\n",
              "      <td>9606</td>\n",
              "      <td>10504</td>\n",
              "      <td>5763</td>\n",
              "      <td>3672</td>\n",
              "      <td>44961</td>\n",
              "      <td>2014</td>\n",
              "      <td>4.652836</td>\n",
              "    </tr>\n",
              "    <tr>\n",
              "      <th>17</th>\n",
              "      <td>1240</td>\n",
              "      <td>396</td>\n",
              "      <td>377</td>\n",
              "      <td>378</td>\n",
              "      <td>439</td>\n",
              "      <td>1381</td>\n",
              "      <td>2662</td>\n",
              "      <td>8404</td>\n",
              "      <td>17949</td>\n",
              "      <td>16117</td>\n",
              "      <td>8278</td>\n",
              "      <td>6918</td>\n",
              "      <td>64539</td>\n",
              "      <td>2015</td>\n",
              "      <td>4.809822</td>\n",
              "    </tr>\n",
              "    <tr>\n",
              "      <th>18</th>\n",
              "      <td>911</td>\n",
              "      <td>759</td>\n",
              "      <td>389</td>\n",
              "      <td>376</td>\n",
              "      <td>504</td>\n",
              "      <td>1281</td>\n",
              "      <td>3423</td>\n",
              "      <td>6704</td>\n",
              "      <td>6820</td>\n",
              "      <td>11450</td>\n",
              "      <td>7252</td>\n",
              "      <td>3332</td>\n",
              "      <td>43201</td>\n",
              "      <td>2016</td>\n",
              "      <td>4.635494</td>\n",
              "    </tr>\n",
              "    <tr>\n",
              "      <th>19</th>\n",
              "      <td>671</td>\n",
              "      <td>237</td>\n",
              "      <td>276</td>\n",
              "      <td>236</td>\n",
              "      <td>350</td>\n",
              "      <td>1012</td>\n",
              "      <td>2737</td>\n",
              "      <td>5200</td>\n",
              "      <td>13025</td>\n",
              "      <td>11231</td>\n",
              "      <td>4753</td>\n",
              "      <td>4924</td>\n",
              "      <td>44652</td>\n",
              "      <td>2017</td>\n",
              "      <td>4.649841</td>\n",
              "    </tr>\n",
              "    <tr>\n",
              "      <th>20</th>\n",
              "      <td>764</td>\n",
              "      <td>124</td>\n",
              "      <td>328</td>\n",
              "      <td>160</td>\n",
              "      <td>429</td>\n",
              "      <td>1355</td>\n",
              "      <td>2853</td>\n",
              "      <td>6135</td>\n",
              "      <td>8459</td>\n",
              "      <td>5988</td>\n",
              "      <td>4485</td>\n",
              "      <td>2511</td>\n",
              "      <td>33591</td>\n",
              "      <td>2018</td>\n",
              "      <td>4.526223</td>\n",
              "    </tr>\n",
              "    <tr>\n",
              "      <th>21</th>\n",
              "      <td>1425</td>\n",
              "      <td>596</td>\n",
              "      <td>625</td>\n",
              "      <td>249</td>\n",
              "      <td>375</td>\n",
              "      <td>1295</td>\n",
              "      <td>2009</td>\n",
              "      <td>6276</td>\n",
              "      <td>9468</td>\n",
              "      <td>10264</td>\n",
              "      <td>7506</td>\n",
              "      <td>4069</td>\n",
              "      <td>44157</td>\n",
              "      <td>2019</td>\n",
              "      <td>4.645000</td>\n",
              "    </tr>\n",
              "    <tr>\n",
              "      <th>22</th>\n",
              "      <td>670</td>\n",
              "      <td>358</td>\n",
              "      <td>198</td>\n",
              "      <td>251</td>\n",
              "      <td>391</td>\n",
              "      <td>1176</td>\n",
              "      <td>2817</td>\n",
              "      <td>3831</td>\n",
              "      <td>9927</td>\n",
              "      <td>12132</td>\n",
              "      <td>5638</td>\n",
              "      <td>3463</td>\n",
              "      <td>40852</td>\n",
              "      <td>2020</td>\n",
              "      <td>4.611213</td>\n",
              "    </tr>\n",
              "  </tbody>\n",
              "</table>\n",
              "</div>"
            ],
            "text/plain": [
              "    Janeiro  Fevereiro  Março  Abril  ...  Dezembro   Total   Ano  Log_Total\n",
              "2        72        106    162     99  ...      2023   24202  2000   4.383851\n",
              "3       121        116      7     43  ...      2413   45025  2001   4.653454\n",
              "4       270        630    306    253  ...      8249   72002  2002   4.857345\n",
              "5      2326        516    571    739  ...      9669   83336  2003   4.920833\n",
              "6       963        306    377    371  ...     13306   78793  2004   4.896488\n",
              "7      2445        578    442    331  ...      8569   76937  2005   4.886135\n",
              "8      1593        691    499    176  ...      8203   51555  2006   4.712271\n",
              "9      2058        285    417    403  ...      7243  104109  2007   5.017488\n",
              "10     1407        672    355    323  ...      8842   60996  2008   4.785301\n",
              "11     1923        402    512    135  ...      6852   44118  2009   4.644616\n",
              "12     1513        692    651    379  ...      4333   81433  2010   4.910800\n",
              "13      597        317    404    340  ...      6080   52038  2011   4.716321\n",
              "14     1459        606    849    788  ...      4154   72833  2012   4.862328\n",
              "15      885        618    671    306  ...      4322   35628  2013   4.551791\n",
              "16      868        196    347    321  ...      3672   44961  2014   4.652836\n",
              "17     1240        396    377    378  ...      6918   64539  2015   4.809822\n",
              "18      911        759    389    376  ...      3332   43201  2016   4.635494\n",
              "19      671        237    276    236  ...      4924   44652  2017   4.649841\n",
              "20      764        124    328    160  ...      2511   33591  2018   4.526223\n",
              "21     1425        596    625    249  ...      4069   44157  2019   4.645000\n",
              "22      670        358    198    251  ...      3463   40852  2020   4.611213\n",
              "\n",
              "[21 rows x 15 columns]"
            ]
          },
          "metadata": {},
          "execution_count": 152
        }
      ]
    },
    {
      "cell_type": "markdown",
      "metadata": {
        "id": "sXVAmWtqn4yw"
      },
      "source": [
        "## Tratamento do dataframe"
      ]
    },
    {
      "cell_type": "code",
      "metadata": {
        "id": "93d1XojunM4n"
      },
      "source": [
        "df.drop([0 ,1,23,24,25,26], axis=0,inplace=True)"
      ],
      "execution_count": 114,
      "outputs": []
    },
    {
      "cell_type": "code",
      "metadata": {
        "id": "thDJZQblv0ks"
      },
      "source": [
        "df[\"Ano\"]= df[\"Unnamed: 0\"]\n",
        "df.drop(\"Unnamed: 0\", axis=1,inplace=True)\n",
        "#df.set_index(\"Ano\") \n"
      ],
      "execution_count": 115,
      "outputs": []
    },
    {
      "cell_type": "code",
      "metadata": {
        "id": "14NNM_VXwx6c"
      },
      "source": [
        "df.dtypes"
      ],
      "execution_count": null,
      "outputs": []
    },
    {
      "cell_type": "code",
      "metadata": {
        "id": "2s1OWvPhxuF0"
      },
      "source": [
        "df.Janeiro = df.Janeiro.astype(\"int64\")\n",
        "df.Fevereiro = df.Fevereiro.astype(\"int64\")\n",
        "df.Março = df.Março.astype(\"int64\")\n",
        "df.Abril = df.Abril.astype(\"int64\")\n",
        "df.Maio = df.Maio.astype(\"int64\")\n",
        "df.Novembro = df.Novembro.astype(\"int64\")\n",
        "df.Dezembro = df.Dezembro.astype(\"int64\")\n",
        "df.Ano = df.Ano.astype(\"int64\")"
      ],
      "execution_count": 117,
      "outputs": []
    },
    {
      "cell_type": "code",
      "metadata": {
        "id": "3IeAQAFmyhQ7"
      },
      "source": [
        "df.dtypes"
      ],
      "execution_count": null,
      "outputs": []
    },
    {
      "cell_type": "markdown",
      "metadata": {
        "id": "-wSucUJWyxVr"
      },
      "source": [
        "##Analise Estatistica dos dados"
      ]
    },
    {
      "cell_type": "code",
      "metadata": {
        "id": "rOnE0yzFy17L",
        "colab": {
          "base_uri": "https://localhost:8080/",
          "height": 314
        },
        "outputId": "79417047-cbca-4897-aee5-a356f6f93b71"
      },
      "source": [
        "df.describe()"
      ],
      "execution_count": 119,
      "outputs": [
        {
          "output_type": "execute_result",
          "data": {
            "text/html": [
              "<div>\n",
              "<style scoped>\n",
              "    .dataframe tbody tr th:only-of-type {\n",
              "        vertical-align: middle;\n",
              "    }\n",
              "\n",
              "    .dataframe tbody tr th {\n",
              "        vertical-align: top;\n",
              "    }\n",
              "\n",
              "    .dataframe thead th {\n",
              "        text-align: right;\n",
              "    }\n",
              "</style>\n",
              "<table border=\"1\" class=\"dataframe\">\n",
              "  <thead>\n",
              "    <tr style=\"text-align: right;\">\n",
              "      <th></th>\n",
              "      <th>Janeiro</th>\n",
              "      <th>Fevereiro</th>\n",
              "      <th>Março</th>\n",
              "      <th>Abril</th>\n",
              "      <th>Maio</th>\n",
              "      <th>Junho</th>\n",
              "      <th>Julho</th>\n",
              "      <th>Agosto</th>\n",
              "      <th>Setembro</th>\n",
              "      <th>Outubro</th>\n",
              "      <th>Novembro</th>\n",
              "      <th>Dezembro</th>\n",
              "      <th>Total</th>\n",
              "      <th>Ano</th>\n",
              "    </tr>\n",
              "  </thead>\n",
              "  <tbody>\n",
              "    <tr>\n",
              "      <th>count</th>\n",
              "      <td>21.000000</td>\n",
              "      <td>21.000000</td>\n",
              "      <td>21.000000</td>\n",
              "      <td>21.000000</td>\n",
              "      <td>21.000000</td>\n",
              "      <td>21.000000</td>\n",
              "      <td>21.000000</td>\n",
              "      <td>21.000000</td>\n",
              "      <td>21.000000</td>\n",
              "      <td>21.000000</td>\n",
              "      <td>21.000000</td>\n",
              "      <td>21.000000</td>\n",
              "      <td>21.000000</td>\n",
              "      <td>21.000000</td>\n",
              "    </tr>\n",
              "    <tr>\n",
              "      <th>mean</th>\n",
              "      <td>1151.476190</td>\n",
              "      <td>438.142857</td>\n",
              "      <td>417.285714</td>\n",
              "      <td>317.000000</td>\n",
              "      <td>468.380952</td>\n",
              "      <td>1257.523810</td>\n",
              "      <td>3008.761905</td>\n",
              "      <td>6963.952381</td>\n",
              "      <td>13848.380952</td>\n",
              "      <td>13530.000000</td>\n",
              "      <td>9828.190476</td>\n",
              "      <td>5864.142857</td>\n",
              "      <td>57093.238095</td>\n",
              "      <td>2010.000000</td>\n",
              "    </tr>\n",
              "    <tr>\n",
              "      <th>std</th>\n",
              "      <td>678.492124</td>\n",
              "      <td>213.408127</td>\n",
              "      <td>190.178112</td>\n",
              "      <td>179.174775</td>\n",
              "      <td>256.231043</td>\n",
              "      <td>615.204325</td>\n",
              "      <td>1400.857448</td>\n",
              "      <td>4424.160084</td>\n",
              "      <td>6056.795155</td>\n",
              "      <td>5068.924866</td>\n",
              "      <td>4749.649773</td>\n",
              "      <td>2897.229975</td>\n",
              "      <td>20357.051628</td>\n",
              "      <td>6.204837</td>\n",
              "    </tr>\n",
              "    <tr>\n",
              "      <th>min</th>\n",
              "      <td>72.000000</td>\n",
              "      <td>106.000000</td>\n",
              "      <td>7.000000</td>\n",
              "      <td>43.000000</td>\n",
              "      <td>87.000000</td>\n",
              "      <td>318.000000</td>\n",
              "      <td>531.000000</td>\n",
              "      <td>2036.000000</td>\n",
              "      <td>5055.000000</td>\n",
              "      <td>5988.000000</td>\n",
              "      <td>3640.000000</td>\n",
              "      <td>2023.000000</td>\n",
              "      <td>24202.000000</td>\n",
              "      <td>2000.000000</td>\n",
              "    </tr>\n",
              "    <tr>\n",
              "      <th>25%</th>\n",
              "      <td>671.000000</td>\n",
              "      <td>285.000000</td>\n",
              "      <td>328.000000</td>\n",
              "      <td>236.000000</td>\n",
              "      <td>350.000000</td>\n",
              "      <td>1010.000000</td>\n",
              "      <td>2296.000000</td>\n",
              "      <td>4485.000000</td>\n",
              "      <td>9468.000000</td>\n",
              "      <td>10018.000000</td>\n",
              "      <td>5638.000000</td>\n",
              "      <td>3672.000000</td>\n",
              "      <td>44118.000000</td>\n",
              "      <td>2005.000000</td>\n",
              "    </tr>\n",
              "    <tr>\n",
              "      <th>50%</th>\n",
              "      <td>963.000000</td>\n",
              "      <td>402.000000</td>\n",
              "      <td>389.000000</td>\n",
              "      <td>321.000000</td>\n",
              "      <td>391.000000</td>\n",
              "      <td>1281.000000</td>\n",
              "      <td>2737.000000</td>\n",
              "      <td>5492.000000</td>\n",
              "      <td>12226.000000</td>\n",
              "      <td>12132.000000</td>\n",
              "      <td>8497.000000</td>\n",
              "      <td>4924.000000</td>\n",
              "      <td>51555.000000</td>\n",
              "      <td>2010.000000</td>\n",
              "    </tr>\n",
              "    <tr>\n",
              "      <th>75%</th>\n",
              "      <td>1513.000000</td>\n",
              "      <td>618.000000</td>\n",
              "      <td>512.000000</td>\n",
              "      <td>376.000000</td>\n",
              "      <td>504.000000</td>\n",
              "      <td>1415.000000</td>\n",
              "      <td>3423.000000</td>\n",
              "      <td>8169.000000</td>\n",
              "      <td>17932.000000</td>\n",
              "      <td>16286.000000</td>\n",
              "      <td>13910.000000</td>\n",
              "      <td>8203.000000</td>\n",
              "      <td>72833.000000</td>\n",
              "      <td>2015.000000</td>\n",
              "    </tr>\n",
              "    <tr>\n",
              "      <th>max</th>\n",
              "      <td>2445.000000</td>\n",
              "      <td>759.000000</td>\n",
              "      <td>849.000000</td>\n",
              "      <td>788.000000</td>\n",
              "      <td>1188.000000</td>\n",
              "      <td>2774.000000</td>\n",
              "      <td>6419.000000</td>\n",
              "      <td>19547.000000</td>\n",
              "      <td>27403.000000</td>\n",
              "      <td>23891.000000</td>\n",
              "      <td>19339.000000</td>\n",
              "      <td>13306.000000</td>\n",
              "      <td>104109.000000</td>\n",
              "      <td>2020.000000</td>\n",
              "    </tr>\n",
              "  </tbody>\n",
              "</table>\n",
              "</div>"
            ],
            "text/plain": [
              "           Janeiro   Fevereiro  ...          Total          Ano\n",
              "count    21.000000   21.000000  ...      21.000000    21.000000\n",
              "mean   1151.476190  438.142857  ...   57093.238095  2010.000000\n",
              "std     678.492124  213.408127  ...   20357.051628     6.204837\n",
              "min      72.000000  106.000000  ...   24202.000000  2000.000000\n",
              "25%     671.000000  285.000000  ...   44118.000000  2005.000000\n",
              "50%     963.000000  402.000000  ...   51555.000000  2010.000000\n",
              "75%    1513.000000  618.000000  ...   72833.000000  2015.000000\n",
              "max    2445.000000  759.000000  ...  104109.000000  2020.000000\n",
              "\n",
              "[8 rows x 14 columns]"
            ]
          },
          "metadata": {},
          "execution_count": 119
        }
      ]
    },
    {
      "cell_type": "code",
      "metadata": {
        "colab": {
          "base_uri": "https://localhost:8080/"
        },
        "id": "-jYGN_Qa7Qva",
        "outputId": "ef63109d-6954-4eab-cd2b-7ab32bd929a5"
      },
      "source": [
        "df.max()"
      ],
      "execution_count": 151,
      "outputs": [
        {
          "output_type": "execute_result",
          "data": {
            "text/plain": [
              "Janeiro        2445.000000\n",
              "Fevereiro       759.000000\n",
              "Março           849.000000\n",
              "Abril           788.000000\n",
              "Maio           1188.000000\n",
              "Junho          2774.000000\n",
              "Julho          6419.000000\n",
              "Agosto        19547.000000\n",
              "Setembro      27403.000000\n",
              "Outubro       23891.000000\n",
              "Novembro      19339.000000\n",
              "Dezembro      13306.000000\n",
              "Total        104109.000000\n",
              "Ano            2020.000000\n",
              "Log_Total         5.017488\n",
              "dtype: float64"
            ]
          },
          "metadata": {},
          "execution_count": 151
        }
      ]
    },
    {
      "cell_type": "code",
      "metadata": {
        "colab": {
          "base_uri": "https://localhost:8080/"
        },
        "id": "bJr2p8bHDeWp",
        "outputId": "fdfcf1f5-f8c2-4ae6-edf1-68ecedde80cc"
      },
      "source": [
        "df.min()"
      ],
      "execution_count": 159,
      "outputs": [
        {
          "output_type": "execute_result",
          "data": {
            "text/plain": [
              "Janeiro         72.000000\n",
              "Fevereiro      106.000000\n",
              "Março            7.000000\n",
              "Abril           43.000000\n",
              "Maio            87.000000\n",
              "Junho          318.000000\n",
              "Julho          531.000000\n",
              "Agosto        2036.000000\n",
              "Setembro      5055.000000\n",
              "Outubro       5988.000000\n",
              "Novembro      3640.000000\n",
              "Dezembro      2023.000000\n",
              "Total        24202.000000\n",
              "Ano           2000.000000\n",
              "Log_Total        4.383851\n",
              "dtype: float64"
            ]
          },
          "metadata": {},
          "execution_count": 159
        }
      ]
    },
    {
      "cell_type": "code",
      "metadata": {
        "colab": {
          "base_uri": "https://localhost:8080/"
        },
        "id": "oPGdn7tADj6g",
        "outputId": "c8be09e2-e834-48df-fa21-23c908b768e7"
      },
      "source": [
        "df[df.Março == 7][\"Ano\"]"
      ],
      "execution_count": 160,
      "outputs": [
        {
          "output_type": "execute_result",
          "data": {
            "text/plain": [
              "3    2001\n",
              "Name: Ano, dtype: int64"
            ]
          },
          "metadata": {},
          "execution_count": 160
        }
      ]
    },
    {
      "cell_type": "code",
      "metadata": {
        "colab": {
          "base_uri": "https://localhost:8080/"
        },
        "id": "HBFWpEkkDEbl",
        "outputId": "3497162c-267c-40e0-a2db-cdae9b00bd75"
      },
      "source": [
        "df[df.Total == 104109][\"Ano\"]"
      ],
      "execution_count": 158,
      "outputs": [
        {
          "output_type": "execute_result",
          "data": {
            "text/plain": [
              "9    2007\n",
              "Name: Ano, dtype: int64"
            ]
          },
          "metadata": {},
          "execution_count": 158
        }
      ]
    },
    {
      "cell_type": "code",
      "metadata": {
        "colab": {
          "base_uri": "https://localhost:8080/"
        },
        "id": "C6F-KuUMB8C7",
        "outputId": "5dde372c-7846-4651-e45b-5209cedb6140"
      },
      "source": [
        "df[df.Setembro == 27403][\"Ano\"]"
      ],
      "execution_count": 155,
      "outputs": [
        {
          "output_type": "execute_result",
          "data": {
            "text/plain": [
              "9    2007\n",
              "Name: Ano, dtype: int64"
            ]
          },
          "metadata": {},
          "execution_count": 155
        }
      ]
    },
    {
      "cell_type": "code",
      "metadata": {
        "colab": {
          "base_uri": "https://localhost:8080/"
        },
        "id": "BLWKNoVYCpI_",
        "outputId": "92ef40dc-c284-4c17-e9af-21e06dd2e4a4"
      },
      "source": [
        "df[df.Fevereiro == 759][\"Ano\"]"
      ],
      "execution_count": 156,
      "outputs": [
        {
          "output_type": "execute_result",
          "data": {
            "text/plain": [
              "18    2016\n",
              "Name: Ano, dtype: int64"
            ]
          },
          "metadata": {},
          "execution_count": 156
        }
      ]
    },
    {
      "cell_type": "markdown",
      "metadata": {
        "id": "fwzu2SyO0nbi"
      },
      "source": [
        "##Gáfico do crescimento histórico em cada mês"
      ]
    },
    {
      "cell_type": "code",
      "metadata": {
        "id": "sG6Fl6n-zA0K",
        "colab": {
          "base_uri": "https://localhost:8080/",
          "height": 1000
        },
        "outputId": "efb166a2-47cb-4292-f3ab-75763932d233"
      },
      "source": [
        "df.plot.scatter(x='Ano',y=\"Janeiro\")\n",
        "df.plot.scatter(x='Ano',y=\"Fevereiro\")\n",
        "df.plot.scatter(x='Ano',y=\"Março\")\n",
        "df.plot.scatter(x='Ano',y=\"Abril\")\n",
        "df.plot.scatter(x='Ano',y=\"Maio\")\n",
        "df.plot.scatter(x='Ano',y=\"Junho\")\n",
        "df.plot.scatter(x='Ano',y=\"Julho\")\n",
        "df.plot.scatter(x='Ano',y=\"Agosto\")\n",
        "df.plot.scatter(x='Ano',y=\"Setembro\")\n",
        "df.plot.scatter(x='Ano',y=\"Outubro\")\n",
        "df.plot.scatter(x='Ano',y=\"Novembro\")\n",
        "df.plot.scatter(x='Ano',y=\"Dezembro\")"
      ],
      "execution_count": 120,
      "outputs": [
        {
          "output_type": "execute_result",
          "data": {
            "text/plain": [
              "<matplotlib.axes._subplots.AxesSubplot at 0x7f43ba490550>"
            ]
          },
          "metadata": {},
          "execution_count": 120
        },
        {
          "output_type": "display_data",
          "data": {
            "image/png": "[encoded data removed]",
            "text/plain": [
              "<Figure size 432x288 with 1 Axes>"
            ]
          },
          "metadata": {
            "needs_background": "light"
          }
        },
        {
          "output_type": "display_data",
          "data": {
            "image/png": "[encoded data removed]",
            "text/plain": [
              "<Figure size 432x288 with 1 Axes>"
            ]
          },
          "metadata": {
            "needs_background": "light"
          }
        },
        {
          "output_type": "display_data",
          "data": {
            "image/png": "[encoded data removed]",
            "text/plain": [
              "<Figure size 432x288 with 1 Axes>"
            ]
          },
          "metadata": {
            "needs_background": "light"
          }
        },
        {
          "output_type": "display_data",
          "data": {
            "image/png": "[encoded data removed]",
            "text/plain": [
              "<Figure size 432x288 with 1 Axes>"
            ]
          },
          "metadata": {
            "needs_background": "light"
          }
        },
        {
          "output_type": "display_data",
          "data": {
            "image/png": "[encoded data removed]",
            "text/plain": [
              "<Figure size 432x288 with 1 Axes>"
            ]
          },
          "metadata": {
            "needs_background": "light"
          }
        },
        {
          "output_type": "display_data",
          "data": {
            "image/png": "[encoded data removed]",
            "text/plain": [
              "<Figure size 432x288 with 1 Axes>"
            ]
          },
          "metadata": {
            "needs_background": "light"
          }
        },
        {
          "output_type": "display_data",
          "data": {
            "image/png": "[encoded data removed]",
            "text/plain": [
              "<Figure size 432x288 with 1 Axes>"
            ]
          },
          "metadata": {
            "needs_background": "light"
          }
        },
        {
          "output_type": "display_data",
          "data": {
            "image/png": "[encoded data removed]",
            "text/plain": [
              "<Figure size 432x288 with 1 Axes>"
            ]
          },
          "metadata": {
            "needs_background": "light"
          }
        },
        {
          "output_type": "display_data",
          "data": {
            "image/png": "[encoded data removed]",
            "text/plain": [
              "<Figure size 432x288 with 1 Axes>"
            ]
          },
          "metadata": {
            "needs_background": "light"
          }
        },
        {
          "output_type": "display_data",
          "data": {
            "image/png": "[encoded data removed]",
            "text/plain": [
              "<Figure size 432x288 with 1 Axes>"
            ]
          },
          "metadata": {
            "needs_background": "light"
          }
        },
        {
          "output_type": "display_data",
          "data": {
            "image/png": "[encoded data removed]",
            "text/plain": [
              "<Figure size 432x288 with 1 Axes>"
            ]
          },
          "metadata": {
            "needs_background": "light"
          }
        },
        {
          "output_type": "display_data",
          "data": {
            "image/png": "[encoded data removed]",
            "text/plain": [
              "<Figure size 432x288 with 1 Axes>"
            ]
          },
          "metadata": {
            "needs_background": "light"
          }
        }
      ]
    },
    {
      "cell_type": "code",
      "metadata": {
        "colab": {
          "base_uri": "https://localhost:8080/",
          "height": 281
        },
        "id": "QX4FjxcSrHw1",
        "outputId": "b6a865c2-ca10-4a8a-f585-4bab1d6226ea"
      },
      "source": [
        "df[\"Janeiro\"].plot.box()"
      ],
      "execution_count": 121,
      "outputs": [
        {
          "output_type": "execute_result",
          "data": {
            "text/plain": [
              "<matplotlib.axes._subplots.AxesSubplot at 0x7f43ba9b0990>"
            ]
          },
          "metadata": {},
          "execution_count": 121
        },
        {
          "output_type": "display_data",
          "data": {
            "image/png": "[encoded data removed]",
            "text/plain": [
              "<Figure size 432x288 with 1 Axes>"
            ]
          },
          "metadata": {
            "needs_background": "light"
          }
        }
      ]
    },
    {
      "cell_type": "code",
      "metadata": {
        "colab": {
          "base_uri": "https://localhost:8080/",
          "height": 281
        },
        "id": "kLiCeAlJuRsK",
        "outputId": "ce8b6e1c-a28a-4d7c-ae00-de1811b29fdb"
      },
      "source": [
        "df[\"Fevereiro\"].plot.box()"
      ],
      "execution_count": 122,
      "outputs": [
        {
          "output_type": "execute_result",
          "data": {
            "text/plain": [
              "<matplotlib.axes._subplots.AxesSubplot at 0x7f43ba236a10>"
            ]
          },
          "metadata": {},
          "execution_count": 122
        },
        {
          "output_type": "display_data",
          "data": {
            "image/png": "[encoded data removed]",
            "text/plain": [
              "<Figure size 432x288 with 1 Axes>"
            ]
          },
          "metadata": {
            "needs_background": "light"
          }
        }
      ]
    },
    {
      "cell_type": "code",
      "metadata": {
        "colab": {
          "base_uri": "https://localhost:8080/",
          "height": 281
        },
        "id": "OQb9dMQzuUT6",
        "outputId": "cbc9db78-eafb-4ca2-fa62-3c136ed334ba"
      },
      "source": [
        "df[\"Março\"].plot.box()"
      ],
      "execution_count": 123,
      "outputs": [
        {
          "output_type": "execute_result",
          "data": {
            "text/plain": [
              "<matplotlib.axes._subplots.AxesSubplot at 0x7f43ba223e50>"
            ]
          },
          "metadata": {},
          "execution_count": 123
        },
        {
          "output_type": "display_data",
          "data": {
            "image/png": "[encoded data removed]",
            "text/plain": [
              "<Figure size 432x288 with 1 Axes>"
            ]
          },
          "metadata": {
            "needs_background": "light"
          }
        }
      ]
    },
    {
      "cell_type": "code",
      "metadata": {
        "colab": {
          "base_uri": "https://localhost:8080/",
          "height": 281
        },
        "id": "uxRM-VPyuXDK",
        "outputId": "da4c772c-5bbf-4b81-cc81-a9e6274ade4d"
      },
      "source": [
        "df[\"Abril\"].plot.box()"
      ],
      "execution_count": 124,
      "outputs": [
        {
          "output_type": "execute_result",
          "data": {
            "text/plain": [
              "<matplotlib.axes._subplots.AxesSubplot at 0x7f43ba186750>"
            ]
          },
          "metadata": {},
          "execution_count": 124
        },
        {
          "output_type": "display_data",
          "data": {
            "image/png": "[encoded data removed]",
            "text/plain": [
              "<Figure size 432x288 with 1 Axes>"
            ]
          },
          "metadata": {
            "needs_background": "light"
          }
        }
      ]
    },
    {
      "cell_type": "code",
      "metadata": {
        "colab": {
          "base_uri": "https://localhost:8080/",
          "height": 281
        },
        "id": "yjMhpTuWuYmi",
        "outputId": "0624cc0c-efcf-461b-a60a-943369916fb8"
      },
      "source": [
        "df[\"Maio\"].plot.box()"
      ],
      "execution_count": 125,
      "outputs": [
        {
          "output_type": "execute_result",
          "data": {
            "text/plain": [
              "<matplotlib.axes._subplots.AxesSubplot at 0x7f43ba0fbb10>"
            ]
          },
          "metadata": {},
          "execution_count": 125
        },
        {
          "output_type": "display_data",
          "data": {
            "image/png": "[encoded data removed]",
            "text/plain": [
              "<Figure size 432x288 with 1 Axes>"
            ]
          },
          "metadata": {
            "needs_background": "light"
          }
        }
      ]
    },
    {
      "cell_type": "code",
      "metadata": {
        "colab": {
          "base_uri": "https://localhost:8080/",
          "height": 281
        },
        "id": "cMTZZ56puarr",
        "outputId": "ddfc101b-0992-45e0-bdfb-7a413b4e1d44"
      },
      "source": [
        "df[\"Junho\"].plot.box()"
      ],
      "execution_count": 126,
      "outputs": [
        {
          "output_type": "execute_result",
          "data": {
            "text/plain": [
              "<matplotlib.axes._subplots.AxesSubplot at 0x7f43ba06e910>"
            ]
          },
          "metadata": {},
          "execution_count": 126
        },
        {
          "output_type": "display_data",
          "data": {
            "image/png": "[encoded data removed]",
            "text/plain": [
              "<Figure size 432x288 with 1 Axes>"
            ]
          },
          "metadata": {
            "needs_background": "light"
          }
        }
      ]
    },
    {
      "cell_type": "code",
      "metadata": {
        "colab": {
          "base_uri": "https://localhost:8080/",
          "height": 281
        },
        "id": "ZffocWSUucTt",
        "outputId": "b3deb3d0-1ccf-4a2f-9aa6-dfb83eeee5a2"
      },
      "source": [
        "df[\"Julho\"].plot.box()"
      ],
      "execution_count": 127,
      "outputs": [
        {
          "output_type": "execute_result",
          "data": {
            "text/plain": [
              "<matplotlib.axes._subplots.AxesSubplot at 0x7f43ba04e810>"
            ]
          },
          "metadata": {},
          "execution_count": 127
        },
        {
          "output_type": "display_data",
          "data": {
            "image/png": "[encoded data removed]",
            "text/plain": [
              "<Figure size 432x288 with 1 Axes>"
            ]
          },
          "metadata": {
            "needs_background": "light"
          }
        }
      ]
    },
    {
      "cell_type": "code",
      "metadata": {
        "colab": {
          "base_uri": "https://localhost:8080/",
          "height": 281
        },
        "id": "JtwmrXYkueE6",
        "outputId": "c84f798a-210f-414b-a38c-d880381b7a94"
      },
      "source": [
        "df[\"Agosto\"].plot.box()"
      ],
      "execution_count": 128,
      "outputs": [
        {
          "output_type": "execute_result",
          "data": {
            "text/plain": [
              "<matplotlib.axes._subplots.AxesSubplot at 0x7f43ba014c50>"
            ]
          },
          "metadata": {},
          "execution_count": 128
        },
        {
          "output_type": "display_data",
          "data": {
            "image/png": "[encoded data removed]",
            "text/plain": [
              "<Figure size 432x288 with 1 Axes>"
            ]
          },
          "metadata": {
            "needs_background": "light"
          }
        }
      ]
    },
    {
      "cell_type": "code",
      "metadata": {
        "colab": {
          "base_uri": "https://localhost:8080/",
          "height": 281
        },
        "id": "LMnDeFZgufxL",
        "outputId": "92901c39-9db4-4423-f2fb-7e5b7c08164a"
      },
      "source": [
        "df[\"Setembro\"].plot.box()"
      ],
      "execution_count": 129,
      "outputs": [
        {
          "output_type": "execute_result",
          "data": {
            "text/plain": [
              "<matplotlib.axes._subplots.AxesSubplot at 0x7f43b9f67ed0>"
            ]
          },
          "metadata": {},
          "execution_count": 129
        },
        {
          "output_type": "display_data",
          "data": {
            "image/png": "[encoded data removed]",
            "text/plain": [
              "<Figure size 432x288 with 1 Axes>"
            ]
          },
          "metadata": {
            "needs_background": "light"
          }
        }
      ]
    },
    {
      "cell_type": "code",
      "metadata": {
        "colab": {
          "base_uri": "https://localhost:8080/",
          "height": 281
        },
        "id": "WrIo8QPyuhaj",
        "outputId": "1ea82332-be99-410a-f8b6-d2b27ed83df2"
      },
      "source": [
        "df[\"Outubro\"].plot.box()"
      ],
      "execution_count": 130,
      "outputs": [
        {
          "output_type": "execute_result",
          "data": {
            "text/plain": [
              "<matplotlib.axes._subplots.AxesSubplot at 0x7f43b9f0e690>"
            ]
          },
          "metadata": {},
          "execution_count": 130
        },
        {
          "output_type": "display_data",
          "data": {
            "image/png": "[encoded data removed]",
            "text/plain": [
              "<Figure size 432x288 with 1 Axes>"
            ]
          },
          "metadata": {
            "needs_background": "light"
          }
        }
      ]
    },
    {
      "cell_type": "code",
      "metadata": {
        "colab": {
          "base_uri": "https://localhost:8080/",
          "height": 285
        },
        "id": "1qwXTUXRujB7",
        "outputId": "f3c894b8-d105-4419-d4b7-2fead0d7c032"
      },
      "source": [
        "df[\"Novembro\"].plot.box()"
      ],
      "execution_count": 131,
      "outputs": [
        {
          "output_type": "execute_result",
          "data": {
            "text/plain": [
              "<matplotlib.axes._subplots.AxesSubplot at 0x7f43b9e77110>"
            ]
          },
          "metadata": {},
          "execution_count": 131
        },
        {
          "output_type": "display_data",
          "data": {
            "image/png": "[encoded data removed]",
            "text/plain": [
              "<Figure size 432x288 with 1 Axes>"
            ]
          },
          "metadata": {
            "needs_background": "light"
          }
        }
      ]
    },
    {
      "cell_type": "code",
      "metadata": {
        "colab": {
          "base_uri": "https://localhost:8080/",
          "height": 281
        },
        "id": "PE-FZpIeukYl",
        "outputId": "eaecdcfa-4361-4a45-e2db-8fbff6a1a901"
      },
      "source": [
        "df[\"Dezembro\"].plot.box()"
      ],
      "execution_count": 132,
      "outputs": [
        {
          "output_type": "execute_result",
          "data": {
            "text/plain": [
              "<matplotlib.axes._subplots.AxesSubplot at 0x7f43bb79ff10>"
            ]
          },
          "metadata": {},
          "execution_count": 132
        },
        {
          "output_type": "display_data",
          "data": {
            "image/png": "[encoded data removed]",
            "text/plain": [
              "<Figure size 432x288 with 1 Axes>"
            ]
          },
          "metadata": {
            "needs_background": "light"
          }
        }
      ]
    },
    {
      "cell_type": "markdown",
      "metadata": {
        "id": "o9kFHzXY03ZC"
      },
      "source": [
        "##Gráfico do crescimento histórico Total"
      ]
    },
    {
      "cell_type": "code",
      "metadata": {
        "id": "ZumSPbyK02Tc",
        "colab": {
          "base_uri": "https://localhost:8080/",
          "height": 296
        },
        "outputId": "f5d25893-b81d-4480-c089-0b0f4c948bd7"
      },
      "source": [
        "df.plot.scatter(x='Ano',y=\"Total\")"
      ],
      "execution_count": 133,
      "outputs": [
        {
          "output_type": "execute_result",
          "data": {
            "text/plain": [
              "<matplotlib.axes._subplots.AxesSubplot at 0x7f43b9dc9f90>"
            ]
          },
          "metadata": {},
          "execution_count": 133
        },
        {
          "output_type": "display_data",
          "data": {
            "image/png": "[encoded data removed]",
            "text/plain": [
              "<Figure size 432x288 with 1 Axes>"
            ]
          },
          "metadata": {
            "needs_background": "light"
          }
        }
      ]
    },
    {
      "cell_type": "markdown",
      "metadata": {
        "id": "45lWIKRdvpxR"
      },
      "source": [
        "##Detecção de outliers no total anual utilizando z-score robusto"
      ]
    },
    {
      "cell_type": "code",
      "metadata": {
        "colab": {
          "base_uri": "https://localhost:8080/",
          "height": 281
        },
        "id": "0a6S2qNevuSf",
        "outputId": "d95f0f12-4cc2-436b-a0ae-88a0ff4a6b43"
      },
      "source": [
        "df[\"Total\"].plot.box()"
      ],
      "execution_count": 134,
      "outputs": [
        {
          "output_type": "execute_result",
          "data": {
            "text/plain": [
              "<matplotlib.axes._subplots.AxesSubplot at 0x7f43b9d9d090>"
            ]
          },
          "metadata": {},
          "execution_count": 134
        },
        {
          "output_type": "display_data",
          "data": {
            "image/png": "[encoded data removed]",
            "text/plain": [
              "<Figure size 432x288 with 1 Axes>"
            ]
          },
          "metadata": {
            "needs_background": "light"
          }
        }
      ]
    },
    {
      "cell_type": "code",
      "metadata": {
        "colab": {
          "base_uri": "https://localhost:8080/",
          "height": 281
        },
        "id": "2In6HKF-v1FP",
        "outputId": "d064344d-cca9-4375-f618-6d1a85f67cdf"
      },
      "source": [
        "df[\"Total\"].hist()"
      ],
      "execution_count": 135,
      "outputs": [
        {
          "output_type": "execute_result",
          "data": {
            "text/plain": [
              "<matplotlib.axes._subplots.AxesSubplot at 0x7f43b9cbdd50>"
            ]
          },
          "metadata": {},
          "execution_count": 135
        },
        {
          "output_type": "display_data",
          "data": {
            "image/png": "[encoded data removed]",
            "text/plain": [
              "<Figure size 432x288 with 1 Axes>"
            ]
          },
          "metadata": {
            "needs_background": "light"
          }
        }
      ]
    },
    {
      "cell_type": "code",
      "metadata": {
        "colab": {
          "base_uri": "https://localhost:8080/",
          "height": 281
        },
        "id": "PxjvyKvyv1sX",
        "outputId": "94b7a1b2-a558-4881-f7f8-1cbfa330b294"
      },
      "source": [
        "from numpy import log10, abs\n",
        "df[\"Log_Total\"] = log10(df[\"Total\"])\n",
        "df[\"Log_Total\"].hist()"
      ],
      "execution_count": 136,
      "outputs": [
        {
          "output_type": "execute_result",
          "data": {
            "text/plain": [
              "<matplotlib.axes._subplots.AxesSubplot at 0x7f43b9c5bb10>"
            ]
          },
          "metadata": {},
          "execution_count": 136
        },
        {
          "output_type": "display_data",
          "data": {
            "image/png": "[encoded data removed]",
            "text/plain": [
              "<Figure size 432x288 with 1 Axes>"
            ]
          },
          "metadata": {
            "needs_background": "light"
          }
        }
      ]
    },
    {
      "cell_type": "code",
      "metadata": {
        "colab": {
          "base_uri": "https://localhost:8080/"
        },
        "id": "chB0vuA_v4FW",
        "outputId": "353f4693-4b1a-4ed4-df4a-89d18e62d2ce"
      },
      "source": [
        "mad = abs(df[\"Total\"] - df[\"Total\"].median()).median()\n",
        "mad"
      ],
      "execution_count": 137,
      "outputs": [
        {
          "output_type": "execute_result",
          "data": {
            "text/plain": [
              "12984.0"
            ]
          },
          "metadata": {},
          "execution_count": 137
        }
      ]
    },
    {
      "cell_type": "code",
      "metadata": {
        "colab": {
          "base_uri": "https://localhost:8080/",
          "height": 281
        },
        "id": "BzVstERwv6Du",
        "outputId": "4958cc82-a5d5-4b56-fe40-5bf5c0dca131"
      },
      "source": [
        "abs( (df[\"Total\"]-df[\"Total\"].median())*(0.6745) / mad ).hist()"
      ],
      "execution_count": 138,
      "outputs": [
        {
          "output_type": "execute_result",
          "data": {
            "text/plain": [
              "<matplotlib.axes._subplots.AxesSubplot at 0x7f43b9bdb150>"
            ]
          },
          "metadata": {},
          "execution_count": 138
        },
        {
          "output_type": "display_data",
          "data": {
            "image/png": "[encoded data removed]",
            "text/plain": [
              "<Figure size 432x288 with 1 Axes>"
            ]
          },
          "metadata": {
            "needs_background": "light"
          }
        }
      ]
    },
    {
      "cell_type": "code",
      "metadata": {
        "colab": {
          "base_uri": "https://localhost:8080/",
          "height": 49
        },
        "id": "NUhHFgVdv8FX",
        "outputId": "a3be326c-93b2-4784-dd5e-46d006c215b6"
      },
      "source": [
        "df[abs( (df[\"Total\"]-df[\"Total\"].median())*(0.6745) / mad ) > 3.5]"
      ],
      "execution_count": 139,
      "outputs": [
        {
          "output_type": "execute_result",
          "data": {
            "text/html": [
              "<div>\n",
              "<style scoped>\n",
              "    .dataframe tbody tr th:only-of-type {\n",
              "        vertical-align: middle;\n",
              "    }\n",
              "\n",
              "    .dataframe tbody tr th {\n",
              "        vertical-align: top;\n",
              "    }\n",
              "\n",
              "    .dataframe thead th {\n",
              "        text-align: right;\n",
              "    }\n",
              "</style>\n",
              "<table border=\"1\" class=\"dataframe\">\n",
              "  <thead>\n",
              "    <tr style=\"text-align: right;\">\n",
              "      <th></th>\n",
              "      <th>Janeiro</th>\n",
              "      <th>Fevereiro</th>\n",
              "      <th>Março</th>\n",
              "      <th>Abril</th>\n",
              "      <th>Maio</th>\n",
              "      <th>Junho</th>\n",
              "      <th>Julho</th>\n",
              "      <th>Agosto</th>\n",
              "      <th>Setembro</th>\n",
              "      <th>Outubro</th>\n",
              "      <th>Novembro</th>\n",
              "      <th>Dezembro</th>\n",
              "      <th>Total</th>\n",
              "      <th>Ano</th>\n",
              "      <th>Log_Total</th>\n",
              "    </tr>\n",
              "  </thead>\n",
              "  <tbody>\n",
              "  </tbody>\n",
              "</table>\n",
              "</div>"
            ],
            "text/plain": [
              "Empty DataFrame\n",
              "Columns: [Janeiro, Fevereiro, Março, Abril, Maio, Junho, Julho, Agosto, Setembro, Outubro, Novembro, Dezembro, Total, Ano, Log_Total]\n",
              "Index: []"
            ]
          },
          "metadata": {},
          "execution_count": 139
        }
      ]
    },
    {
      "cell_type": "code",
      "metadata": {
        "colab": {
          "base_uri": "https://localhost:8080/",
          "height": 530
        },
        "id": "mbolQoB5_0y7",
        "outputId": "37092bf8-6a5c-4b4a-92ae-f6f7e8af1346"
      },
      "source": [
        "df.corr()"
      ],
      "execution_count": 142,
      "outputs": [
        {
          "output_type": "execute_result",
          "data": {
            "text/html": [
              "<div>\n",
              "<style scoped>\n",
              "    .dataframe tbody tr th:only-of-type {\n",
              "        vertical-align: middle;\n",
              "    }\n",
              "\n",
              "    .dataframe tbody tr th {\n",
              "        vertical-align: top;\n",
              "    }\n",
              "\n",
              "    .dataframe thead th {\n",
              "        text-align: right;\n",
              "    }\n",
              "</style>\n",
              "<table border=\"1\" class=\"dataframe\">\n",
              "  <thead>\n",
              "    <tr style=\"text-align: right;\">\n",
              "      <th></th>\n",
              "      <th>Janeiro</th>\n",
              "      <th>Fevereiro</th>\n",
              "      <th>Março</th>\n",
              "      <th>Abril</th>\n",
              "      <th>Maio</th>\n",
              "      <th>Junho</th>\n",
              "      <th>Julho</th>\n",
              "      <th>Agosto</th>\n",
              "      <th>Setembro</th>\n",
              "      <th>Outubro</th>\n",
              "      <th>Novembro</th>\n",
              "      <th>Dezembro</th>\n",
              "      <th>Total</th>\n",
              "      <th>Ano</th>\n",
              "      <th>Log_Total</th>\n",
              "    </tr>\n",
              "  </thead>\n",
              "  <tbody>\n",
              "    <tr>\n",
              "      <th>Janeiro</th>\n",
              "      <td>1.000000</td>\n",
              "      <td>0.439879</td>\n",
              "      <td>0.602394</td>\n",
              "      <td>0.499692</td>\n",
              "      <td>0.276256</td>\n",
              "      <td>0.451359</td>\n",
              "      <td>0.478892</td>\n",
              "      <td>0.311540</td>\n",
              "      <td>0.450904</td>\n",
              "      <td>0.478955</td>\n",
              "      <td>0.506075</td>\n",
              "      <td>0.481313</td>\n",
              "      <td>0.605739</td>\n",
              "      <td>-0.046260</td>\n",
              "      <td>0.608209</td>\n",
              "    </tr>\n",
              "    <tr>\n",
              "      <th>Fevereiro</th>\n",
              "      <td>0.439879</td>\n",
              "      <td>1.000000</td>\n",
              "      <td>0.633951</td>\n",
              "      <td>0.393367</td>\n",
              "      <td>0.200359</td>\n",
              "      <td>0.158581</td>\n",
              "      <td>0.295248</td>\n",
              "      <td>0.140831</td>\n",
              "      <td>0.113721</td>\n",
              "      <td>0.192133</td>\n",
              "      <td>0.330928</td>\n",
              "      <td>0.276842</td>\n",
              "      <td>0.291055</td>\n",
              "      <td>0.054714</td>\n",
              "      <td>0.364675</td>\n",
              "    </tr>\n",
              "    <tr>\n",
              "      <th>Março</th>\n",
              "      <td>0.602394</td>\n",
              "      <td>0.633951</td>\n",
              "      <td>1.000000</td>\n",
              "      <td>0.653273</td>\n",
              "      <td>0.531269</td>\n",
              "      <td>0.551853</td>\n",
              "      <td>0.562463</td>\n",
              "      <td>0.427711</td>\n",
              "      <td>0.327787</td>\n",
              "      <td>-0.002842</td>\n",
              "      <td>0.087669</td>\n",
              "      <td>0.168851</td>\n",
              "      <td>0.338143</td>\n",
              "      <td>0.203979</td>\n",
              "      <td>0.360742</td>\n",
              "    </tr>\n",
              "    <tr>\n",
              "      <th>Abril</th>\n",
              "      <td>0.499692</td>\n",
              "      <td>0.393367</td>\n",
              "      <td>0.653273</td>\n",
              "      <td>1.000000</td>\n",
              "      <td>0.759459</td>\n",
              "      <td>0.678139</td>\n",
              "      <td>0.768176</td>\n",
              "      <td>0.502303</td>\n",
              "      <td>0.608621</td>\n",
              "      <td>0.432293</td>\n",
              "      <td>0.214032</td>\n",
              "      <td>0.309509</td>\n",
              "      <td>0.610472</td>\n",
              "      <td>0.035889</td>\n",
              "      <td>0.618815</td>\n",
              "    </tr>\n",
              "    <tr>\n",
              "      <th>Maio</th>\n",
              "      <td>0.276256</td>\n",
              "      <td>0.200359</td>\n",
              "      <td>0.531269</td>\n",
              "      <td>0.759459</td>\n",
              "      <td>1.000000</td>\n",
              "      <td>0.873819</td>\n",
              "      <td>0.896605</td>\n",
              "      <td>0.827199</td>\n",
              "      <td>0.692909</td>\n",
              "      <td>0.374209</td>\n",
              "      <td>0.133753</td>\n",
              "      <td>0.121614</td>\n",
              "      <td>0.651276</td>\n",
              "      <td>0.087837</td>\n",
              "      <td>0.627074</td>\n",
              "    </tr>\n",
              "    <tr>\n",
              "      <th>Junho</th>\n",
              "      <td>0.451359</td>\n",
              "      <td>0.158581</td>\n",
              "      <td>0.551853</td>\n",
              "      <td>0.678139</td>\n",
              "      <td>0.873819</td>\n",
              "      <td>1.000000</td>\n",
              "      <td>0.883367</td>\n",
              "      <td>0.836782</td>\n",
              "      <td>0.705598</td>\n",
              "      <td>0.319066</td>\n",
              "      <td>0.081627</td>\n",
              "      <td>0.085825</td>\n",
              "      <td>0.632337</td>\n",
              "      <td>0.290760</td>\n",
              "      <td>0.595871</td>\n",
              "    </tr>\n",
              "    <tr>\n",
              "      <th>Julho</th>\n",
              "      <td>0.478892</td>\n",
              "      <td>0.295248</td>\n",
              "      <td>0.562463</td>\n",
              "      <td>0.768176</td>\n",
              "      <td>0.896605</td>\n",
              "      <td>0.883367</td>\n",
              "      <td>1.000000</td>\n",
              "      <td>0.878787</td>\n",
              "      <td>0.730518</td>\n",
              "      <td>0.452283</td>\n",
              "      <td>0.167122</td>\n",
              "      <td>0.105879</td>\n",
              "      <td>0.712883</td>\n",
              "      <td>0.140392</td>\n",
              "      <td>0.696848</td>\n",
              "    </tr>\n",
              "    <tr>\n",
              "      <th>Agosto</th>\n",
              "      <td>0.311540</td>\n",
              "      <td>0.140831</td>\n",
              "      <td>0.427711</td>\n",
              "      <td>0.502303</td>\n",
              "      <td>0.827199</td>\n",
              "      <td>0.836782</td>\n",
              "      <td>0.878787</td>\n",
              "      <td>1.000000</td>\n",
              "      <td>0.711255</td>\n",
              "      <td>0.417346</td>\n",
              "      <td>0.078305</td>\n",
              "      <td>-0.027253</td>\n",
              "      <td>0.663707</td>\n",
              "      <td>0.072707</td>\n",
              "      <td>0.617725</td>\n",
              "    </tr>\n",
              "    <tr>\n",
              "      <th>Setembro</th>\n",
              "      <td>0.450904</td>\n",
              "      <td>0.113721</td>\n",
              "      <td>0.327787</td>\n",
              "      <td>0.608621</td>\n",
              "      <td>0.692909</td>\n",
              "      <td>0.705598</td>\n",
              "      <td>0.730518</td>\n",
              "      <td>0.711255</td>\n",
              "      <td>1.000000</td>\n",
              "      <td>0.702103</td>\n",
              "      <td>0.523663</td>\n",
              "      <td>0.445625</td>\n",
              "      <td>0.917484</td>\n",
              "      <td>-0.250807</td>\n",
              "      <td>0.888104</td>\n",
              "    </tr>\n",
              "    <tr>\n",
              "      <th>Outubro</th>\n",
              "      <td>0.478955</td>\n",
              "      <td>0.192133</td>\n",
              "      <td>-0.002842</td>\n",
              "      <td>0.432293</td>\n",
              "      <td>0.374209</td>\n",
              "      <td>0.319066</td>\n",
              "      <td>0.452283</td>\n",
              "      <td>0.417346</td>\n",
              "      <td>0.702103</td>\n",
              "      <td>1.000000</td>\n",
              "      <td>0.666832</td>\n",
              "      <td>0.538682</td>\n",
              "      <td>0.848078</td>\n",
              "      <td>-0.475824</td>\n",
              "      <td>0.816453</td>\n",
              "    </tr>\n",
              "    <tr>\n",
              "      <th>Novembro</th>\n",
              "      <td>0.506075</td>\n",
              "      <td>0.330928</td>\n",
              "      <td>0.087669</td>\n",
              "      <td>0.214032</td>\n",
              "      <td>0.133753</td>\n",
              "      <td>0.081627</td>\n",
              "      <td>0.167122</td>\n",
              "      <td>0.078305</td>\n",
              "      <td>0.523663</td>\n",
              "      <td>0.666832</td>\n",
              "      <td>1.000000</td>\n",
              "      <td>0.882996</td>\n",
              "      <td>0.736540</td>\n",
              "      <td>-0.585091</td>\n",
              "      <td>0.753412</td>\n",
              "    </tr>\n",
              "    <tr>\n",
              "      <th>Dezembro</th>\n",
              "      <td>0.481313</td>\n",
              "      <td>0.276842</td>\n",
              "      <td>0.168851</td>\n",
              "      <td>0.309509</td>\n",
              "      <td>0.121614</td>\n",
              "      <td>0.085825</td>\n",
              "      <td>0.105879</td>\n",
              "      <td>-0.027253</td>\n",
              "      <td>0.445625</td>\n",
              "      <td>0.538682</td>\n",
              "      <td>0.882996</td>\n",
              "      <td>1.000000</td>\n",
              "      <td>0.643791</td>\n",
              "      <td>-0.430968</td>\n",
              "      <td>0.676745</td>\n",
              "    </tr>\n",
              "    <tr>\n",
              "      <th>Total</th>\n",
              "      <td>0.605739</td>\n",
              "      <td>0.291055</td>\n",
              "      <td>0.338143</td>\n",
              "      <td>0.610472</td>\n",
              "      <td>0.651276</td>\n",
              "      <td>0.632337</td>\n",
              "      <td>0.712883</td>\n",
              "      <td>0.663707</td>\n",
              "      <td>0.917484</td>\n",
              "      <td>0.848078</td>\n",
              "      <td>0.736540</td>\n",
              "      <td>0.643791</td>\n",
              "      <td>1.000000</td>\n",
              "      <td>-0.354342</td>\n",
              "      <td>0.980646</td>\n",
              "    </tr>\n",
              "    <tr>\n",
              "      <th>Ano</th>\n",
              "      <td>-0.046260</td>\n",
              "      <td>0.054714</td>\n",
              "      <td>0.203979</td>\n",
              "      <td>0.035889</td>\n",
              "      <td>0.087837</td>\n",
              "      <td>0.290760</td>\n",
              "      <td>0.140392</td>\n",
              "      <td>0.072707</td>\n",
              "      <td>-0.250807</td>\n",
              "      <td>-0.475824</td>\n",
              "      <td>-0.585091</td>\n",
              "      <td>-0.430968</td>\n",
              "      <td>-0.354342</td>\n",
              "      <td>1.000000</td>\n",
              "      <td>-0.291803</td>\n",
              "    </tr>\n",
              "    <tr>\n",
              "      <th>Log_Total</th>\n",
              "      <td>0.608209</td>\n",
              "      <td>0.364675</td>\n",
              "      <td>0.360742</td>\n",
              "      <td>0.618815</td>\n",
              "      <td>0.627074</td>\n",
              "      <td>0.595871</td>\n",
              "      <td>0.696848</td>\n",
              "      <td>0.617725</td>\n",
              "      <td>0.888104</td>\n",
              "      <td>0.816453</td>\n",
              "      <td>0.753412</td>\n",
              "      <td>0.676745</td>\n",
              "      <td>0.980646</td>\n",
              "      <td>-0.291803</td>\n",
              "      <td>1.000000</td>\n",
              "    </tr>\n",
              "  </tbody>\n",
              "</table>\n",
              "</div>"
            ],
            "text/plain": [
              "            Janeiro  Fevereiro     Março  ...     Total       Ano  Log_Total\n",
              "Janeiro    1.000000   0.439879  0.602394  ...  0.605739 -0.046260   0.608209\n",
              "Fevereiro  0.439879   1.000000  0.633951  ...  0.291055  0.054714   0.364675\n",
              "Março      0.602394   0.633951  1.000000  ...  0.338143  0.203979   0.360742\n",
              "Abril      0.499692   0.393367  0.653273  ...  0.610472  0.035889   0.618815\n",
              "Maio       0.276256   0.200359  0.531269  ...  0.651276  0.087837   0.627074\n",
              "Junho      0.451359   0.158581  0.551853  ...  0.632337  0.290760   0.595871\n",
              "Julho      0.478892   0.295248  0.562463  ...  0.712883  0.140392   0.696848\n",
              "Agosto     0.311540   0.140831  0.427711  ...  0.663707  0.072707   0.617725\n",
              "Setembro   0.450904   0.113721  0.327787  ...  0.917484 -0.250807   0.888104\n",
              "Outubro    0.478955   0.192133 -0.002842  ...  0.848078 -0.475824   0.816453\n",
              "Novembro   0.506075   0.330928  0.087669  ...  0.736540 -0.585091   0.753412\n",
              "Dezembro   0.481313   0.276842  0.168851  ...  0.643791 -0.430968   0.676745\n",
              "Total      0.605739   0.291055  0.338143  ...  1.000000 -0.354342   0.980646\n",
              "Ano       -0.046260   0.054714  0.203979  ... -0.354342  1.000000  -0.291803\n",
              "Log_Total  0.608209   0.364675  0.360742  ...  0.980646 -0.291803   1.000000\n",
              "\n",
              "[15 rows x 15 columns]"
            ]
          },
          "metadata": {},
          "execution_count": 142
        }
      ]
    },
    {
      "cell_type": "code",
      "metadata": {
        "colab": {
          "base_uri": "https://localhost:8080/",
          "height": 530
        },
        "id": "_LAmIgvk9x5S",
        "outputId": "07d231e5-b244-48cc-af9e-8f93f203a759"
      },
      "source": [
        "df.corr(method='kendall')"
      ],
      "execution_count": 141,
      "outputs": [
        {
          "output_type": "execute_result",
          "data": {
            "text/html": [
              "<div>\n",
              "<style scoped>\n",
              "    .dataframe tbody tr th:only-of-type {\n",
              "        vertical-align: middle;\n",
              "    }\n",
              "\n",
              "    .dataframe tbody tr th {\n",
              "        vertical-align: top;\n",
              "    }\n",
              "\n",
              "    .dataframe thead th {\n",
              "        text-align: right;\n",
              "    }\n",
              "</style>\n",
              "<table border=\"1\" class=\"dataframe\">\n",
              "  <thead>\n",
              "    <tr style=\"text-align: right;\">\n",
              "      <th></th>\n",
              "      <th>Janeiro</th>\n",
              "      <th>Fevereiro</th>\n",
              "      <th>Março</th>\n",
              "      <th>Abril</th>\n",
              "      <th>Maio</th>\n",
              "      <th>Junho</th>\n",
              "      <th>Julho</th>\n",
              "      <th>Agosto</th>\n",
              "      <th>Setembro</th>\n",
              "      <th>Outubro</th>\n",
              "      <th>Novembro</th>\n",
              "      <th>Dezembro</th>\n",
              "      <th>Total</th>\n",
              "      <th>Ano</th>\n",
              "      <th>Log_Total</th>\n",
              "    </tr>\n",
              "  </thead>\n",
              "  <tbody>\n",
              "    <tr>\n",
              "      <th>Janeiro</th>\n",
              "      <td>1.000000</td>\n",
              "      <td>0.323810</td>\n",
              "      <td>0.539381</td>\n",
              "      <td>0.371429</td>\n",
              "      <td>0.243437</td>\n",
              "      <td>0.266667</td>\n",
              "      <td>0.219048</td>\n",
              "      <td>0.180952</td>\n",
              "      <td>0.219048</td>\n",
              "      <td>0.247619</td>\n",
              "      <td>0.352381</td>\n",
              "      <td>0.428571</td>\n",
              "      <td>0.390476</td>\n",
              "      <td>-0.114286</td>\n",
              "      <td>0.390476</td>\n",
              "    </tr>\n",
              "    <tr>\n",
              "      <th>Fevereiro</th>\n",
              "      <td>0.323810</td>\n",
              "      <td>1.000000</td>\n",
              "      <td>0.472555</td>\n",
              "      <td>0.266667</td>\n",
              "      <td>0.071599</td>\n",
              "      <td>0.028571</td>\n",
              "      <td>0.152381</td>\n",
              "      <td>0.114286</td>\n",
              "      <td>0.057143</td>\n",
              "      <td>0.104762</td>\n",
              "      <td>0.190476</td>\n",
              "      <td>0.266667</td>\n",
              "      <td>0.133333</td>\n",
              "      <td>0.047619</td>\n",
              "      <td>0.133333</td>\n",
              "    </tr>\n",
              "    <tr>\n",
              "      <th>Março</th>\n",
              "      <td>0.539381</td>\n",
              "      <td>0.472555</td>\n",
              "      <td>1.000000</td>\n",
              "      <td>0.424822</td>\n",
              "      <td>0.296651</td>\n",
              "      <td>0.348450</td>\n",
              "      <td>0.176611</td>\n",
              "      <td>0.195705</td>\n",
              "      <td>0.214798</td>\n",
              "      <td>-0.033413</td>\n",
              "      <td>0.109786</td>\n",
              "      <td>0.205251</td>\n",
              "      <td>0.243437</td>\n",
              "      <td>0.052506</td>\n",
              "      <td>0.243437</td>\n",
              "    </tr>\n",
              "    <tr>\n",
              "      <th>Abril</th>\n",
              "      <td>0.371429</td>\n",
              "      <td>0.266667</td>\n",
              "      <td>0.424822</td>\n",
              "      <td>1.000000</td>\n",
              "      <td>0.673033</td>\n",
              "      <td>0.628571</td>\n",
              "      <td>0.619048</td>\n",
              "      <td>0.466667</td>\n",
              "      <td>0.619048</td>\n",
              "      <td>0.380952</td>\n",
              "      <td>0.257143</td>\n",
              "      <td>0.314286</td>\n",
              "      <td>0.542857</td>\n",
              "      <td>0.000000</td>\n",
              "      <td>0.542857</td>\n",
              "    </tr>\n",
              "    <tr>\n",
              "      <th>Maio</th>\n",
              "      <td>0.243437</td>\n",
              "      <td>0.071599</td>\n",
              "      <td>0.296651</td>\n",
              "      <td>0.673033</td>\n",
              "      <td>1.000000</td>\n",
              "      <td>0.787592</td>\n",
              "      <td>0.615754</td>\n",
              "      <td>0.520288</td>\n",
              "      <td>0.424822</td>\n",
              "      <td>0.205251</td>\n",
              "      <td>0.081146</td>\n",
              "      <td>0.081146</td>\n",
              "      <td>0.329357</td>\n",
              "      <td>0.176611</td>\n",
              "      <td>0.329357</td>\n",
              "    </tr>\n",
              "    <tr>\n",
              "      <th>Junho</th>\n",
              "      <td>0.266667</td>\n",
              "      <td>0.028571</td>\n",
              "      <td>0.348450</td>\n",
              "      <td>0.628571</td>\n",
              "      <td>0.787592</td>\n",
              "      <td>1.000000</td>\n",
              "      <td>0.571429</td>\n",
              "      <td>0.533333</td>\n",
              "      <td>0.457143</td>\n",
              "      <td>0.142857</td>\n",
              "      <td>0.095238</td>\n",
              "      <td>0.095238</td>\n",
              "      <td>0.380952</td>\n",
              "      <td>0.180952</td>\n",
              "      <td>0.380952</td>\n",
              "    </tr>\n",
              "    <tr>\n",
              "      <th>Julho</th>\n",
              "      <td>0.219048</td>\n",
              "      <td>0.152381</td>\n",
              "      <td>0.176611</td>\n",
              "      <td>0.619048</td>\n",
              "      <td>0.615754</td>\n",
              "      <td>0.571429</td>\n",
              "      <td>1.000000</td>\n",
              "      <td>0.561905</td>\n",
              "      <td>0.428571</td>\n",
              "      <td>0.323810</td>\n",
              "      <td>0.104762</td>\n",
              "      <td>0.142857</td>\n",
              "      <td>0.428571</td>\n",
              "      <td>0.114286</td>\n",
              "      <td>0.428571</td>\n",
              "    </tr>\n",
              "    <tr>\n",
              "      <th>Agosto</th>\n",
              "      <td>0.180952</td>\n",
              "      <td>0.114286</td>\n",
              "      <td>0.195705</td>\n",
              "      <td>0.466667</td>\n",
              "      <td>0.520288</td>\n",
              "      <td>0.533333</td>\n",
              "      <td>0.561905</td>\n",
              "      <td>1.000000</td>\n",
              "      <td>0.390476</td>\n",
              "      <td>0.190476</td>\n",
              "      <td>0.028571</td>\n",
              "      <td>0.009524</td>\n",
              "      <td>0.333333</td>\n",
              "      <td>0.171429</td>\n",
              "      <td>0.333333</td>\n",
              "    </tr>\n",
              "    <tr>\n",
              "      <th>Setembro</th>\n",
              "      <td>0.219048</td>\n",
              "      <td>0.057143</td>\n",
              "      <td>0.214798</td>\n",
              "      <td>0.619048</td>\n",
              "      <td>0.424822</td>\n",
              "      <td>0.457143</td>\n",
              "      <td>0.428571</td>\n",
              "      <td>0.390476</td>\n",
              "      <td>1.000000</td>\n",
              "      <td>0.514286</td>\n",
              "      <td>0.352381</td>\n",
              "      <td>0.371429</td>\n",
              "      <td>0.733333</td>\n",
              "      <td>-0.152381</td>\n",
              "      <td>0.733333</td>\n",
              "    </tr>\n",
              "    <tr>\n",
              "      <th>Outubro</th>\n",
              "      <td>0.247619</td>\n",
              "      <td>0.104762</td>\n",
              "      <td>-0.033413</td>\n",
              "      <td>0.380952</td>\n",
              "      <td>0.205251</td>\n",
              "      <td>0.142857</td>\n",
              "      <td>0.323810</td>\n",
              "      <td>0.190476</td>\n",
              "      <td>0.514286</td>\n",
              "      <td>1.000000</td>\n",
              "      <td>0.476190</td>\n",
              "      <td>0.380952</td>\n",
              "      <td>0.590476</td>\n",
              "      <td>-0.295238</td>\n",
              "      <td>0.590476</td>\n",
              "    </tr>\n",
              "    <tr>\n",
              "      <th>Novembro</th>\n",
              "      <td>0.352381</td>\n",
              "      <td>0.190476</td>\n",
              "      <td>0.109786</td>\n",
              "      <td>0.257143</td>\n",
              "      <td>0.081146</td>\n",
              "      <td>0.095238</td>\n",
              "      <td>0.104762</td>\n",
              "      <td>0.028571</td>\n",
              "      <td>0.352381</td>\n",
              "      <td>0.476190</td>\n",
              "      <td>1.000000</td>\n",
              "      <td>0.657143</td>\n",
              "      <td>0.600000</td>\n",
              "      <td>-0.457143</td>\n",
              "      <td>0.600000</td>\n",
              "    </tr>\n",
              "    <tr>\n",
              "      <th>Dezembro</th>\n",
              "      <td>0.428571</td>\n",
              "      <td>0.266667</td>\n",
              "      <td>0.205251</td>\n",
              "      <td>0.314286</td>\n",
              "      <td>0.081146</td>\n",
              "      <td>0.095238</td>\n",
              "      <td>0.142857</td>\n",
              "      <td>0.009524</td>\n",
              "      <td>0.371429</td>\n",
              "      <td>0.380952</td>\n",
              "      <td>0.657143</td>\n",
              "      <td>1.000000</td>\n",
              "      <td>0.542857</td>\n",
              "      <td>-0.380952</td>\n",
              "      <td>0.542857</td>\n",
              "    </tr>\n",
              "    <tr>\n",
              "      <th>Total</th>\n",
              "      <td>0.390476</td>\n",
              "      <td>0.133333</td>\n",
              "      <td>0.243437</td>\n",
              "      <td>0.542857</td>\n",
              "      <td>0.329357</td>\n",
              "      <td>0.380952</td>\n",
              "      <td>0.428571</td>\n",
              "      <td>0.333333</td>\n",
              "      <td>0.733333</td>\n",
              "      <td>0.590476</td>\n",
              "      <td>0.600000</td>\n",
              "      <td>0.542857</td>\n",
              "      <td>1.000000</td>\n",
              "      <td>-0.323810</td>\n",
              "      <td>1.000000</td>\n",
              "    </tr>\n",
              "    <tr>\n",
              "      <th>Ano</th>\n",
              "      <td>-0.114286</td>\n",
              "      <td>0.047619</td>\n",
              "      <td>0.052506</td>\n",
              "      <td>0.000000</td>\n",
              "      <td>0.176611</td>\n",
              "      <td>0.180952</td>\n",
              "      <td>0.114286</td>\n",
              "      <td>0.171429</td>\n",
              "      <td>-0.152381</td>\n",
              "      <td>-0.295238</td>\n",
              "      <td>-0.457143</td>\n",
              "      <td>-0.380952</td>\n",
              "      <td>-0.323810</td>\n",
              "      <td>1.000000</td>\n",
              "      <td>-0.323810</td>\n",
              "    </tr>\n",
              "    <tr>\n",
              "      <th>Log_Total</th>\n",
              "      <td>0.390476</td>\n",
              "      <td>0.133333</td>\n",
              "      <td>0.243437</td>\n",
              "      <td>0.542857</td>\n",
              "      <td>0.329357</td>\n",
              "      <td>0.380952</td>\n",
              "      <td>0.428571</td>\n",
              "      <td>0.333333</td>\n",
              "      <td>0.733333</td>\n",
              "      <td>0.590476</td>\n",
              "      <td>0.600000</td>\n",
              "      <td>0.542857</td>\n",
              "      <td>1.000000</td>\n",
              "      <td>-0.323810</td>\n",
              "      <td>1.000000</td>\n",
              "    </tr>\n",
              "  </tbody>\n",
              "</table>\n",
              "</div>"
            ],
            "text/plain": [
              "            Janeiro  Fevereiro     Março  ...     Total       Ano  Log_Total\n",
              "Janeiro    1.000000   0.323810  0.539381  ...  0.390476 -0.114286   0.390476\n",
              "Fevereiro  0.323810   1.000000  0.472555  ...  0.133333  0.047619   0.133333\n",
              "Março      0.539381   0.472555  1.000000  ...  0.243437  0.052506   0.243437\n",
              "Abril      0.371429   0.266667  0.424822  ...  0.542857  0.000000   0.542857\n",
              "Maio       0.243437   0.071599  0.296651  ...  0.329357  0.176611   0.329357\n",
              "Junho      0.266667   0.028571  0.348450  ...  0.380952  0.180952   0.380952\n",
              "Julho      0.219048   0.152381  0.176611  ...  0.428571  0.114286   0.428571\n",
              "Agosto     0.180952   0.114286  0.195705  ...  0.333333  0.171429   0.333333\n",
              "Setembro   0.219048   0.057143  0.214798  ...  0.733333 -0.152381   0.733333\n",
              "Outubro    0.247619   0.104762 -0.033413  ...  0.590476 -0.295238   0.590476\n",
              "Novembro   0.352381   0.190476  0.109786  ...  0.600000 -0.457143   0.600000\n",
              "Dezembro   0.428571   0.266667  0.205251  ...  0.542857 -0.380952   0.542857\n",
              "Total      0.390476   0.133333  0.243437  ...  1.000000 -0.323810   1.000000\n",
              "Ano       -0.114286   0.047619  0.052506  ... -0.323810  1.000000  -0.323810\n",
              "Log_Total  0.390476   0.133333  0.243437  ...  1.000000 -0.323810   1.000000\n",
              "\n",
              "[15 rows x 15 columns]"
            ]
          },
          "metadata": {},
          "execution_count": 141
        }
      ]
    }
  ]
}