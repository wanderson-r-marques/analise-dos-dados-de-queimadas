{
 "cells": [
  {
   "cell_type": "code",
   "execution_count": 12,
   "id": "0a563a13",
   "metadata": {
    "ExecuteTime": {
     "end_time": "2021-10-26T21:02:15.619779Z",
     "start_time": "2021-10-26T21:02:15.609521Z"
    }
   },
   "outputs": [],
   "source": [
    "import pandas as pd\n",
    "import numpy as np\n",
    "import plotly.express as px\n",
    "import plotly.graph_objs as go\n",
    "import plotly.figure_factory as ff"
   ]
  },
  {
   "cell_type": "code",
   "execution_count": 13,
   "id": "b220db89",
   "metadata": {
    "ExecuteTime": {
     "end_time": "2021-10-26T21:02:15.658298Z",
     "start_time": "2021-10-26T21:02:15.632629Z"
    }
   },
   "outputs": [
    {
     "data": {
      "text/html": [
       "<div>\n",
       "<style scoped>\n",
       "    .dataframe tbody tr th:only-of-type {\n",
       "        vertical-align: middle;\n",
       "    }\n",
       "\n",
       "    .dataframe tbody tr th {\n",
       "        vertical-align: top;\n",
       "    }\n",
       "\n",
       "    .dataframe thead th {\n",
       "        text-align: right;\n",
       "    }\n",
       "</style>\n",
       "<table border=\"1\" class=\"dataframe\">\n",
       "  <thead>\n",
       "    <tr style=\"text-align: right;\">\n",
       "      <th></th>\n",
       "      <th>Unnamed: 0</th>\n",
       "      <th>Janeiro</th>\n",
       "      <th>Fevereiro</th>\n",
       "      <th>Março</th>\n",
       "      <th>Abril</th>\n",
       "      <th>Maio</th>\n",
       "      <th>Junho</th>\n",
       "      <th>Julho</th>\n",
       "      <th>Agosto</th>\n",
       "      <th>Setembro</th>\n",
       "      <th>Outubro</th>\n",
       "      <th>Novembro</th>\n",
       "      <th>Dezembro</th>\n",
       "      <th>Total</th>\n",
       "    </tr>\n",
       "  </thead>\n",
       "  <tbody>\n",
       "    <tr>\n",
       "      <th>0</th>\n",
       "      <td>1998</td>\n",
       "      <td>-</td>\n",
       "      <td>-</td>\n",
       "      <td>-</td>\n",
       "      <td>-</td>\n",
       "      <td>-</td>\n",
       "      <td>185</td>\n",
       "      <td>769</td>\n",
       "      <td>2817</td>\n",
       "      <td>9531</td>\n",
       "      <td>11339</td>\n",
       "      <td>3543</td>\n",
       "      <td>2043</td>\n",
       "      <td>30227</td>\n",
       "    </tr>\n",
       "    <tr>\n",
       "      <th>1</th>\n",
       "      <td>1999</td>\n",
       "      <td>490</td>\n",
       "      <td>272</td>\n",
       "      <td>241</td>\n",
       "      <td>111</td>\n",
       "      <td>100</td>\n",
       "      <td>169</td>\n",
       "      <td>583</td>\n",
       "      <td>2031</td>\n",
       "      <td>4126</td>\n",
       "      <td>6537</td>\n",
       "      <td>2561</td>\n",
       "      <td>1611</td>\n",
       "      <td>18832</td>\n",
       "    </tr>\n",
       "    <tr>\n",
       "      <th>2</th>\n",
       "      <td>2000</td>\n",
       "      <td>72</td>\n",
       "      <td>106</td>\n",
       "      <td>162</td>\n",
       "      <td>99</td>\n",
       "      <td>142</td>\n",
       "      <td>318</td>\n",
       "      <td>531</td>\n",
       "      <td>2036</td>\n",
       "      <td>5055</td>\n",
       "      <td>10018</td>\n",
       "      <td>3640</td>\n",
       "      <td>2023</td>\n",
       "      <td>24202</td>\n",
       "    </tr>\n",
       "    <tr>\n",
       "      <th>3</th>\n",
       "      <td>2001</td>\n",
       "      <td>121</td>\n",
       "      <td>116</td>\n",
       "      <td>7</td>\n",
       "      <td>43</td>\n",
       "      <td>292</td>\n",
       "      <td>342</td>\n",
       "      <td>1317</td>\n",
       "      <td>4485</td>\n",
       "      <td>12226</td>\n",
       "      <td>14927</td>\n",
       "      <td>8736</td>\n",
       "      <td>2413</td>\n",
       "      <td>45025</td>\n",
       "    </tr>\n",
       "    <tr>\n",
       "      <th>4</th>\n",
       "      <td>2002</td>\n",
       "      <td>270</td>\n",
       "      <td>630</td>\n",
       "      <td>306</td>\n",
       "      <td>253</td>\n",
       "      <td>350</td>\n",
       "      <td>523</td>\n",
       "      <td>2901</td>\n",
       "      <td>8169</td>\n",
       "      <td>16617</td>\n",
       "      <td>18400</td>\n",
       "      <td>15334</td>\n",
       "      <td>8249</td>\n",
       "      <td>72002</td>\n",
       "    </tr>\n",
       "    <tr>\n",
       "      <th>5</th>\n",
       "      <td>2003</td>\n",
       "      <td>2326</td>\n",
       "      <td>516</td>\n",
       "      <td>571</td>\n",
       "      <td>739</td>\n",
       "      <td>563</td>\n",
       "      <td>1470</td>\n",
       "      <td>4056</td>\n",
       "      <td>4667</td>\n",
       "      <td>22278</td>\n",
       "      <td>20040</td>\n",
       "      <td>16441</td>\n",
       "      <td>9669</td>\n",
       "      <td>83336</td>\n",
       "    </tr>\n",
       "    <tr>\n",
       "      <th>6</th>\n",
       "      <td>2004</td>\n",
       "      <td>963</td>\n",
       "      <td>306</td>\n",
       "      <td>377</td>\n",
       "      <td>371</td>\n",
       "      <td>737</td>\n",
       "      <td>1402</td>\n",
       "      <td>2661</td>\n",
       "      <td>5113</td>\n",
       "      <td>17932</td>\n",
       "      <td>16286</td>\n",
       "      <td>19339</td>\n",
       "      <td>13306</td>\n",
       "      <td>78793</td>\n",
       "    </tr>\n",
       "    <tr>\n",
       "      <th>7</th>\n",
       "      <td>2005</td>\n",
       "      <td>2445</td>\n",
       "      <td>578</td>\n",
       "      <td>442</td>\n",
       "      <td>331</td>\n",
       "      <td>313</td>\n",
       "      <td>1109</td>\n",
       "      <td>3093</td>\n",
       "      <td>5492</td>\n",
       "      <td>15823</td>\n",
       "      <td>23891</td>\n",
       "      <td>14851</td>\n",
       "      <td>8569</td>\n",
       "      <td>76937</td>\n",
       "    </tr>\n",
       "    <tr>\n",
       "      <th>8</th>\n",
       "      <td>2006</td>\n",
       "      <td>1593</td>\n",
       "      <td>691</td>\n",
       "      <td>499</td>\n",
       "      <td>176</td>\n",
       "      <td>298</td>\n",
       "      <td>870</td>\n",
       "      <td>2296</td>\n",
       "      <td>5105</td>\n",
       "      <td>9145</td>\n",
       "      <td>9959</td>\n",
       "      <td>12720</td>\n",
       "      <td>8203</td>\n",
       "      <td>51555</td>\n",
       "    </tr>\n",
       "    <tr>\n",
       "      <th>9</th>\n",
       "      <td>2007</td>\n",
       "      <td>2058</td>\n",
       "      <td>285</td>\n",
       "      <td>417</td>\n",
       "      <td>403</td>\n",
       "      <td>889</td>\n",
       "      <td>2774</td>\n",
       "      <td>5804</td>\n",
       "      <td>19547</td>\n",
       "      <td>27403</td>\n",
       "      <td>23376</td>\n",
       "      <td>13910</td>\n",
       "      <td>7243</td>\n",
       "      <td>104109</td>\n",
       "    </tr>\n",
       "    <tr>\n",
       "      <th>10</th>\n",
       "      <td>2008</td>\n",
       "      <td>1407</td>\n",
       "      <td>672</td>\n",
       "      <td>355</td>\n",
       "      <td>323</td>\n",
       "      <td>372</td>\n",
       "      <td>1010</td>\n",
       "      <td>2354</td>\n",
       "      <td>3418</td>\n",
       "      <td>10459</td>\n",
       "      <td>16631</td>\n",
       "      <td>15153</td>\n",
       "      <td>8842</td>\n",
       "      <td>60996</td>\n",
       "    </tr>\n",
       "    <tr>\n",
       "      <th>11</th>\n",
       "      <td>2009</td>\n",
       "      <td>1923</td>\n",
       "      <td>402</td>\n",
       "      <td>512</td>\n",
       "      <td>135</td>\n",
       "      <td>87</td>\n",
       "      <td>496</td>\n",
       "      <td>1856</td>\n",
       "      <td>3493</td>\n",
       "      <td>8801</td>\n",
       "      <td>7653</td>\n",
       "      <td>11908</td>\n",
       "      <td>6852</td>\n",
       "      <td>44118</td>\n",
       "    </tr>\n",
       "    <tr>\n",
       "      <th>12</th>\n",
       "      <td>2010</td>\n",
       "      <td>1513</td>\n",
       "      <td>692</td>\n",
       "      <td>651</td>\n",
       "      <td>379</td>\n",
       "      <td>836</td>\n",
       "      <td>2144</td>\n",
       "      <td>5176</td>\n",
       "      <td>13843</td>\n",
       "      <td>24257</td>\n",
       "      <td>14937</td>\n",
       "      <td>12672</td>\n",
       "      <td>4333</td>\n",
       "      <td>81433</td>\n",
       "    </tr>\n",
       "    <tr>\n",
       "      <th>13</th>\n",
       "      <td>2011</td>\n",
       "      <td>597</td>\n",
       "      <td>317</td>\n",
       "      <td>404</td>\n",
       "      <td>340</td>\n",
       "      <td>414</td>\n",
       "      <td>1592</td>\n",
       "      <td>2646</td>\n",
       "      <td>5665</td>\n",
       "      <td>16959</td>\n",
       "      <td>8527</td>\n",
       "      <td>8497</td>\n",
       "      <td>6080</td>\n",
       "      <td>52038</td>\n",
       "    </tr>\n",
       "    <tr>\n",
       "      <th>14</th>\n",
       "      <td>2012</td>\n",
       "      <td>1459</td>\n",
       "      <td>606</td>\n",
       "      <td>849</td>\n",
       "      <td>788</td>\n",
       "      <td>1188</td>\n",
       "      <td>2306</td>\n",
       "      <td>6419</td>\n",
       "      <td>16283</td>\n",
       "      <td>19031</td>\n",
       "      <td>14700</td>\n",
       "      <td>5050</td>\n",
       "      <td>4154</td>\n",
       "      <td>72833</td>\n",
       "    </tr>\n",
       "    <tr>\n",
       "      <th>15</th>\n",
       "      <td>2013</td>\n",
       "      <td>885</td>\n",
       "      <td>618</td>\n",
       "      <td>671</td>\n",
       "      <td>306</td>\n",
       "      <td>385</td>\n",
       "      <td>1137</td>\n",
       "      <td>2098</td>\n",
       "      <td>4065</td>\n",
       "      <td>9576</td>\n",
       "      <td>7099</td>\n",
       "      <td>4466</td>\n",
       "      <td>4322</td>\n",
       "      <td>35628</td>\n",
       "    </tr>\n",
       "    <tr>\n",
       "      <th>16</th>\n",
       "      <td>2014</td>\n",
       "      <td>868</td>\n",
       "      <td>196</td>\n",
       "      <td>347</td>\n",
       "      <td>321</td>\n",
       "      <td>482</td>\n",
       "      <td>1415</td>\n",
       "      <td>3475</td>\n",
       "      <td>8312</td>\n",
       "      <td>9606</td>\n",
       "      <td>10504</td>\n",
       "      <td>5763</td>\n",
       "      <td>3672</td>\n",
       "      <td>44961</td>\n",
       "    </tr>\n",
       "    <tr>\n",
       "      <th>17</th>\n",
       "      <td>2015</td>\n",
       "      <td>1240</td>\n",
       "      <td>396</td>\n",
       "      <td>377</td>\n",
       "      <td>378</td>\n",
       "      <td>439</td>\n",
       "      <td>1381</td>\n",
       "      <td>2662</td>\n",
       "      <td>8404</td>\n",
       "      <td>17949</td>\n",
       "      <td>16117</td>\n",
       "      <td>8278</td>\n",
       "      <td>6918</td>\n",
       "      <td>64539</td>\n",
       "    </tr>\n",
       "    <tr>\n",
       "      <th>18</th>\n",
       "      <td>2016</td>\n",
       "      <td>911</td>\n",
       "      <td>759</td>\n",
       "      <td>389</td>\n",
       "      <td>376</td>\n",
       "      <td>504</td>\n",
       "      <td>1281</td>\n",
       "      <td>3423</td>\n",
       "      <td>6704</td>\n",
       "      <td>6820</td>\n",
       "      <td>11450</td>\n",
       "      <td>7252</td>\n",
       "      <td>3332</td>\n",
       "      <td>43201</td>\n",
       "    </tr>\n",
       "    <tr>\n",
       "      <th>19</th>\n",
       "      <td>2017</td>\n",
       "      <td>671</td>\n",
       "      <td>237</td>\n",
       "      <td>276</td>\n",
       "      <td>236</td>\n",
       "      <td>350</td>\n",
       "      <td>1012</td>\n",
       "      <td>2737</td>\n",
       "      <td>5200</td>\n",
       "      <td>13025</td>\n",
       "      <td>11231</td>\n",
       "      <td>4753</td>\n",
       "      <td>4924</td>\n",
       "      <td>44652</td>\n",
       "    </tr>\n",
       "    <tr>\n",
       "      <th>20</th>\n",
       "      <td>2018</td>\n",
       "      <td>764</td>\n",
       "      <td>124</td>\n",
       "      <td>328</td>\n",
       "      <td>160</td>\n",
       "      <td>429</td>\n",
       "      <td>1355</td>\n",
       "      <td>2853</td>\n",
       "      <td>6135</td>\n",
       "      <td>8459</td>\n",
       "      <td>5988</td>\n",
       "      <td>4485</td>\n",
       "      <td>2511</td>\n",
       "      <td>33591</td>\n",
       "    </tr>\n",
       "    <tr>\n",
       "      <th>21</th>\n",
       "      <td>2019</td>\n",
       "      <td>1425</td>\n",
       "      <td>596</td>\n",
       "      <td>625</td>\n",
       "      <td>249</td>\n",
       "      <td>375</td>\n",
       "      <td>1295</td>\n",
       "      <td>2009</td>\n",
       "      <td>6276</td>\n",
       "      <td>9468</td>\n",
       "      <td>10264</td>\n",
       "      <td>7506</td>\n",
       "      <td>4069</td>\n",
       "      <td>44157</td>\n",
       "    </tr>\n",
       "    <tr>\n",
       "      <th>22</th>\n",
       "      <td>2020</td>\n",
       "      <td>670</td>\n",
       "      <td>358</td>\n",
       "      <td>198</td>\n",
       "      <td>251</td>\n",
       "      <td>391</td>\n",
       "      <td>1176</td>\n",
       "      <td>2817</td>\n",
       "      <td>3831</td>\n",
       "      <td>9927</td>\n",
       "      <td>12132</td>\n",
       "      <td>5638</td>\n",
       "      <td>3463</td>\n",
       "      <td>40852</td>\n",
       "    </tr>\n",
       "    <tr>\n",
       "      <th>23</th>\n",
       "      <td>2021</td>\n",
       "      <td>913</td>\n",
       "      <td>525</td>\n",
       "      <td>800</td>\n",
       "      <td>412</td>\n",
       "      <td>1115</td>\n",
       "      <td>1890</td>\n",
       "      <td>3164</td>\n",
       "      <td>7489</td>\n",
       "      <td>14784</td>\n",
       "      <td>6602</td>\n",
       "      <td>-</td>\n",
       "      <td>-</td>\n",
       "      <td>37694</td>\n",
       "    </tr>\n",
       "    <tr>\n",
       "      <th>24</th>\n",
       "      <td>Máximo*</td>\n",
       "      <td>2445</td>\n",
       "      <td>759</td>\n",
       "      <td>849</td>\n",
       "      <td>788</td>\n",
       "      <td>1188</td>\n",
       "      <td>2774</td>\n",
       "      <td>6419</td>\n",
       "      <td>19547</td>\n",
       "      <td>27403</td>\n",
       "      <td>23891</td>\n",
       "      <td>19339</td>\n",
       "      <td>13306</td>\n",
       "      <td>104109</td>\n",
       "    </tr>\n",
       "    <tr>\n",
       "      <th>25</th>\n",
       "      <td>Média*</td>\n",
       "      <td>1121</td>\n",
       "      <td>431</td>\n",
       "      <td>409</td>\n",
       "      <td>308</td>\n",
       "      <td>452</td>\n",
       "      <td>1164</td>\n",
       "      <td>2806</td>\n",
       "      <td>6569</td>\n",
       "      <td>13238</td>\n",
       "      <td>13131</td>\n",
       "      <td>9239</td>\n",
       "      <td>5513</td>\n",
       "      <td>54262</td>\n",
       "    </tr>\n",
       "    <tr>\n",
       "      <th>26</th>\n",
       "      <td>Mínimo*</td>\n",
       "      <td>72</td>\n",
       "      <td>106</td>\n",
       "      <td>7</td>\n",
       "      <td>43</td>\n",
       "      <td>87</td>\n",
       "      <td>169</td>\n",
       "      <td>531</td>\n",
       "      <td>2031</td>\n",
       "      <td>4126</td>\n",
       "      <td>5988</td>\n",
       "      <td>2561</td>\n",
       "      <td>1611</td>\n",
       "      <td>18832</td>\n",
       "    </tr>\n",
       "  </tbody>\n",
       "</table>\n",
       "</div>"
      ],
      "text/plain": [
       "   Unnamed: 0 Janeiro Fevereiro Março Abril  Maio  Junho  Julho  Agosto  \\\n",
       "0        1998       -         -     -     -     -    185    769    2817   \n",
       "1        1999     490       272   241   111   100    169    583    2031   \n",
       "2        2000      72       106   162    99   142    318    531    2036   \n",
       "3        2001     121       116     7    43   292    342   1317    4485   \n",
       "4        2002     270       630   306   253   350    523   2901    8169   \n",
       "5        2003    2326       516   571   739   563   1470   4056    4667   \n",
       "6        2004     963       306   377   371   737   1402   2661    5113   \n",
       "7        2005    2445       578   442   331   313   1109   3093    5492   \n",
       "8        2006    1593       691   499   176   298    870   2296    5105   \n",
       "9        2007    2058       285   417   403   889   2774   5804   19547   \n",
       "10       2008    1407       672   355   323   372   1010   2354    3418   \n",
       "11       2009    1923       402   512   135    87    496   1856    3493   \n",
       "12       2010    1513       692   651   379   836   2144   5176   13843   \n",
       "13       2011     597       317   404   340   414   1592   2646    5665   \n",
       "14       2012    1459       606   849   788  1188   2306   6419   16283   \n",
       "15       2013     885       618   671   306   385   1137   2098    4065   \n",
       "16       2014     868       196   347   321   482   1415   3475    8312   \n",
       "17       2015    1240       396   377   378   439   1381   2662    8404   \n",
       "18       2016     911       759   389   376   504   1281   3423    6704   \n",
       "19       2017     671       237   276   236   350   1012   2737    5200   \n",
       "20       2018     764       124   328   160   429   1355   2853    6135   \n",
       "21       2019    1425       596   625   249   375   1295   2009    6276   \n",
       "22       2020     670       358   198   251   391   1176   2817    3831   \n",
       "23       2021     913       525   800   412  1115   1890   3164    7489   \n",
       "24    Máximo*    2445       759   849   788  1188   2774   6419   19547   \n",
       "25     Média*    1121       431   409   308   452   1164   2806    6569   \n",
       "26    Mínimo*      72       106     7    43    87    169    531    2031   \n",
       "\n",
       "    Setembro  Outubro Novembro Dezembro   Total  \n",
       "0       9531    11339     3543     2043   30227  \n",
       "1       4126     6537     2561     1611   18832  \n",
       "2       5055    10018     3640     2023   24202  \n",
       "3      12226    14927     8736     2413   45025  \n",
       "4      16617    18400    15334     8249   72002  \n",
       "5      22278    20040    16441     9669   83336  \n",
       "6      17932    16286    19339    13306   78793  \n",
       "7      15823    23891    14851     8569   76937  \n",
       "8       9145     9959    12720     8203   51555  \n",
       "9      27403    23376    13910     7243  104109  \n",
       "10     10459    16631    15153     8842   60996  \n",
       "11      8801     7653    11908     6852   44118  \n",
       "12     24257    14937    12672     4333   81433  \n",
       "13     16959     8527     8497     6080   52038  \n",
       "14     19031    14700     5050     4154   72833  \n",
       "15      9576     7099     4466     4322   35628  \n",
       "16      9606    10504     5763     3672   44961  \n",
       "17     17949    16117     8278     6918   64539  \n",
       "18      6820    11450     7252     3332   43201  \n",
       "19     13025    11231     4753     4924   44652  \n",
       "20      8459     5988     4485     2511   33591  \n",
       "21      9468    10264     7506     4069   44157  \n",
       "22      9927    12132     5638     3463   40852  \n",
       "23     14784     6602        -        -   37694  \n",
       "24     27403    23891    19339    13306  104109  \n",
       "25     13238    13131     9239     5513   54262  \n",
       "26      4126     5988     2561     1611   18832  "
      ]
     },
     "execution_count": 13,
     "metadata": {},
     "output_type": "execute_result"
    }
   ],
   "source": [
    "df = pd.read_csv(\"historico_regiao_nordeste.csv\")\n",
    "df"
   ]
  },
  {
   "cell_type": "markdown",
   "id": "ab442f9d",
   "metadata": {
    "ExecuteTime": {
     "end_time": "2021-10-26T01:50:49.142667Z",
     "start_time": "2021-10-26T01:50:48.872752Z"
    }
   },
   "source": [
    "## Tratamento do dataframe"
   ]
  },
  {
   "cell_type": "code",
   "execution_count": 14,
   "id": "046b45bb",
   "metadata": {
    "ExecuteTime": {
     "end_time": "2021-10-26T21:02:15.662409Z",
     "start_time": "2021-10-26T21:02:15.659727Z"
    }
   },
   "outputs": [],
   "source": [
    "df.drop([0 ,1,23,24,25,26], axis=0,inplace=True)\n",
    "#Foram retirados as linhas dos anos 1998, 1999 e 2021 os quais não são objeto de estudo.\n",
    "#Foram retiradas também as linhas com os dados de média, máximo e mínimo, pois, a análise será feita diretamente do Dataframe utilizando o Pandas."
   ]
  },
  {
   "cell_type": "code",
   "execution_count": 15,
   "id": "2078af22",
   "metadata": {
    "ExecuteTime": {
     "end_time": "2021-10-26T21:02:15.700963Z",
     "start_time": "2021-10-26T21:02:15.664006Z"
    }
   },
   "outputs": [
    {
     "data": {
      "text/html": [
       "<div>\n",
       "<style scoped>\n",
       "    .dataframe tbody tr th:only-of-type {\n",
       "        vertical-align: middle;\n",
       "    }\n",
       "\n",
       "    .dataframe tbody tr th {\n",
       "        vertical-align: top;\n",
       "    }\n",
       "\n",
       "    .dataframe thead th {\n",
       "        text-align: right;\n",
       "    }\n",
       "</style>\n",
       "<table border=\"1\" class=\"dataframe\">\n",
       "  <thead>\n",
       "    <tr style=\"text-align: right;\">\n",
       "      <th></th>\n",
       "      <th>Janeiro</th>\n",
       "      <th>Fevereiro</th>\n",
       "      <th>Março</th>\n",
       "      <th>Abril</th>\n",
       "      <th>Maio</th>\n",
       "      <th>Junho</th>\n",
       "      <th>Julho</th>\n",
       "      <th>Agosto</th>\n",
       "      <th>Setembro</th>\n",
       "      <th>Outubro</th>\n",
       "      <th>Novembro</th>\n",
       "      <th>Dezembro</th>\n",
       "      <th>Total</th>\n",
       "    </tr>\n",
       "    <tr>\n",
       "      <th>Ano</th>\n",
       "      <th></th>\n",
       "      <th></th>\n",
       "      <th></th>\n",
       "      <th></th>\n",
       "      <th></th>\n",
       "      <th></th>\n",
       "      <th></th>\n",
       "      <th></th>\n",
       "      <th></th>\n",
       "      <th></th>\n",
       "      <th></th>\n",
       "      <th></th>\n",
       "      <th></th>\n",
       "    </tr>\n",
       "  </thead>\n",
       "  <tbody>\n",
       "    <tr>\n",
       "      <th>2000</th>\n",
       "      <td>72</td>\n",
       "      <td>106</td>\n",
       "      <td>162</td>\n",
       "      <td>99</td>\n",
       "      <td>142</td>\n",
       "      <td>318</td>\n",
       "      <td>531</td>\n",
       "      <td>2036</td>\n",
       "      <td>5055</td>\n",
       "      <td>10018</td>\n",
       "      <td>3640</td>\n",
       "      <td>2023</td>\n",
       "      <td>24202</td>\n",
       "    </tr>\n",
       "    <tr>\n",
       "      <th>2001</th>\n",
       "      <td>121</td>\n",
       "      <td>116</td>\n",
       "      <td>7</td>\n",
       "      <td>43</td>\n",
       "      <td>292</td>\n",
       "      <td>342</td>\n",
       "      <td>1317</td>\n",
       "      <td>4485</td>\n",
       "      <td>12226</td>\n",
       "      <td>14927</td>\n",
       "      <td>8736</td>\n",
       "      <td>2413</td>\n",
       "      <td>45025</td>\n",
       "    </tr>\n",
       "    <tr>\n",
       "      <th>2002</th>\n",
       "      <td>270</td>\n",
       "      <td>630</td>\n",
       "      <td>306</td>\n",
       "      <td>253</td>\n",
       "      <td>350</td>\n",
       "      <td>523</td>\n",
       "      <td>2901</td>\n",
       "      <td>8169</td>\n",
       "      <td>16617</td>\n",
       "      <td>18400</td>\n",
       "      <td>15334</td>\n",
       "      <td>8249</td>\n",
       "      <td>72002</td>\n",
       "    </tr>\n",
       "    <tr>\n",
       "      <th>2003</th>\n",
       "      <td>2326</td>\n",
       "      <td>516</td>\n",
       "      <td>571</td>\n",
       "      <td>739</td>\n",
       "      <td>563</td>\n",
       "      <td>1470</td>\n",
       "      <td>4056</td>\n",
       "      <td>4667</td>\n",
       "      <td>22278</td>\n",
       "      <td>20040</td>\n",
       "      <td>16441</td>\n",
       "      <td>9669</td>\n",
       "      <td>83336</td>\n",
       "    </tr>\n",
       "    <tr>\n",
       "      <th>2004</th>\n",
       "      <td>963</td>\n",
       "      <td>306</td>\n",
       "      <td>377</td>\n",
       "      <td>371</td>\n",
       "      <td>737</td>\n",
       "      <td>1402</td>\n",
       "      <td>2661</td>\n",
       "      <td>5113</td>\n",
       "      <td>17932</td>\n",
       "      <td>16286</td>\n",
       "      <td>19339</td>\n",
       "      <td>13306</td>\n",
       "      <td>78793</td>\n",
       "    </tr>\n",
       "    <tr>\n",
       "      <th>2005</th>\n",
       "      <td>2445</td>\n",
       "      <td>578</td>\n",
       "      <td>442</td>\n",
       "      <td>331</td>\n",
       "      <td>313</td>\n",
       "      <td>1109</td>\n",
       "      <td>3093</td>\n",
       "      <td>5492</td>\n",
       "      <td>15823</td>\n",
       "      <td>23891</td>\n",
       "      <td>14851</td>\n",
       "      <td>8569</td>\n",
       "      <td>76937</td>\n",
       "    </tr>\n",
       "    <tr>\n",
       "      <th>2006</th>\n",
       "      <td>1593</td>\n",
       "      <td>691</td>\n",
       "      <td>499</td>\n",
       "      <td>176</td>\n",
       "      <td>298</td>\n",
       "      <td>870</td>\n",
       "      <td>2296</td>\n",
       "      <td>5105</td>\n",
       "      <td>9145</td>\n",
       "      <td>9959</td>\n",
       "      <td>12720</td>\n",
       "      <td>8203</td>\n",
       "      <td>51555</td>\n",
       "    </tr>\n",
       "    <tr>\n",
       "      <th>2007</th>\n",
       "      <td>2058</td>\n",
       "      <td>285</td>\n",
       "      <td>417</td>\n",
       "      <td>403</td>\n",
       "      <td>889</td>\n",
       "      <td>2774</td>\n",
       "      <td>5804</td>\n",
       "      <td>19547</td>\n",
       "      <td>27403</td>\n",
       "      <td>23376</td>\n",
       "      <td>13910</td>\n",
       "      <td>7243</td>\n",
       "      <td>104109</td>\n",
       "    </tr>\n",
       "    <tr>\n",
       "      <th>2008</th>\n",
       "      <td>1407</td>\n",
       "      <td>672</td>\n",
       "      <td>355</td>\n",
       "      <td>323</td>\n",
       "      <td>372</td>\n",
       "      <td>1010</td>\n",
       "      <td>2354</td>\n",
       "      <td>3418</td>\n",
       "      <td>10459</td>\n",
       "      <td>16631</td>\n",
       "      <td>15153</td>\n",
       "      <td>8842</td>\n",
       "      <td>60996</td>\n",
       "    </tr>\n",
       "    <tr>\n",
       "      <th>2009</th>\n",
       "      <td>1923</td>\n",
       "      <td>402</td>\n",
       "      <td>512</td>\n",
       "      <td>135</td>\n",
       "      <td>87</td>\n",
       "      <td>496</td>\n",
       "      <td>1856</td>\n",
       "      <td>3493</td>\n",
       "      <td>8801</td>\n",
       "      <td>7653</td>\n",
       "      <td>11908</td>\n",
       "      <td>6852</td>\n",
       "      <td>44118</td>\n",
       "    </tr>\n",
       "    <tr>\n",
       "      <th>2010</th>\n",
       "      <td>1513</td>\n",
       "      <td>692</td>\n",
       "      <td>651</td>\n",
       "      <td>379</td>\n",
       "      <td>836</td>\n",
       "      <td>2144</td>\n",
       "      <td>5176</td>\n",
       "      <td>13843</td>\n",
       "      <td>24257</td>\n",
       "      <td>14937</td>\n",
       "      <td>12672</td>\n",
       "      <td>4333</td>\n",
       "      <td>81433</td>\n",
       "    </tr>\n",
       "    <tr>\n",
       "      <th>2011</th>\n",
       "      <td>597</td>\n",
       "      <td>317</td>\n",
       "      <td>404</td>\n",
       "      <td>340</td>\n",
       "      <td>414</td>\n",
       "      <td>1592</td>\n",
       "      <td>2646</td>\n",
       "      <td>5665</td>\n",
       "      <td>16959</td>\n",
       "      <td>8527</td>\n",
       "      <td>8497</td>\n",
       "      <td>6080</td>\n",
       "      <td>52038</td>\n",
       "    </tr>\n",
       "    <tr>\n",
       "      <th>2012</th>\n",
       "      <td>1459</td>\n",
       "      <td>606</td>\n",
       "      <td>849</td>\n",
       "      <td>788</td>\n",
       "      <td>1188</td>\n",
       "      <td>2306</td>\n",
       "      <td>6419</td>\n",
       "      <td>16283</td>\n",
       "      <td>19031</td>\n",
       "      <td>14700</td>\n",
       "      <td>5050</td>\n",
       "      <td>4154</td>\n",
       "      <td>72833</td>\n",
       "    </tr>\n",
       "    <tr>\n",
       "      <th>2013</th>\n",
       "      <td>885</td>\n",
       "      <td>618</td>\n",
       "      <td>671</td>\n",
       "      <td>306</td>\n",
       "      <td>385</td>\n",
       "      <td>1137</td>\n",
       "      <td>2098</td>\n",
       "      <td>4065</td>\n",
       "      <td>9576</td>\n",
       "      <td>7099</td>\n",
       "      <td>4466</td>\n",
       "      <td>4322</td>\n",
       "      <td>35628</td>\n",
       "    </tr>\n",
       "    <tr>\n",
       "      <th>2014</th>\n",
       "      <td>868</td>\n",
       "      <td>196</td>\n",
       "      <td>347</td>\n",
       "      <td>321</td>\n",
       "      <td>482</td>\n",
       "      <td>1415</td>\n",
       "      <td>3475</td>\n",
       "      <td>8312</td>\n",
       "      <td>9606</td>\n",
       "      <td>10504</td>\n",
       "      <td>5763</td>\n",
       "      <td>3672</td>\n",
       "      <td>44961</td>\n",
       "    </tr>\n",
       "    <tr>\n",
       "      <th>2015</th>\n",
       "      <td>1240</td>\n",
       "      <td>396</td>\n",
       "      <td>377</td>\n",
       "      <td>378</td>\n",
       "      <td>439</td>\n",
       "      <td>1381</td>\n",
       "      <td>2662</td>\n",
       "      <td>8404</td>\n",
       "      <td>17949</td>\n",
       "      <td>16117</td>\n",
       "      <td>8278</td>\n",
       "      <td>6918</td>\n",
       "      <td>64539</td>\n",
       "    </tr>\n",
       "    <tr>\n",
       "      <th>2016</th>\n",
       "      <td>911</td>\n",
       "      <td>759</td>\n",
       "      <td>389</td>\n",
       "      <td>376</td>\n",
       "      <td>504</td>\n",
       "      <td>1281</td>\n",
       "      <td>3423</td>\n",
       "      <td>6704</td>\n",
       "      <td>6820</td>\n",
       "      <td>11450</td>\n",
       "      <td>7252</td>\n",
       "      <td>3332</td>\n",
       "      <td>43201</td>\n",
       "    </tr>\n",
       "    <tr>\n",
       "      <th>2017</th>\n",
       "      <td>671</td>\n",
       "      <td>237</td>\n",
       "      <td>276</td>\n",
       "      <td>236</td>\n",
       "      <td>350</td>\n",
       "      <td>1012</td>\n",
       "      <td>2737</td>\n",
       "      <td>5200</td>\n",
       "      <td>13025</td>\n",
       "      <td>11231</td>\n",
       "      <td>4753</td>\n",
       "      <td>4924</td>\n",
       "      <td>44652</td>\n",
       "    </tr>\n",
       "    <tr>\n",
       "      <th>2018</th>\n",
       "      <td>764</td>\n",
       "      <td>124</td>\n",
       "      <td>328</td>\n",
       "      <td>160</td>\n",
       "      <td>429</td>\n",
       "      <td>1355</td>\n",
       "      <td>2853</td>\n",
       "      <td>6135</td>\n",
       "      <td>8459</td>\n",
       "      <td>5988</td>\n",
       "      <td>4485</td>\n",
       "      <td>2511</td>\n",
       "      <td>33591</td>\n",
       "    </tr>\n",
       "    <tr>\n",
       "      <th>2019</th>\n",
       "      <td>1425</td>\n",
       "      <td>596</td>\n",
       "      <td>625</td>\n",
       "      <td>249</td>\n",
       "      <td>375</td>\n",
       "      <td>1295</td>\n",
       "      <td>2009</td>\n",
       "      <td>6276</td>\n",
       "      <td>9468</td>\n",
       "      <td>10264</td>\n",
       "      <td>7506</td>\n",
       "      <td>4069</td>\n",
       "      <td>44157</td>\n",
       "    </tr>\n",
       "    <tr>\n",
       "      <th>2020</th>\n",
       "      <td>670</td>\n",
       "      <td>358</td>\n",
       "      <td>198</td>\n",
       "      <td>251</td>\n",
       "      <td>391</td>\n",
       "      <td>1176</td>\n",
       "      <td>2817</td>\n",
       "      <td>3831</td>\n",
       "      <td>9927</td>\n",
       "      <td>12132</td>\n",
       "      <td>5638</td>\n",
       "      <td>3463</td>\n",
       "      <td>40852</td>\n",
       "    </tr>\n",
       "  </tbody>\n",
       "</table>\n",
       "</div>"
      ],
      "text/plain": [
       "     Janeiro Fevereiro Março Abril  Maio  Junho  Julho  Agosto  Setembro  \\\n",
       "Ano                                                                        \n",
       "2000      72       106   162    99   142    318    531    2036      5055   \n",
       "2001     121       116     7    43   292    342   1317    4485     12226   \n",
       "2002     270       630   306   253   350    523   2901    8169     16617   \n",
       "2003    2326       516   571   739   563   1470   4056    4667     22278   \n",
       "2004     963       306   377   371   737   1402   2661    5113     17932   \n",
       "2005    2445       578   442   331   313   1109   3093    5492     15823   \n",
       "2006    1593       691   499   176   298    870   2296    5105      9145   \n",
       "2007    2058       285   417   403   889   2774   5804   19547     27403   \n",
       "2008    1407       672   355   323   372   1010   2354    3418     10459   \n",
       "2009    1923       402   512   135    87    496   1856    3493      8801   \n",
       "2010    1513       692   651   379   836   2144   5176   13843     24257   \n",
       "2011     597       317   404   340   414   1592   2646    5665     16959   \n",
       "2012    1459       606   849   788  1188   2306   6419   16283     19031   \n",
       "2013     885       618   671   306   385   1137   2098    4065      9576   \n",
       "2014     868       196   347   321   482   1415   3475    8312      9606   \n",
       "2015    1240       396   377   378   439   1381   2662    8404     17949   \n",
       "2016     911       759   389   376   504   1281   3423    6704      6820   \n",
       "2017     671       237   276   236   350   1012   2737    5200     13025   \n",
       "2018     764       124   328   160   429   1355   2853    6135      8459   \n",
       "2019    1425       596   625   249   375   1295   2009    6276      9468   \n",
       "2020     670       358   198   251   391   1176   2817    3831      9927   \n",
       "\n",
       "      Outubro Novembro Dezembro   Total  \n",
       "Ano                                      \n",
       "2000    10018     3640     2023   24202  \n",
       "2001    14927     8736     2413   45025  \n",
       "2002    18400    15334     8249   72002  \n",
       "2003    20040    16441     9669   83336  \n",
       "2004    16286    19339    13306   78793  \n",
       "2005    23891    14851     8569   76937  \n",
       "2006     9959    12720     8203   51555  \n",
       "2007    23376    13910     7243  104109  \n",
       "2008    16631    15153     8842   60996  \n",
       "2009     7653    11908     6852   44118  \n",
       "2010    14937    12672     4333   81433  \n",
       "2011     8527     8497     6080   52038  \n",
       "2012    14700     5050     4154   72833  \n",
       "2013     7099     4466     4322   35628  \n",
       "2014    10504     5763     3672   44961  \n",
       "2015    16117     8278     6918   64539  \n",
       "2016    11450     7252     3332   43201  \n",
       "2017    11231     4753     4924   44652  \n",
       "2018     5988     4485     2511   33591  \n",
       "2019    10264     7506     4069   44157  \n",
       "2020    12132     5638     3463   40852  "
      ]
     },
     "execution_count": 15,
     "metadata": {},
     "output_type": "execute_result"
    }
   ],
   "source": [
    "#Criado uma nova coluna para o dado dos anos.\n",
    "df[\"Ano\"]= df[\"Unnamed: 0\"]\n",
    "df.drop(\"Unnamed: 0\", axis=1,inplace=True)\n",
    "df.set_index(\"Ano\")"
   ]
  },
  {
   "cell_type": "code",
   "execution_count": 16,
   "id": "56d812e2",
   "metadata": {
    "ExecuteTime": {
     "end_time": "2021-10-26T21:02:15.726046Z",
     "start_time": "2021-10-26T21:02:15.702188Z"
    }
   },
   "outputs": [
    {
     "data": {
      "text/plain": [
       "Janeiro      object\n",
       "Fevereiro    object\n",
       "Março        object\n",
       "Abril        object\n",
       "Maio         object\n",
       "Junho         int64\n",
       "Julho         int64\n",
       "Agosto        int64\n",
       "Setembro      int64\n",
       "Outubro       int64\n",
       "Novembro     object\n",
       "Dezembro     object\n",
       "Total         int64\n",
       "Ano          object\n",
       "dtype: object"
      ]
     },
     "execution_count": 16,
     "metadata": {},
     "output_type": "execute_result"
    }
   ],
   "source": [
    "#Verificanto o tipo dos dados colunares.\n",
    "df.dtypes"
   ]
  },
  {
   "cell_type": "code",
   "execution_count": 17,
   "id": "c0dd413b",
   "metadata": {
    "ExecuteTime": {
     "end_time": "2021-10-26T21:02:15.737413Z",
     "start_time": "2021-10-26T21:02:15.727795Z"
    }
   },
   "outputs": [],
   "source": [
    "#Fazendo uma mudança do tipo dos dados colunáres para inteiro.\n",
    "df.Janeiro = df.Janeiro.astype(\"int64\")\n",
    "df.Fevereiro = df.Fevereiro.astype(\"int64\")\n",
    "df.Março = df.Março.astype(\"int64\")\n",
    "df.Abril = df.Abril.astype(\"int64\")\n",
    "df.Maio = df.Maio.astype(\"int64\")\n",
    "df.Novembro = df.Novembro.astype(\"int64\")\n",
    "df.Dezembro = df.Dezembro.astype(\"int64\")\n",
    "\n",
    "#FAZER A MUDAÇA DOS DADOS DE ANO PARA DATA??\n",
    "df.Ano = df.Ano.astype(\"int64\")"
   ]
  },
  {
   "cell_type": "code",
   "execution_count": 18,
   "id": "e3424995",
   "metadata": {
    "ExecuteTime": {
     "end_time": "2021-10-26T21:02:15.747838Z",
     "start_time": "2021-10-26T21:02:15.738567Z"
    }
   },
   "outputs": [
    {
     "data": {
      "text/plain": [
       "Janeiro      int64\n",
       "Fevereiro    int64\n",
       "Março        int64\n",
       "Abril        int64\n",
       "Maio         int64\n",
       "Junho        int64\n",
       "Julho        int64\n",
       "Agosto       int64\n",
       "Setembro     int64\n",
       "Outubro      int64\n",
       "Novembro     int64\n",
       "Dezembro     int64\n",
       "Total        int64\n",
       "Ano          int64\n",
       "dtype: object"
      ]
     },
     "execution_count": 18,
     "metadata": {},
     "output_type": "execute_result"
    }
   ],
   "source": [
    "#Novos tipos dos dados colunáres.\n",
    "df.dtypes"
   ]
  },
  {
   "cell_type": "markdown",
   "id": "90e1cb35",
   "metadata": {},
   "source": [
    "### Criando um Dataframe transposto para facilitar a criação de alguns graficos e algumas análises"
   ]
  },
  {
   "cell_type": "code",
   "execution_count": 19,
   "id": "ebdb700b",
   "metadata": {
    "ExecuteTime": {
     "end_time": "2021-10-26T21:02:15.771005Z",
     "start_time": "2021-10-26T21:02:15.749641Z"
    }
   },
   "outputs": [
    {
     "data": {
      "text/html": [
       "<div>\n",
       "<style scoped>\n",
       "    .dataframe tbody tr th:only-of-type {\n",
       "        vertical-align: middle;\n",
       "    }\n",
       "\n",
       "    .dataframe tbody tr th {\n",
       "        vertical-align: top;\n",
       "    }\n",
       "\n",
       "    .dataframe thead th {\n",
       "        text-align: right;\n",
       "    }\n",
       "</style>\n",
       "<table border=\"1\" class=\"dataframe\">\n",
       "  <thead>\n",
       "    <tr style=\"text-align: right;\">\n",
       "      <th></th>\n",
       "      <th>2000</th>\n",
       "      <th>2001</th>\n",
       "      <th>2002</th>\n",
       "      <th>2003</th>\n",
       "      <th>2004</th>\n",
       "      <th>2005</th>\n",
       "      <th>2006</th>\n",
       "      <th>2007</th>\n",
       "      <th>2008</th>\n",
       "      <th>2009</th>\n",
       "      <th>...</th>\n",
       "      <th>2011</th>\n",
       "      <th>2012</th>\n",
       "      <th>2013</th>\n",
       "      <th>2014</th>\n",
       "      <th>2015</th>\n",
       "      <th>2016</th>\n",
       "      <th>2017</th>\n",
       "      <th>2018</th>\n",
       "      <th>2019</th>\n",
       "      <th>2020</th>\n",
       "    </tr>\n",
       "  </thead>\n",
       "  <tbody>\n",
       "    <tr>\n",
       "      <th>Janeiro</th>\n",
       "      <td>72</td>\n",
       "      <td>121</td>\n",
       "      <td>270</td>\n",
       "      <td>2326</td>\n",
       "      <td>963</td>\n",
       "      <td>2445</td>\n",
       "      <td>1593</td>\n",
       "      <td>2058</td>\n",
       "      <td>1407</td>\n",
       "      <td>1923</td>\n",
       "      <td>...</td>\n",
       "      <td>597</td>\n",
       "      <td>1459</td>\n",
       "      <td>885</td>\n",
       "      <td>868</td>\n",
       "      <td>1240</td>\n",
       "      <td>911</td>\n",
       "      <td>671</td>\n",
       "      <td>764</td>\n",
       "      <td>1425</td>\n",
       "      <td>670</td>\n",
       "    </tr>\n",
       "    <tr>\n",
       "      <th>Fevereiro</th>\n",
       "      <td>106</td>\n",
       "      <td>116</td>\n",
       "      <td>630</td>\n",
       "      <td>516</td>\n",
       "      <td>306</td>\n",
       "      <td>578</td>\n",
       "      <td>691</td>\n",
       "      <td>285</td>\n",
       "      <td>672</td>\n",
       "      <td>402</td>\n",
       "      <td>...</td>\n",
       "      <td>317</td>\n",
       "      <td>606</td>\n",
       "      <td>618</td>\n",
       "      <td>196</td>\n",
       "      <td>396</td>\n",
       "      <td>759</td>\n",
       "      <td>237</td>\n",
       "      <td>124</td>\n",
       "      <td>596</td>\n",
       "      <td>358</td>\n",
       "    </tr>\n",
       "    <tr>\n",
       "      <th>Março</th>\n",
       "      <td>162</td>\n",
       "      <td>7</td>\n",
       "      <td>306</td>\n",
       "      <td>571</td>\n",
       "      <td>377</td>\n",
       "      <td>442</td>\n",
       "      <td>499</td>\n",
       "      <td>417</td>\n",
       "      <td>355</td>\n",
       "      <td>512</td>\n",
       "      <td>...</td>\n",
       "      <td>404</td>\n",
       "      <td>849</td>\n",
       "      <td>671</td>\n",
       "      <td>347</td>\n",
       "      <td>377</td>\n",
       "      <td>389</td>\n",
       "      <td>276</td>\n",
       "      <td>328</td>\n",
       "      <td>625</td>\n",
       "      <td>198</td>\n",
       "    </tr>\n",
       "    <tr>\n",
       "      <th>Abril</th>\n",
       "      <td>99</td>\n",
       "      <td>43</td>\n",
       "      <td>253</td>\n",
       "      <td>739</td>\n",
       "      <td>371</td>\n",
       "      <td>331</td>\n",
       "      <td>176</td>\n",
       "      <td>403</td>\n",
       "      <td>323</td>\n",
       "      <td>135</td>\n",
       "      <td>...</td>\n",
       "      <td>340</td>\n",
       "      <td>788</td>\n",
       "      <td>306</td>\n",
       "      <td>321</td>\n",
       "      <td>378</td>\n",
       "      <td>376</td>\n",
       "      <td>236</td>\n",
       "      <td>160</td>\n",
       "      <td>249</td>\n",
       "      <td>251</td>\n",
       "    </tr>\n",
       "    <tr>\n",
       "      <th>Maio</th>\n",
       "      <td>142</td>\n",
       "      <td>292</td>\n",
       "      <td>350</td>\n",
       "      <td>563</td>\n",
       "      <td>737</td>\n",
       "      <td>313</td>\n",
       "      <td>298</td>\n",
       "      <td>889</td>\n",
       "      <td>372</td>\n",
       "      <td>87</td>\n",
       "      <td>...</td>\n",
       "      <td>414</td>\n",
       "      <td>1188</td>\n",
       "      <td>385</td>\n",
       "      <td>482</td>\n",
       "      <td>439</td>\n",
       "      <td>504</td>\n",
       "      <td>350</td>\n",
       "      <td>429</td>\n",
       "      <td>375</td>\n",
       "      <td>391</td>\n",
       "    </tr>\n",
       "    <tr>\n",
       "      <th>Junho</th>\n",
       "      <td>318</td>\n",
       "      <td>342</td>\n",
       "      <td>523</td>\n",
       "      <td>1470</td>\n",
       "      <td>1402</td>\n",
       "      <td>1109</td>\n",
       "      <td>870</td>\n",
       "      <td>2774</td>\n",
       "      <td>1010</td>\n",
       "      <td>496</td>\n",
       "      <td>...</td>\n",
       "      <td>1592</td>\n",
       "      <td>2306</td>\n",
       "      <td>1137</td>\n",
       "      <td>1415</td>\n",
       "      <td>1381</td>\n",
       "      <td>1281</td>\n",
       "      <td>1012</td>\n",
       "      <td>1355</td>\n",
       "      <td>1295</td>\n",
       "      <td>1176</td>\n",
       "    </tr>\n",
       "    <tr>\n",
       "      <th>Julho</th>\n",
       "      <td>531</td>\n",
       "      <td>1317</td>\n",
       "      <td>2901</td>\n",
       "      <td>4056</td>\n",
       "      <td>2661</td>\n",
       "      <td>3093</td>\n",
       "      <td>2296</td>\n",
       "      <td>5804</td>\n",
       "      <td>2354</td>\n",
       "      <td>1856</td>\n",
       "      <td>...</td>\n",
       "      <td>2646</td>\n",
       "      <td>6419</td>\n",
       "      <td>2098</td>\n",
       "      <td>3475</td>\n",
       "      <td>2662</td>\n",
       "      <td>3423</td>\n",
       "      <td>2737</td>\n",
       "      <td>2853</td>\n",
       "      <td>2009</td>\n",
       "      <td>2817</td>\n",
       "    </tr>\n",
       "    <tr>\n",
       "      <th>Agosto</th>\n",
       "      <td>2036</td>\n",
       "      <td>4485</td>\n",
       "      <td>8169</td>\n",
       "      <td>4667</td>\n",
       "      <td>5113</td>\n",
       "      <td>5492</td>\n",
       "      <td>5105</td>\n",
       "      <td>19547</td>\n",
       "      <td>3418</td>\n",
       "      <td>3493</td>\n",
       "      <td>...</td>\n",
       "      <td>5665</td>\n",
       "      <td>16283</td>\n",
       "      <td>4065</td>\n",
       "      <td>8312</td>\n",
       "      <td>8404</td>\n",
       "      <td>6704</td>\n",
       "      <td>5200</td>\n",
       "      <td>6135</td>\n",
       "      <td>6276</td>\n",
       "      <td>3831</td>\n",
       "    </tr>\n",
       "    <tr>\n",
       "      <th>Setembro</th>\n",
       "      <td>5055</td>\n",
       "      <td>12226</td>\n",
       "      <td>16617</td>\n",
       "      <td>22278</td>\n",
       "      <td>17932</td>\n",
       "      <td>15823</td>\n",
       "      <td>9145</td>\n",
       "      <td>27403</td>\n",
       "      <td>10459</td>\n",
       "      <td>8801</td>\n",
       "      <td>...</td>\n",
       "      <td>16959</td>\n",
       "      <td>19031</td>\n",
       "      <td>9576</td>\n",
       "      <td>9606</td>\n",
       "      <td>17949</td>\n",
       "      <td>6820</td>\n",
       "      <td>13025</td>\n",
       "      <td>8459</td>\n",
       "      <td>9468</td>\n",
       "      <td>9927</td>\n",
       "    </tr>\n",
       "    <tr>\n",
       "      <th>Outubro</th>\n",
       "      <td>10018</td>\n",
       "      <td>14927</td>\n",
       "      <td>18400</td>\n",
       "      <td>20040</td>\n",
       "      <td>16286</td>\n",
       "      <td>23891</td>\n",
       "      <td>9959</td>\n",
       "      <td>23376</td>\n",
       "      <td>16631</td>\n",
       "      <td>7653</td>\n",
       "      <td>...</td>\n",
       "      <td>8527</td>\n",
       "      <td>14700</td>\n",
       "      <td>7099</td>\n",
       "      <td>10504</td>\n",
       "      <td>16117</td>\n",
       "      <td>11450</td>\n",
       "      <td>11231</td>\n",
       "      <td>5988</td>\n",
       "      <td>10264</td>\n",
       "      <td>12132</td>\n",
       "    </tr>\n",
       "    <tr>\n",
       "      <th>Novembro</th>\n",
       "      <td>3640</td>\n",
       "      <td>8736</td>\n",
       "      <td>15334</td>\n",
       "      <td>16441</td>\n",
       "      <td>19339</td>\n",
       "      <td>14851</td>\n",
       "      <td>12720</td>\n",
       "      <td>13910</td>\n",
       "      <td>15153</td>\n",
       "      <td>11908</td>\n",
       "      <td>...</td>\n",
       "      <td>8497</td>\n",
       "      <td>5050</td>\n",
       "      <td>4466</td>\n",
       "      <td>5763</td>\n",
       "      <td>8278</td>\n",
       "      <td>7252</td>\n",
       "      <td>4753</td>\n",
       "      <td>4485</td>\n",
       "      <td>7506</td>\n",
       "      <td>5638</td>\n",
       "    </tr>\n",
       "    <tr>\n",
       "      <th>Dezembro</th>\n",
       "      <td>2023</td>\n",
       "      <td>2413</td>\n",
       "      <td>8249</td>\n",
       "      <td>9669</td>\n",
       "      <td>13306</td>\n",
       "      <td>8569</td>\n",
       "      <td>8203</td>\n",
       "      <td>7243</td>\n",
       "      <td>8842</td>\n",
       "      <td>6852</td>\n",
       "      <td>...</td>\n",
       "      <td>6080</td>\n",
       "      <td>4154</td>\n",
       "      <td>4322</td>\n",
       "      <td>3672</td>\n",
       "      <td>6918</td>\n",
       "      <td>3332</td>\n",
       "      <td>4924</td>\n",
       "      <td>2511</td>\n",
       "      <td>4069</td>\n",
       "      <td>3463</td>\n",
       "    </tr>\n",
       "  </tbody>\n",
       "</table>\n",
       "<p>12 rows × 21 columns</p>\n",
       "</div>"
      ],
      "text/plain": [
       "            2000   2001   2002   2003   2004   2005   2006   2007   2008  \\\n",
       "Janeiro       72    121    270   2326    963   2445   1593   2058   1407   \n",
       "Fevereiro    106    116    630    516    306    578    691    285    672   \n",
       "Março        162      7    306    571    377    442    499    417    355   \n",
       "Abril         99     43    253    739    371    331    176    403    323   \n",
       "Maio         142    292    350    563    737    313    298    889    372   \n",
       "Junho        318    342    523   1470   1402   1109    870   2774   1010   \n",
       "Julho        531   1317   2901   4056   2661   3093   2296   5804   2354   \n",
       "Agosto      2036   4485   8169   4667   5113   5492   5105  19547   3418   \n",
       "Setembro    5055  12226  16617  22278  17932  15823   9145  27403  10459   \n",
       "Outubro    10018  14927  18400  20040  16286  23891   9959  23376  16631   \n",
       "Novembro    3640   8736  15334  16441  19339  14851  12720  13910  15153   \n",
       "Dezembro    2023   2413   8249   9669  13306   8569   8203   7243   8842   \n",
       "\n",
       "            2009  ...   2011   2012  2013   2014   2015   2016   2017  2018  \\\n",
       "Janeiro     1923  ...    597   1459   885    868   1240    911    671   764   \n",
       "Fevereiro    402  ...    317    606   618    196    396    759    237   124   \n",
       "Março        512  ...    404    849   671    347    377    389    276   328   \n",
       "Abril        135  ...    340    788   306    321    378    376    236   160   \n",
       "Maio          87  ...    414   1188   385    482    439    504    350   429   \n",
       "Junho        496  ...   1592   2306  1137   1415   1381   1281   1012  1355   \n",
       "Julho       1856  ...   2646   6419  2098   3475   2662   3423   2737  2853   \n",
       "Agosto      3493  ...   5665  16283  4065   8312   8404   6704   5200  6135   \n",
       "Setembro    8801  ...  16959  19031  9576   9606  17949   6820  13025  8459   \n",
       "Outubro     7653  ...   8527  14700  7099  10504  16117  11450  11231  5988   \n",
       "Novembro   11908  ...   8497   5050  4466   5763   8278   7252   4753  4485   \n",
       "Dezembro    6852  ...   6080   4154  4322   3672   6918   3332   4924  2511   \n",
       "\n",
       "            2019   2020  \n",
       "Janeiro     1425    670  \n",
       "Fevereiro    596    358  \n",
       "Março        625    198  \n",
       "Abril        249    251  \n",
       "Maio         375    391  \n",
       "Junho       1295   1176  \n",
       "Julho       2009   2817  \n",
       "Agosto      6276   3831  \n",
       "Setembro    9468   9927  \n",
       "Outubro    10264  12132  \n",
       "Novembro    7506   5638  \n",
       "Dezembro    4069   3463  \n",
       "\n",
       "[12 rows x 21 columns]"
      ]
     },
     "execution_count": 19,
     "metadata": {},
     "output_type": "execute_result"
    }
   ],
   "source": [
    "df_transposta = df.T\n",
    "colunas = df_transposta.loc['Ano'].to_list()\n",
    "df_transposta.columns = colunas\n",
    "df_transposta.drop(['Total','Ano'], inplace=True)\n",
    "df_transposta\n",
    "#da pra usar esse dataframe para fazer os gráficos de Meses X N° de focos"
   ]
  },
  {
   "cell_type": "code",
   "execution_count": 20,
   "id": "7c5ab3d4",
   "metadata": {
    "ExecuteTime": {
     "end_time": "2021-10-26T21:02:15.839109Z",
     "start_time": "2021-10-26T21:02:15.772137Z"
    }
   },
   "outputs": [
    {
     "data": {
      "application/vnd.plotly.v1+json": {
       "config": {
        "plotlyServerURL": "https://plot.ly"
       },
       "data": [
        {
         "alignmentgroup": "True",
         "hovertemplate": "variable=0<br>index=%{x}<br>value=%{y}<extra></extra>",
         "legendgroup": "0",
         "marker": {
          "color": "#636efa",
          "pattern": {
           "shape": ""
          }
         },
         "name": "0",
         "offsetgroup": "0",
         "orientation": "v",
         "showlegend": true,
         "textposition": "auto",
         "type": "bar",
         "x": [
          2000,
          2001,
          2002,
          2003,
          2004,
          2005,
          2006,
          2007,
          2008,
          2009,
          2010,
          2011,
          2012,
          2013,
          2014,
          2015,
          2016,
          2017,
          2018,
          2019,
          2020
         ],
         "xaxis": "x",
         "y": [
          24202,
          45025,
          72002,
          83336,
          78793,
          76937,
          51555,
          104109,
          60996,
          44118,
          81433,
          52038,
          72833,
          35628,
          44961,
          64539,
          43201,
          44652,
          33591,
          44157,
          40852
         ],
         "yaxis": "y"
        }
       ],
       "layout": {
        "barmode": "relative",
        "legend": {
         "title": {
          "text": "Nº Focos"
         },
         "tracegroupgap": 0
        },
        "margin": {
         "t": 60
        },
        "showlegend": false,
        "template": {
         "data": {
          "bar": [
           {
            "error_x": {
             "color": "#2a3f5f"
            },
            "error_y": {
             "color": "#2a3f5f"
            },
            "marker": {
             "line": {
              "color": "#E5ECF6",
              "width": 0.5
             },
             "pattern": {
              "fillmode": "overlay",
              "size": 10,
              "solidity": 0.2
             }
            },
            "type": "bar"
           }
          ],
          "barpolar": [
           {
            "marker": {
             "line": {
              "color": "#E5ECF6",
              "width": 0.5
             },
             "pattern": {
              "fillmode": "overlay",
              "size": 10,
              "solidity": 0.2
             }
            },
            "type": "barpolar"
           }
          ],
          "carpet": [
           {
            "aaxis": {
             "endlinecolor": "#2a3f5f",
             "gridcolor": "white",
             "linecolor": "white",
             "minorgridcolor": "white",
             "startlinecolor": "#2a3f5f"
            },
            "baxis": {
             "endlinecolor": "#2a3f5f",
             "gridcolor": "white",
             "linecolor": "white",
             "minorgridcolor": "white",
             "startlinecolor": "#2a3f5f"
            },
            "type": "carpet"
           }
          ],
          "choropleth": [
           {
            "colorbar": {
             "outlinewidth": 0,
             "ticks": ""
            },
            "type": "choropleth"
           }
          ],
          "contour": [
           {
            "colorbar": {
             "outlinewidth": 0,
             "ticks": ""
            },
            "colorscale": [
             [
              0,
              "#0d0887"
             ],
             [
              0.1111111111111111,
              "#46039f"
             ],
             [
              0.2222222222222222,
              "#7201a8"
             ],
             [
              0.3333333333333333,
              "#9c179e"
             ],
             [
              0.4444444444444444,
              "#bd3786"
             ],
             [
              0.5555555555555556,
              "#d8576b"
             ],
             [
              0.6666666666666666,
              "#ed7953"
             ],
             [
              0.7777777777777778,
              "#fb9f3a"
             ],
             [
              0.8888888888888888,
              "#fdca26"
             ],
             [
              1,
              "#f0f921"
             ]
            ],
            "type": "contour"
           }
          ],
          "contourcarpet": [
           {
            "colorbar": {
             "outlinewidth": 0,
             "ticks": ""
            },
            "type": "contourcarpet"
           }
          ],
          "heatmap": [
           {
            "colorbar": {
             "outlinewidth": 0,
             "ticks": ""
            },
            "colorscale": [
             [
              0,
              "#0d0887"
             ],
             [
              0.1111111111111111,
              "#46039f"
             ],
             [
              0.2222222222222222,
              "#7201a8"
             ],
             [
              0.3333333333333333,
              "#9c179e"
             ],
             [
              0.4444444444444444,
              "#bd3786"
             ],
             [
              0.5555555555555556,
              "#d8576b"
             ],
             [
              0.6666666666666666,
              "#ed7953"
             ],
             [
              0.7777777777777778,
              "#fb9f3a"
             ],
             [
              0.8888888888888888,
              "#fdca26"
             ],
             [
              1,
              "#f0f921"
             ]
            ],
            "type": "heatmap"
           }
          ],
          "heatmapgl": [
           {
            "colorbar": {
             "outlinewidth": 0,
             "ticks": ""
            },
            "colorscale": [
             [
              0,
              "#0d0887"
             ],
             [
              0.1111111111111111,
              "#46039f"
             ],
             [
              0.2222222222222222,
              "#7201a8"
             ],
             [
              0.3333333333333333,
              "#9c179e"
             ],
             [
              0.4444444444444444,
              "#bd3786"
             ],
             [
              0.5555555555555556,
              "#d8576b"
             ],
             [
              0.6666666666666666,
              "#ed7953"
             ],
             [
              0.7777777777777778,
              "#fb9f3a"
             ],
             [
              0.8888888888888888,
              "#fdca26"
             ],
             [
              1,
              "#f0f921"
             ]
            ],
            "type": "heatmapgl"
           }
          ],
          "histogram": [
           {
            "marker": {
             "pattern": {
              "fillmode": "overlay",
              "size": 10,
              "solidity": 0.2
             }
            },
            "type": "histogram"
           }
          ],
          "histogram2d": [
           {
            "colorbar": {
             "outlinewidth": 0,
             "ticks": ""
            },
            "colorscale": [
             [
              0,
              "#0d0887"
             ],
             [
              0.1111111111111111,
              "#46039f"
             ],
             [
              0.2222222222222222,
              "#7201a8"
             ],
             [
              0.3333333333333333,
              "#9c179e"
             ],
             [
              0.4444444444444444,
              "#bd3786"
             ],
             [
              0.5555555555555556,
              "#d8576b"
             ],
             [
              0.6666666666666666,
              "#ed7953"
             ],
             [
              0.7777777777777778,
              "#fb9f3a"
             ],
             [
              0.8888888888888888,
              "#fdca26"
             ],
             [
              1,
              "#f0f921"
             ]
            ],
            "type": "histogram2d"
           }
          ],
          "histogram2dcontour": [
           {
            "colorbar": {
             "outlinewidth": 0,
             "ticks": ""
            },
            "colorscale": [
             [
              0,
              "#0d0887"
             ],
             [
              0.1111111111111111,
              "#46039f"
             ],
             [
              0.2222222222222222,
              "#7201a8"
             ],
             [
              0.3333333333333333,
              "#9c179e"
             ],
             [
              0.4444444444444444,
              "#bd3786"
             ],
             [
              0.5555555555555556,
              "#d8576b"
             ],
             [
              0.6666666666666666,
              "#ed7953"
             ],
             [
              0.7777777777777778,
              "#fb9f3a"
             ],
             [
              0.8888888888888888,
              "#fdca26"
             ],
             [
              1,
              "#f0f921"
             ]
            ],
            "type": "histogram2dcontour"
           }
          ],
          "mesh3d": [
           {
            "colorbar": {
             "outlinewidth": 0,
             "ticks": ""
            },
            "type": "mesh3d"
           }
          ],
          "parcoords": [
           {
            "line": {
             "colorbar": {
              "outlinewidth": 0,
              "ticks": ""
             }
            },
            "type": "parcoords"
           }
          ],
          "pie": [
           {
            "automargin": true,
            "type": "pie"
           }
          ],
          "scatter": [
           {
            "marker": {
             "colorbar": {
              "outlinewidth": 0,
              "ticks": ""
             }
            },
            "type": "scatter"
           }
          ],
          "scatter3d": [
           {
            "line": {
             "colorbar": {
              "outlinewidth": 0,
              "ticks": ""
             }
            },
            "marker": {
             "colorbar": {
              "outlinewidth": 0,
              "ticks": ""
             }
            },
            "type": "scatter3d"
           }
          ],
          "scattercarpet": [
           {
            "marker": {
             "colorbar": {
              "outlinewidth": 0,
              "ticks": ""
             }
            },
            "type": "scattercarpet"
           }
          ],
          "scattergeo": [
           {
            "marker": {
             "colorbar": {
              "outlinewidth": 0,
              "ticks": ""
             }
            },
            "type": "scattergeo"
           }
          ],
          "scattergl": [
           {
            "marker": {
             "colorbar": {
              "outlinewidth": 0,
              "ticks": ""
             }
            },
            "type": "scattergl"
           }
          ],
          "scattermapbox": [
           {
            "marker": {
             "colorbar": {
              "outlinewidth": 0,
              "ticks": ""
             }
            },
            "type": "scattermapbox"
           }
          ],
          "scatterpolar": [
           {
            "marker": {
             "colorbar": {
              "outlinewidth": 0,
              "ticks": ""
             }
            },
            "type": "scatterpolar"
           }
          ],
          "scatterpolargl": [
           {
            "marker": {
             "colorbar": {
              "outlinewidth": 0,
              "ticks": ""
             }
            },
            "type": "scatterpolargl"
           }
          ],
          "scatterternary": [
           {
            "marker": {
             "colorbar": {
              "outlinewidth": 0,
              "ticks": ""
             }
            },
            "type": "scatterternary"
           }
          ],
          "surface": [
           {
            "colorbar": {
             "outlinewidth": 0,
             "ticks": ""
            },
            "colorscale": [
             [
              0,
              "#0d0887"
             ],
             [
              0.1111111111111111,
              "#46039f"
             ],
             [
              0.2222222222222222,
              "#7201a8"
             ],
             [
              0.3333333333333333,
              "#9c179e"
             ],
             [
              0.4444444444444444,
              "#bd3786"
             ],
             [
              0.5555555555555556,
              "#d8576b"
             ],
             [
              0.6666666666666666,
              "#ed7953"
             ],
             [
              0.7777777777777778,
              "#fb9f3a"
             ],
             [
              0.8888888888888888,
              "#fdca26"
             ],
             [
              1,
              "#f0f921"
             ]
            ],
            "type": "surface"
           }
          ],
          "table": [
           {
            "cells": {
             "fill": {
              "color": "#EBF0F8"
             },
             "line": {
              "color": "white"
             }
            },
            "header": {
             "fill": {
              "color": "#C8D4E3"
             },
             "line": {
              "color": "white"
             }
            },
            "type": "table"
           }
          ]
         },
         "layout": {
          "annotationdefaults": {
           "arrowcolor": "#2a3f5f",
           "arrowhead": 0,
           "arrowwidth": 1
          },
          "autotypenumbers": "strict",
          "coloraxis": {
           "colorbar": {
            "outlinewidth": 0,
            "ticks": ""
           }
          },
          "colorscale": {
           "diverging": [
            [
             0,
             "#8e0152"
            ],
            [
             0.1,
             "#c51b7d"
            ],
            [
             0.2,
             "#de77ae"
            ],
            [
             0.3,
             "#f1b6da"
            ],
            [
             0.4,
             "#fde0ef"
            ],
            [
             0.5,
             "#f7f7f7"
            ],
            [
             0.6,
             "#e6f5d0"
            ],
            [
             0.7,
             "#b8e186"
            ],
            [
             0.8,
             "#7fbc41"
            ],
            [
             0.9,
             "#4d9221"
            ],
            [
             1,
             "#276419"
            ]
           ],
           "sequential": [
            [
             0,
             "#0d0887"
            ],
            [
             0.1111111111111111,
             "#46039f"
            ],
            [
             0.2222222222222222,
             "#7201a8"
            ],
            [
             0.3333333333333333,
             "#9c179e"
            ],
            [
             0.4444444444444444,
             "#bd3786"
            ],
            [
             0.5555555555555556,
             "#d8576b"
            ],
            [
             0.6666666666666666,
             "#ed7953"
            ],
            [
             0.7777777777777778,
             "#fb9f3a"
            ],
            [
             0.8888888888888888,
             "#fdca26"
            ],
            [
             1,
             "#f0f921"
            ]
           ],
           "sequentialminus": [
            [
             0,
             "#0d0887"
            ],
            [
             0.1111111111111111,
             "#46039f"
            ],
            [
             0.2222222222222222,
             "#7201a8"
            ],
            [
             0.3333333333333333,
             "#9c179e"
            ],
            [
             0.4444444444444444,
             "#bd3786"
            ],
            [
             0.5555555555555556,
             "#d8576b"
            ],
            [
             0.6666666666666666,
             "#ed7953"
            ],
            [
             0.7777777777777778,
             "#fb9f3a"
            ],
            [
             0.8888888888888888,
             "#fdca26"
            ],
            [
             1,
             "#f0f921"
            ]
           ]
          },
          "colorway": [
           "#636efa",
           "#EF553B",
           "#00cc96",
           "#ab63fa",
           "#FFA15A",
           "#19d3f3",
           "#FF6692",
           "#B6E880",
           "#FF97FF",
           "#FECB52"
          ],
          "font": {
           "color": "#2a3f5f"
          },
          "geo": {
           "bgcolor": "white",
           "lakecolor": "white",
           "landcolor": "#E5ECF6",
           "showlakes": true,
           "showland": true,
           "subunitcolor": "white"
          },
          "hoverlabel": {
           "align": "left"
          },
          "hovermode": "closest",
          "mapbox": {
           "style": "light"
          },
          "paper_bgcolor": "white",
          "plot_bgcolor": "#E5ECF6",
          "polar": {
           "angularaxis": {
            "gridcolor": "white",
            "linecolor": "white",
            "ticks": ""
           },
           "bgcolor": "#E5ECF6",
           "radialaxis": {
            "gridcolor": "white",
            "linecolor": "white",
            "ticks": ""
           }
          },
          "scene": {
           "xaxis": {
            "backgroundcolor": "#E5ECF6",
            "gridcolor": "white",
            "gridwidth": 2,
            "linecolor": "white",
            "showbackground": true,
            "ticks": "",
            "zerolinecolor": "white"
           },
           "yaxis": {
            "backgroundcolor": "#E5ECF6",
            "gridcolor": "white",
            "gridwidth": 2,
            "linecolor": "white",
            "showbackground": true,
            "ticks": "",
            "zerolinecolor": "white"
           },
           "zaxis": {
            "backgroundcolor": "#E5ECF6",
            "gridcolor": "white",
            "gridwidth": 2,
            "linecolor": "white",
            "showbackground": true,
            "ticks": "",
            "zerolinecolor": "white"
           }
          },
          "shapedefaults": {
           "line": {
            "color": "#2a3f5f"
           }
          },
          "ternary": {
           "aaxis": {
            "gridcolor": "white",
            "linecolor": "white",
            "ticks": ""
           },
           "baxis": {
            "gridcolor": "white",
            "linecolor": "white",
            "ticks": ""
           },
           "bgcolor": "#E5ECF6",
           "caxis": {
            "gridcolor": "white",
            "linecolor": "white",
            "ticks": ""
           }
          },
          "title": {
           "x": 0.05
          },
          "xaxis": {
           "automargin": true,
           "gridcolor": "white",
           "linecolor": "white",
           "ticks": "",
           "title": {
            "standoff": 15
           },
           "zerolinecolor": "white",
           "zerolinewidth": 2
          },
          "yaxis": {
           "automargin": true,
           "gridcolor": "white",
           "linecolor": "white",
           "ticks": "",
           "title": {
            "standoff": 15
           },
           "zerolinecolor": "white",
           "zerolinewidth": 2
          }
         }
        },
        "title": {
         "text": "Quantidade de focos de queimadas por anos"
        },
        "xaxis": {
         "anchor": "y",
         "domain": [
          0,
          1
         ],
         "title": {
          "text": "Anos"
         }
        },
        "yaxis": {
         "anchor": "x",
         "domain": [
          0,
          1
         ],
         "title": {
          "text": "Focos de queimadas"
         }
        }
       }
      },
      "text/html": [
       "<div>                            <div id=\"b3bed7e8-aa2b-4c12-9144-23de8ca7370d\" class=\"plotly-graph-div\" style=\"height:525px; width:100%;\"></div>            <script type=\"text/javascript\">                require([\"plotly\"], function(Plotly) {                    window.PLOTLYENV=window.PLOTLYENV || {};                                    if (document.getElementById(\"b3bed7e8-aa2b-4c12-9144-23de8ca7370d\")) {                    Plotly.newPlot(                        \"b3bed7e8-aa2b-4c12-9144-23de8ca7370d\",                        [{\"alignmentgroup\":\"True\",\"hovertemplate\":\"variable=0<br>index=%{x}<br>value=%{y}<extra></extra>\",\"legendgroup\":\"0\",\"marker\":{\"color\":\"#636efa\",\"pattern\":{\"shape\":\"\"}},\"name\":\"0\",\"offsetgroup\":\"0\",\"orientation\":\"v\",\"showlegend\":true,\"textposition\":\"auto\",\"type\":\"bar\",\"x\":[2000,2001,2002,2003,2004,2005,2006,2007,2008,2009,2010,2011,2012,2013,2014,2015,2016,2017,2018,2019,2020],\"xaxis\":\"x\",\"y\":[24202,45025,72002,83336,78793,76937,51555,104109,60996,44118,81433,52038,72833,35628,44961,64539,43201,44652,33591,44157,40852],\"yaxis\":\"y\"}],                        {\"barmode\":\"relative\",\"legend\":{\"title\":{\"text\":\"N\\u00ba Focos\"},\"tracegroupgap\":0},\"margin\":{\"t\":60},\"showlegend\":false,\"template\":{\"data\":{\"bar\":[{\"error_x\":{\"color\":\"#2a3f5f\"},\"error_y\":{\"color\":\"#2a3f5f\"},\"marker\":{\"line\":{\"color\":\"#E5ECF6\",\"width\":0.5},\"pattern\":{\"fillmode\":\"overlay\",\"size\":10,\"solidity\":0.2}},\"type\":\"bar\"}],\"barpolar\":[{\"marker\":{\"line\":{\"color\":\"#E5ECF6\",\"width\":0.5},\"pattern\":{\"fillmode\":\"overlay\",\"size\":10,\"solidity\":0.2}},\"type\":\"barpolar\"}],\"carpet\":[{\"aaxis\":{\"endlinecolor\":\"#2a3f5f\",\"gridcolor\":\"white\",\"linecolor\":\"white\",\"minorgridcolor\":\"white\",\"startlinecolor\":\"#2a3f5f\"},\"baxis\":{\"endlinecolor\":\"#2a3f5f\",\"gridcolor\":\"white\",\"linecolor\":\"white\",\"minorgridcolor\":\"white\",\"startlinecolor\":\"#2a3f5f\"},\"type\":\"carpet\"}],\"choropleth\":[{\"colorbar\":{\"outlinewidth\":0,\"ticks\":\"\"},\"type\":\"choropleth\"}],\"contour\":[{\"colorbar\":{\"outlinewidth\":0,\"ticks\":\"\"},\"colorscale\":[[0.0,\"#0d0887\"],[0.1111111111111111,\"#46039f\"],[0.2222222222222222,\"#7201a8\"],[0.3333333333333333,\"#9c179e\"],[0.4444444444444444,\"#bd3786\"],[0.5555555555555556,\"#d8576b\"],[0.6666666666666666,\"#ed7953\"],[0.7777777777777778,\"#fb9f3a\"],[0.8888888888888888,\"#fdca26\"],[1.0,\"#f0f921\"]],\"type\":\"contour\"}],\"contourcarpet\":[{\"colorbar\":{\"outlinewidth\":0,\"ticks\":\"\"},\"type\":\"contourcarpet\"}],\"heatmap\":[{\"colorbar\":{\"outlinewidth\":0,\"ticks\":\"\"},\"colorscale\":[[0.0,\"#0d0887\"],[0.1111111111111111,\"#46039f\"],[0.2222222222222222,\"#7201a8\"],[0.3333333333333333,\"#9c179e\"],[0.4444444444444444,\"#bd3786\"],[0.5555555555555556,\"#d8576b\"],[0.6666666666666666,\"#ed7953\"],[0.7777777777777778,\"#fb9f3a\"],[0.8888888888888888,\"#fdca26\"],[1.0,\"#f0f921\"]],\"type\":\"heatmap\"}],\"heatmapgl\":[{\"colorbar\":{\"outlinewidth\":0,\"ticks\":\"\"},\"colorscale\":[[0.0,\"#0d0887\"],[0.1111111111111111,\"#46039f\"],[0.2222222222222222,\"#7201a8\"],[0.3333333333333333,\"#9c179e\"],[0.4444444444444444,\"#bd3786\"],[0.5555555555555556,\"#d8576b\"],[0.6666666666666666,\"#ed7953\"],[0.7777777777777778,\"#fb9f3a\"],[0.8888888888888888,\"#fdca26\"],[1.0,\"#f0f921\"]],\"type\":\"heatmapgl\"}],\"histogram\":[{\"marker\":{\"pattern\":{\"fillmode\":\"overlay\",\"size\":10,\"solidity\":0.2}},\"type\":\"histogram\"}],\"histogram2d\":[{\"colorbar\":{\"outlinewidth\":0,\"ticks\":\"\"},\"colorscale\":[[0.0,\"#0d0887\"],[0.1111111111111111,\"#46039f\"],[0.2222222222222222,\"#7201a8\"],[0.3333333333333333,\"#9c179e\"],[0.4444444444444444,\"#bd3786\"],[0.5555555555555556,\"#d8576b\"],[0.6666666666666666,\"#ed7953\"],[0.7777777777777778,\"#fb9f3a\"],[0.8888888888888888,\"#fdca26\"],[1.0,\"#f0f921\"]],\"type\":\"histogram2d\"}],\"histogram2dcontour\":[{\"colorbar\":{\"outlinewidth\":0,\"ticks\":\"\"},\"colorscale\":[[0.0,\"#0d0887\"],[0.1111111111111111,\"#46039f\"],[0.2222222222222222,\"#7201a8\"],[0.3333333333333333,\"#9c179e\"],[0.4444444444444444,\"#bd3786\"],[0.5555555555555556,\"#d8576b\"],[0.6666666666666666,\"#ed7953\"],[0.7777777777777778,\"#fb9f3a\"],[0.8888888888888888,\"#fdca26\"],[1.0,\"#f0f921\"]],\"type\":\"histogram2dcontour\"}],\"mesh3d\":[{\"colorbar\":{\"outlinewidth\":0,\"ticks\":\"\"},\"type\":\"mesh3d\"}],\"parcoords\":[{\"line\":{\"colorbar\":{\"outlinewidth\":0,\"ticks\":\"\"}},\"type\":\"parcoords\"}],\"pie\":[{\"automargin\":true,\"type\":\"pie\"}],\"scatter\":[{\"marker\":{\"colorbar\":{\"outlinewidth\":0,\"ticks\":\"\"}},\"type\":\"scatter\"}],\"scatter3d\":[{\"line\":{\"colorbar\":{\"outlinewidth\":0,\"ticks\":\"\"}},\"marker\":{\"colorbar\":{\"outlinewidth\":0,\"ticks\":\"\"}},\"type\":\"scatter3d\"}],\"scattercarpet\":[{\"marker\":{\"colorbar\":{\"outlinewidth\":0,\"ticks\":\"\"}},\"type\":\"scattercarpet\"}],\"scattergeo\":[{\"marker\":{\"colorbar\":{\"outlinewidth\":0,\"ticks\":\"\"}},\"type\":\"scattergeo\"}],\"scattergl\":[{\"marker\":{\"colorbar\":{\"outlinewidth\":0,\"ticks\":\"\"}},\"type\":\"scattergl\"}],\"scattermapbox\":[{\"marker\":{\"colorbar\":{\"outlinewidth\":0,\"ticks\":\"\"}},\"type\":\"scattermapbox\"}],\"scatterpolar\":[{\"marker\":{\"colorbar\":{\"outlinewidth\":0,\"ticks\":\"\"}},\"type\":\"scatterpolar\"}],\"scatterpolargl\":[{\"marker\":{\"colorbar\":{\"outlinewidth\":0,\"ticks\":\"\"}},\"type\":\"scatterpolargl\"}],\"scatterternary\":[{\"marker\":{\"colorbar\":{\"outlinewidth\":0,\"ticks\":\"\"}},\"type\":\"scatterternary\"}],\"surface\":[{\"colorbar\":{\"outlinewidth\":0,\"ticks\":\"\"},\"colorscale\":[[0.0,\"#0d0887\"],[0.1111111111111111,\"#46039f\"],[0.2222222222222222,\"#7201a8\"],[0.3333333333333333,\"#9c179e\"],[0.4444444444444444,\"#bd3786\"],[0.5555555555555556,\"#d8576b\"],[0.6666666666666666,\"#ed7953\"],[0.7777777777777778,\"#fb9f3a\"],[0.8888888888888888,\"#fdca26\"],[1.0,\"#f0f921\"]],\"type\":\"surface\"}],\"table\":[{\"cells\":{\"fill\":{\"color\":\"#EBF0F8\"},\"line\":{\"color\":\"white\"}},\"header\":{\"fill\":{\"color\":\"#C8D4E3\"},\"line\":{\"color\":\"white\"}},\"type\":\"table\"}]},\"layout\":{\"annotationdefaults\":{\"arrowcolor\":\"#2a3f5f\",\"arrowhead\":0,\"arrowwidth\":1},\"autotypenumbers\":\"strict\",\"coloraxis\":{\"colorbar\":{\"outlinewidth\":0,\"ticks\":\"\"}},\"colorscale\":{\"diverging\":[[0,\"#8e0152\"],[0.1,\"#c51b7d\"],[0.2,\"#de77ae\"],[0.3,\"#f1b6da\"],[0.4,\"#fde0ef\"],[0.5,\"#f7f7f7\"],[0.6,\"#e6f5d0\"],[0.7,\"#b8e186\"],[0.8,\"#7fbc41\"],[0.9,\"#4d9221\"],[1,\"#276419\"]],\"sequential\":[[0.0,\"#0d0887\"],[0.1111111111111111,\"#46039f\"],[0.2222222222222222,\"#7201a8\"],[0.3333333333333333,\"#9c179e\"],[0.4444444444444444,\"#bd3786\"],[0.5555555555555556,\"#d8576b\"],[0.6666666666666666,\"#ed7953\"],[0.7777777777777778,\"#fb9f3a\"],[0.8888888888888888,\"#fdca26\"],[1.0,\"#f0f921\"]],\"sequentialminus\":[[0.0,\"#0d0887\"],[0.1111111111111111,\"#46039f\"],[0.2222222222222222,\"#7201a8\"],[0.3333333333333333,\"#9c179e\"],[0.4444444444444444,\"#bd3786\"],[0.5555555555555556,\"#d8576b\"],[0.6666666666666666,\"#ed7953\"],[0.7777777777777778,\"#fb9f3a\"],[0.8888888888888888,\"#fdca26\"],[1.0,\"#f0f921\"]]},\"colorway\":[\"#636efa\",\"#EF553B\",\"#00cc96\",\"#ab63fa\",\"#FFA15A\",\"#19d3f3\",\"#FF6692\",\"#B6E880\",\"#FF97FF\",\"#FECB52\"],\"font\":{\"color\":\"#2a3f5f\"},\"geo\":{\"bgcolor\":\"white\",\"lakecolor\":\"white\",\"landcolor\":\"#E5ECF6\",\"showlakes\":true,\"showland\":true,\"subunitcolor\":\"white\"},\"hoverlabel\":{\"align\":\"left\"},\"hovermode\":\"closest\",\"mapbox\":{\"style\":\"light\"},\"paper_bgcolor\":\"white\",\"plot_bgcolor\":\"#E5ECF6\",\"polar\":{\"angularaxis\":{\"gridcolor\":\"white\",\"linecolor\":\"white\",\"ticks\":\"\"},\"bgcolor\":\"#E5ECF6\",\"radialaxis\":{\"gridcolor\":\"white\",\"linecolor\":\"white\",\"ticks\":\"\"}},\"scene\":{\"xaxis\":{\"backgroundcolor\":\"#E5ECF6\",\"gridcolor\":\"white\",\"gridwidth\":2,\"linecolor\":\"white\",\"showbackground\":true,\"ticks\":\"\",\"zerolinecolor\":\"white\"},\"yaxis\":{\"backgroundcolor\":\"#E5ECF6\",\"gridcolor\":\"white\",\"gridwidth\":2,\"linecolor\":\"white\",\"showbackground\":true,\"ticks\":\"\",\"zerolinecolor\":\"white\"},\"zaxis\":{\"backgroundcolor\":\"#E5ECF6\",\"gridcolor\":\"white\",\"gridwidth\":2,\"linecolor\":\"white\",\"showbackground\":true,\"ticks\":\"\",\"zerolinecolor\":\"white\"}},\"shapedefaults\":{\"line\":{\"color\":\"#2a3f5f\"}},\"ternary\":{\"aaxis\":{\"gridcolor\":\"white\",\"linecolor\":\"white\",\"ticks\":\"\"},\"baxis\":{\"gridcolor\":\"white\",\"linecolor\":\"white\",\"ticks\":\"\"},\"bgcolor\":\"#E5ECF6\",\"caxis\":{\"gridcolor\":\"white\",\"linecolor\":\"white\",\"ticks\":\"\"}},\"title\":{\"x\":0.05},\"xaxis\":{\"automargin\":true,\"gridcolor\":\"white\",\"linecolor\":\"white\",\"ticks\":\"\",\"title\":{\"standoff\":15},\"zerolinecolor\":\"white\",\"zerolinewidth\":2},\"yaxis\":{\"automargin\":true,\"gridcolor\":\"white\",\"linecolor\":\"white\",\"ticks\":\"\",\"title\":{\"standoff\":15},\"zerolinecolor\":\"white\",\"zerolinewidth\":2}}},\"title\":{\"text\":\"Quantidade de focos de queimadas por anos\"},\"xaxis\":{\"anchor\":\"y\",\"domain\":[0.0,1.0],\"title\":{\"text\":\"Anos\"}},\"yaxis\":{\"anchor\":\"x\",\"domain\":[0.0,1.0],\"title\":{\"text\":\"Focos de queimadas\"}}},                        {\"responsive\": true}                    ).then(function(){\n",
       "                            \n",
       "var gd = document.getElementById('b3bed7e8-aa2b-4c12-9144-23de8ca7370d');\n",
       "var x = new MutationObserver(function (mutations, observer) {{\n",
       "        var display = window.getComputedStyle(gd).display;\n",
       "        if (!display || display === 'none') {{\n",
       "            console.log([gd, 'removed!']);\n",
       "            Plotly.purge(gd);\n",
       "            observer.disconnect();\n",
       "        }}\n",
       "}});\n",
       "\n",
       "// Listen for the removal of the full notebook cells\n",
       "var notebookContainer = gd.closest('#notebook-container');\n",
       "if (notebookContainer) {{\n",
       "    x.observe(notebookContainer, {childList: true});\n",
       "}}\n",
       "\n",
       "// Listen for the clearing of the current output cell\n",
       "var outputEl = gd.closest('.output');\n",
       "if (outputEl) {{\n",
       "    x.observe(outputEl, {childList: true});\n",
       "}}\n",
       "\n",
       "                        })                };                });            </script>        </div>"
      ]
     },
     "metadata": {},
     "output_type": "display_data"
    }
   ],
   "source": [
    "soma_anos = df_transposta.sum()\n",
    "figAnos = px.bar(soma_anos)\n",
    "figAnos.update_layout(\n",
    "    title = 'Quantidade de focos de queimadas por anos',\n",
    "    xaxis = dict(title='Anos'),\n",
    "    yaxis = dict(title='Focos de queimadas'),\n",
    "    legend_title = 'Nº Focos',\n",
    "    showlegend = False\n",
    ")\n",
    "\n",
    "max_anos = df_transposta.max()\n",
    "figMaxAnos = px.line(max_anos)\n",
    "figAnos.show()"
   ]
  },
  {
   "cell_type": "code",
   "execution_count": 50,
   "id": "850ac26e",
   "metadata": {
    "ExecuteTime": {
     "end_time": "2021-10-26T21:32:55.578147Z",
     "start_time": "2021-10-26T21:32:55.565697Z"
    }
   },
   "outputs": [
    {
     "data": {
      "text/plain": [
       "Int64Index([2000, 2001, 2002, 2003, 2004, 2005, 2006, 2007, 2008, 2009, 2010,\n",
       "            2011, 2012, 2013, 2014, 2015, 2016, 2017, 2018, 2019, 2020],\n",
       "           dtype='int64')"
      ]
     },
     "execution_count": 50,
     "metadata": {},
     "output_type": "execute_result"
    }
   ],
   "source": [
    "max_anos = df_transposta.columns\n",
    "max_anos"
   ]
  },
  {
   "cell_type": "code",
   "execution_count": 44,
   "id": "80003eff",
   "metadata": {
    "ExecuteTime": {
     "end_time": "2021-10-26T21:28:35.857130Z",
     "start_time": "2021-10-26T21:28:35.847146Z"
    }
   },
   "outputs": [],
   "source": [
    "soma_anos = df_transposta.sum()"
   ]
  },
  {
   "cell_type": "code",
   "execution_count": 60,
   "id": "246a9da5",
   "metadata": {
    "ExecuteTime": {
     "end_time": "2021-10-26T22:02:22.563558Z",
     "start_time": "2021-10-26T22:02:22.547016Z"
    }
   },
   "outputs": [
    {
     "data": {
      "application/vnd.plotly.v1+json": {
       "config": {
        "plotlyServerURL": "https://plot.ly"
       },
       "data": [
        {
         "name": "Total",
         "type": "bar",
         "x": [
          2000,
          2001,
          2002,
          2003,
          2004,
          2005,
          2006,
          2007,
          2008,
          2009,
          2010,
          2011,
          2012,
          2013,
          2014,
          2015,
          2016,
          2017,
          2018,
          2019,
          2020
         ],
         "y": [
          24202,
          45025,
          72002,
          83336,
          78793,
          76937,
          51555,
          104109,
          60996,
          44118,
          81433,
          52038,
          72833,
          35628,
          44961,
          64539,
          43201,
          44652,
          33591,
          44157,
          40852
         ]
        },
        {
         "mode": "lines+markers",
         "name": "Máximo",
         "type": "scatter",
         "x": [
          2000,
          2001,
          2002,
          2003,
          2004,
          2005,
          2006,
          2007,
          2008,
          2009,
          2010,
          2011,
          2012,
          2013,
          2014,
          2015,
          2016,
          2017,
          2018,
          2019,
          2020
         ],
         "y": [
          10018,
          14927,
          18400,
          22278,
          19339,
          23891,
          12720,
          27403,
          16631,
          11908,
          24257,
          16959,
          19031,
          9576,
          10504,
          17949,
          11450,
          13025,
          8459,
          10264,
          12132
         ]
        },
        {
         "mode": "lines+markers",
         "name": "Mínimo",
         "type": "scatter",
         "x": [
          2000,
          2001,
          2002,
          2003,
          2004,
          2005,
          2006,
          2007,
          2008,
          2009,
          2010,
          2011,
          2012,
          2013,
          2014,
          2015,
          2016,
          2017,
          2018,
          2019,
          2020
         ],
         "y": [
          72,
          7,
          253,
          516,
          306,
          313,
          176,
          285,
          323,
          87,
          379,
          317,
          606,
          306,
          196,
          377,
          376,
          236,
          124,
          249,
          198
         ]
        },
        {
         "mode": "lines+markers",
         "name": "Média",
         "type": "scatter",
         "x": [
          2000,
          2001,
          2002,
          2003,
          2004,
          2005,
          2006,
          2007,
          2008,
          2009,
          2010,
          2011,
          2012,
          2013,
          2014,
          2015,
          2016,
          2017,
          2018,
          2019,
          2020
         ],
         "y": [
          2016.8333333333333,
          3752.0833333333335,
          6000.166666666667,
          6944.666666666667,
          6566.083333333333,
          6411.416666666667,
          4296.25,
          8675.75,
          5083,
          3676.5,
          6786.083333333333,
          4336.5,
          6069.416666666667,
          2969,
          3746.75,
          5378.25,
          3600.0833333333335,
          3721,
          2799.25,
          3679.75,
          3404.3333333333335
         ]
        }
       ],
       "layout": {
        "template": {
         "data": {
          "bar": [
           {
            "error_x": {
             "color": "#2a3f5f"
            },
            "error_y": {
             "color": "#2a3f5f"
            },
            "marker": {
             "line": {
              "color": "#E5ECF6",
              "width": 0.5
             },
             "pattern": {
              "fillmode": "overlay",
              "size": 10,
              "solidity": 0.2
             }
            },
            "type": "bar"
           }
          ],
          "barpolar": [
           {
            "marker": {
             "line": {
              "color": "#E5ECF6",
              "width": 0.5
             },
             "pattern": {
              "fillmode": "overlay",
              "size": 10,
              "solidity": 0.2
             }
            },
            "type": "barpolar"
           }
          ],
          "carpet": [
           {
            "aaxis": {
             "endlinecolor": "#2a3f5f",
             "gridcolor": "white",
             "linecolor": "white",
             "minorgridcolor": "white",
             "startlinecolor": "#2a3f5f"
            },
            "baxis": {
             "endlinecolor": "#2a3f5f",
             "gridcolor": "white",
             "linecolor": "white",
             "minorgridcolor": "white",
             "startlinecolor": "#2a3f5f"
            },
            "type": "carpet"
           }
          ],
          "choropleth": [
           {
            "colorbar": {
             "outlinewidth": 0,
             "ticks": ""
            },
            "type": "choropleth"
           }
          ],
          "contour": [
           {
            "colorbar": {
             "outlinewidth": 0,
             "ticks": ""
            },
            "colorscale": [
             [
              0,
              "#0d0887"
             ],
             [
              0.1111111111111111,
              "#46039f"
             ],
             [
              0.2222222222222222,
              "#7201a8"
             ],
             [
              0.3333333333333333,
              "#9c179e"
             ],
             [
              0.4444444444444444,
              "#bd3786"
             ],
             [
              0.5555555555555556,
              "#d8576b"
             ],
             [
              0.6666666666666666,
              "#ed7953"
             ],
             [
              0.7777777777777778,
              "#fb9f3a"
             ],
             [
              0.8888888888888888,
              "#fdca26"
             ],
             [
              1,
              "#f0f921"
             ]
            ],
            "type": "contour"
           }
          ],
          "contourcarpet": [
           {
            "colorbar": {
             "outlinewidth": 0,
             "ticks": ""
            },
            "type": "contourcarpet"
           }
          ],
          "heatmap": [
           {
            "colorbar": {
             "outlinewidth": 0,
             "ticks": ""
            },
            "colorscale": [
             [
              0,
              "#0d0887"
             ],
             [
              0.1111111111111111,
              "#46039f"
             ],
             [
              0.2222222222222222,
              "#7201a8"
             ],
             [
              0.3333333333333333,
              "#9c179e"
             ],
             [
              0.4444444444444444,
              "#bd3786"
             ],
             [
              0.5555555555555556,
              "#d8576b"
             ],
             [
              0.6666666666666666,
              "#ed7953"
             ],
             [
              0.7777777777777778,
              "#fb9f3a"
             ],
             [
              0.8888888888888888,
              "#fdca26"
             ],
             [
              1,
              "#f0f921"
             ]
            ],
            "type": "heatmap"
           }
          ],
          "heatmapgl": [
           {
            "colorbar": {
             "outlinewidth": 0,
             "ticks": ""
            },
            "colorscale": [
             [
              0,
              "#0d0887"
             ],
             [
              0.1111111111111111,
              "#46039f"
             ],
             [
              0.2222222222222222,
              "#7201a8"
             ],
             [
              0.3333333333333333,
              "#9c179e"
             ],
             [
              0.4444444444444444,
              "#bd3786"
             ],
             [
              0.5555555555555556,
              "#d8576b"
             ],
             [
              0.6666666666666666,
              "#ed7953"
             ],
             [
              0.7777777777777778,
              "#fb9f3a"
             ],
             [
              0.8888888888888888,
              "#fdca26"
             ],
             [
              1,
              "#f0f921"
             ]
            ],
            "type": "heatmapgl"
           }
          ],
          "histogram": [
           {
            "marker": {
             "pattern": {
              "fillmode": "overlay",
              "size": 10,
              "solidity": 0.2
             }
            },
            "type": "histogram"
           }
          ],
          "histogram2d": [
           {
            "colorbar": {
             "outlinewidth": 0,
             "ticks": ""
            },
            "colorscale": [
             [
              0,
              "#0d0887"
             ],
             [
              0.1111111111111111,
              "#46039f"
             ],
             [
              0.2222222222222222,
              "#7201a8"
             ],
             [
              0.3333333333333333,
              "#9c179e"
             ],
             [
              0.4444444444444444,
              "#bd3786"
             ],
             [
              0.5555555555555556,
              "#d8576b"
             ],
             [
              0.6666666666666666,
              "#ed7953"
             ],
             [
              0.7777777777777778,
              "#fb9f3a"
             ],
             [
              0.8888888888888888,
              "#fdca26"
             ],
             [
              1,
              "#f0f921"
             ]
            ],
            "type": "histogram2d"
           }
          ],
          "histogram2dcontour": [
           {
            "colorbar": {
             "outlinewidth": 0,
             "ticks": ""
            },
            "colorscale": [
             [
              0,
              "#0d0887"
             ],
             [
              0.1111111111111111,
              "#46039f"
             ],
             [
              0.2222222222222222,
              "#7201a8"
             ],
             [
              0.3333333333333333,
              "#9c179e"
             ],
             [
              0.4444444444444444,
              "#bd3786"
             ],
             [
              0.5555555555555556,
              "#d8576b"
             ],
             [
              0.6666666666666666,
              "#ed7953"
             ],
             [
              0.7777777777777778,
              "#fb9f3a"
             ],
             [
              0.8888888888888888,
              "#fdca26"
             ],
             [
              1,
              "#f0f921"
             ]
            ],
            "type": "histogram2dcontour"
           }
          ],
          "mesh3d": [
           {
            "colorbar": {
             "outlinewidth": 0,
             "ticks": ""
            },
            "type": "mesh3d"
           }
          ],
          "parcoords": [
           {
            "line": {
             "colorbar": {
              "outlinewidth": 0,
              "ticks": ""
             }
            },
            "type": "parcoords"
           }
          ],
          "pie": [
           {
            "automargin": true,
            "type": "pie"
           }
          ],
          "scatter": [
           {
            "marker": {
             "colorbar": {
              "outlinewidth": 0,
              "ticks": ""
             }
            },
            "type": "scatter"
           }
          ],
          "scatter3d": [
           {
            "line": {
             "colorbar": {
              "outlinewidth": 0,
              "ticks": ""
             }
            },
            "marker": {
             "colorbar": {
              "outlinewidth": 0,
              "ticks": ""
             }
            },
            "type": "scatter3d"
           }
          ],
          "scattercarpet": [
           {
            "marker": {
             "colorbar": {
              "outlinewidth": 0,
              "ticks": ""
             }
            },
            "type": "scattercarpet"
           }
          ],
          "scattergeo": [
           {
            "marker": {
             "colorbar": {
              "outlinewidth": 0,
              "ticks": ""
             }
            },
            "type": "scattergeo"
           }
          ],
          "scattergl": [
           {
            "marker": {
             "colorbar": {
              "outlinewidth": 0,
              "ticks": ""
             }
            },
            "type": "scattergl"
           }
          ],
          "scattermapbox": [
           {
            "marker": {
             "colorbar": {
              "outlinewidth": 0,
              "ticks": ""
             }
            },
            "type": "scattermapbox"
           }
          ],
          "scatterpolar": [
           {
            "marker": {
             "colorbar": {
              "outlinewidth": 0,
              "ticks": ""
             }
            },
            "type": "scatterpolar"
           }
          ],
          "scatterpolargl": [
           {
            "marker": {
             "colorbar": {
              "outlinewidth": 0,
              "ticks": ""
             }
            },
            "type": "scatterpolargl"
           }
          ],
          "scatterternary": [
           {
            "marker": {
             "colorbar": {
              "outlinewidth": 0,
              "ticks": ""
             }
            },
            "type": "scatterternary"
           }
          ],
          "surface": [
           {
            "colorbar": {
             "outlinewidth": 0,
             "ticks": ""
            },
            "colorscale": [
             [
              0,
              "#0d0887"
             ],
             [
              0.1111111111111111,
              "#46039f"
             ],
             [
              0.2222222222222222,
              "#7201a8"
             ],
             [
              0.3333333333333333,
              "#9c179e"
             ],
             [
              0.4444444444444444,
              "#bd3786"
             ],
             [
              0.5555555555555556,
              "#d8576b"
             ],
             [
              0.6666666666666666,
              "#ed7953"
             ],
             [
              0.7777777777777778,
              "#fb9f3a"
             ],
             [
              0.8888888888888888,
              "#fdca26"
             ],
             [
              1,
              "#f0f921"
             ]
            ],
            "type": "surface"
           }
          ],
          "table": [
           {
            "cells": {
             "fill": {
              "color": "#EBF0F8"
             },
             "line": {
              "color": "white"
             }
            },
            "header": {
             "fill": {
              "color": "#C8D4E3"
             },
             "line": {
              "color": "white"
             }
            },
            "type": "table"
           }
          ]
         },
         "layout": {
          "annotationdefaults": {
           "arrowcolor": "#2a3f5f",
           "arrowhead": 0,
           "arrowwidth": 1
          },
          "autotypenumbers": "strict",
          "coloraxis": {
           "colorbar": {
            "outlinewidth": 0,
            "ticks": ""
           }
          },
          "colorscale": {
           "diverging": [
            [
             0,
             "#8e0152"
            ],
            [
             0.1,
             "#c51b7d"
            ],
            [
             0.2,
             "#de77ae"
            ],
            [
             0.3,
             "#f1b6da"
            ],
            [
             0.4,
             "#fde0ef"
            ],
            [
             0.5,
             "#f7f7f7"
            ],
            [
             0.6,
             "#e6f5d0"
            ],
            [
             0.7,
             "#b8e186"
            ],
            [
             0.8,
             "#7fbc41"
            ],
            [
             0.9,
             "#4d9221"
            ],
            [
             1,
             "#276419"
            ]
           ],
           "sequential": [
            [
             0,
             "#0d0887"
            ],
            [
             0.1111111111111111,
             "#46039f"
            ],
            [
             0.2222222222222222,
             "#7201a8"
            ],
            [
             0.3333333333333333,
             "#9c179e"
            ],
            [
             0.4444444444444444,
             "#bd3786"
            ],
            [
             0.5555555555555556,
             "#d8576b"
            ],
            [
             0.6666666666666666,
             "#ed7953"
            ],
            [
             0.7777777777777778,
             "#fb9f3a"
            ],
            [
             0.8888888888888888,
             "#fdca26"
            ],
            [
             1,
             "#f0f921"
            ]
           ],
           "sequentialminus": [
            [
             0,
             "#0d0887"
            ],
            [
             0.1111111111111111,
             "#46039f"
            ],
            [
             0.2222222222222222,
             "#7201a8"
            ],
            [
             0.3333333333333333,
             "#9c179e"
            ],
            [
             0.4444444444444444,
             "#bd3786"
            ],
            [
             0.5555555555555556,
             "#d8576b"
            ],
            [
             0.6666666666666666,
             "#ed7953"
            ],
            [
             0.7777777777777778,
             "#fb9f3a"
            ],
            [
             0.8888888888888888,
             "#fdca26"
            ],
            [
             1,
             "#f0f921"
            ]
           ]
          },
          "colorway": [
           "#636efa",
           "#EF553B",
           "#00cc96",
           "#ab63fa",
           "#FFA15A",
           "#19d3f3",
           "#FF6692",
           "#B6E880",
           "#FF97FF",
           "#FECB52"
          ],
          "font": {
           "color": "#2a3f5f"
          },
          "geo": {
           "bgcolor": "white",
           "lakecolor": "white",
           "landcolor": "#E5ECF6",
           "showlakes": true,
           "showland": true,
           "subunitcolor": "white"
          },
          "hoverlabel": {
           "align": "left"
          },
          "hovermode": "closest",
          "mapbox": {
           "style": "light"
          },
          "paper_bgcolor": "white",
          "plot_bgcolor": "#E5ECF6",
          "polar": {
           "angularaxis": {
            "gridcolor": "white",
            "linecolor": "white",
            "ticks": ""
           },
           "bgcolor": "#E5ECF6",
           "radialaxis": {
            "gridcolor": "white",
            "linecolor": "white",
            "ticks": ""
           }
          },
          "scene": {
           "xaxis": {
            "backgroundcolor": "#E5ECF6",
            "gridcolor": "white",
            "gridwidth": 2,
            "linecolor": "white",
            "showbackground": true,
            "ticks": "",
            "zerolinecolor": "white"
           },
           "yaxis": {
            "backgroundcolor": "#E5ECF6",
            "gridcolor": "white",
            "gridwidth": 2,
            "linecolor": "white",
            "showbackground": true,
            "ticks": "",
            "zerolinecolor": "white"
           },
           "zaxis": {
            "backgroundcolor": "#E5ECF6",
            "gridcolor": "white",
            "gridwidth": 2,
            "linecolor": "white",
            "showbackground": true,
            "ticks": "",
            "zerolinecolor": "white"
           }
          },
          "shapedefaults": {
           "line": {
            "color": "#2a3f5f"
           }
          },
          "ternary": {
           "aaxis": {
            "gridcolor": "white",
            "linecolor": "white",
            "ticks": ""
           },
           "baxis": {
            "gridcolor": "white",
            "linecolor": "white",
            "ticks": ""
           },
           "bgcolor": "#E5ECF6",
           "caxis": {
            "gridcolor": "white",
            "linecolor": "white",
            "ticks": ""
           }
          },
          "title": {
           "x": 0.05
          },
          "xaxis": {
           "automargin": true,
           "gridcolor": "white",
           "linecolor": "white",
           "ticks": "",
           "title": {
            "standoff": 15
           },
           "zerolinecolor": "white",
           "zerolinewidth": 2
          },
          "yaxis": {
           "automargin": true,
           "gridcolor": "white",
           "linecolor": "white",
           "ticks": "",
           "title": {
            "standoff": 15
           },
           "zerolinecolor": "white",
           "zerolinewidth": 2
          }
         }
        },
        "title": {
         "text": "Não sei qual título adequado"
        }
       }
      },
      "text/html": [
       "<div>                            <div id=\"4cfba9e6-b480-4b66-b810-9eaced4bd7e6\" class=\"plotly-graph-div\" style=\"height:525px; width:100%;\"></div>            <script type=\"text/javascript\">                require([\"plotly\"], function(Plotly) {                    window.PLOTLYENV=window.PLOTLYENV || {};                                    if (document.getElementById(\"4cfba9e6-b480-4b66-b810-9eaced4bd7e6\")) {                    Plotly.newPlot(                        \"4cfba9e6-b480-4b66-b810-9eaced4bd7e6\",                        [{\"name\":\"Total\",\"type\":\"bar\",\"x\":[2000,2001,2002,2003,2004,2005,2006,2007,2008,2009,2010,2011,2012,2013,2014,2015,2016,2017,2018,2019,2020],\"y\":[24202,45025,72002,83336,78793,76937,51555,104109,60996,44118,81433,52038,72833,35628,44961,64539,43201,44652,33591,44157,40852]},{\"mode\":\"lines+markers\",\"name\":\"M\\u00e1ximo\",\"type\":\"scatter\",\"x\":[2000,2001,2002,2003,2004,2005,2006,2007,2008,2009,2010,2011,2012,2013,2014,2015,2016,2017,2018,2019,2020],\"y\":[10018,14927,18400,22278,19339,23891,12720,27403,16631,11908,24257,16959,19031,9576,10504,17949,11450,13025,8459,10264,12132]},{\"mode\":\"lines+markers\",\"name\":\"M\\u00ednimo\",\"type\":\"scatter\",\"x\":[2000,2001,2002,2003,2004,2005,2006,2007,2008,2009,2010,2011,2012,2013,2014,2015,2016,2017,2018,2019,2020],\"y\":[72,7,253,516,306,313,176,285,323,87,379,317,606,306,196,377,376,236,124,249,198]},{\"mode\":\"lines+markers\",\"name\":\"M\\u00e9dia\",\"type\":\"scatter\",\"x\":[2000,2001,2002,2003,2004,2005,2006,2007,2008,2009,2010,2011,2012,2013,2014,2015,2016,2017,2018,2019,2020],\"y\":[2016.8333333333333,3752.0833333333335,6000.166666666667,6944.666666666667,6566.083333333333,6411.416666666667,4296.25,8675.75,5083.0,3676.5,6786.083333333333,4336.5,6069.416666666667,2969.0,3746.75,5378.25,3600.0833333333335,3721.0,2799.25,3679.75,3404.3333333333335]}],                        {\"template\":{\"data\":{\"bar\":[{\"error_x\":{\"color\":\"#2a3f5f\"},\"error_y\":{\"color\":\"#2a3f5f\"},\"marker\":{\"line\":{\"color\":\"#E5ECF6\",\"width\":0.5},\"pattern\":{\"fillmode\":\"overlay\",\"size\":10,\"solidity\":0.2}},\"type\":\"bar\"}],\"barpolar\":[{\"marker\":{\"line\":{\"color\":\"#E5ECF6\",\"width\":0.5},\"pattern\":{\"fillmode\":\"overlay\",\"size\":10,\"solidity\":0.2}},\"type\":\"barpolar\"}],\"carpet\":[{\"aaxis\":{\"endlinecolor\":\"#2a3f5f\",\"gridcolor\":\"white\",\"linecolor\":\"white\",\"minorgridcolor\":\"white\",\"startlinecolor\":\"#2a3f5f\"},\"baxis\":{\"endlinecolor\":\"#2a3f5f\",\"gridcolor\":\"white\",\"linecolor\":\"white\",\"minorgridcolor\":\"white\",\"startlinecolor\":\"#2a3f5f\"},\"type\":\"carpet\"}],\"choropleth\":[{\"colorbar\":{\"outlinewidth\":0,\"ticks\":\"\"},\"type\":\"choropleth\"}],\"contour\":[{\"colorbar\":{\"outlinewidth\":0,\"ticks\":\"\"},\"colorscale\":[[0.0,\"#0d0887\"],[0.1111111111111111,\"#46039f\"],[0.2222222222222222,\"#7201a8\"],[0.3333333333333333,\"#9c179e\"],[0.4444444444444444,\"#bd3786\"],[0.5555555555555556,\"#d8576b\"],[0.6666666666666666,\"#ed7953\"],[0.7777777777777778,\"#fb9f3a\"],[0.8888888888888888,\"#fdca26\"],[1.0,\"#f0f921\"]],\"type\":\"contour\"}],\"contourcarpet\":[{\"colorbar\":{\"outlinewidth\":0,\"ticks\":\"\"},\"type\":\"contourcarpet\"}],\"heatmap\":[{\"colorbar\":{\"outlinewidth\":0,\"ticks\":\"\"},\"colorscale\":[[0.0,\"#0d0887\"],[0.1111111111111111,\"#46039f\"],[0.2222222222222222,\"#7201a8\"],[0.3333333333333333,\"#9c179e\"],[0.4444444444444444,\"#bd3786\"],[0.5555555555555556,\"#d8576b\"],[0.6666666666666666,\"#ed7953\"],[0.7777777777777778,\"#fb9f3a\"],[0.8888888888888888,\"#fdca26\"],[1.0,\"#f0f921\"]],\"type\":\"heatmap\"}],\"heatmapgl\":[{\"colorbar\":{\"outlinewidth\":0,\"ticks\":\"\"},\"colorscale\":[[0.0,\"#0d0887\"],[0.1111111111111111,\"#46039f\"],[0.2222222222222222,\"#7201a8\"],[0.3333333333333333,\"#9c179e\"],[0.4444444444444444,\"#bd3786\"],[0.5555555555555556,\"#d8576b\"],[0.6666666666666666,\"#ed7953\"],[0.7777777777777778,\"#fb9f3a\"],[0.8888888888888888,\"#fdca26\"],[1.0,\"#f0f921\"]],\"type\":\"heatmapgl\"}],\"histogram\":[{\"marker\":{\"pattern\":{\"fillmode\":\"overlay\",\"size\":10,\"solidity\":0.2}},\"type\":\"histogram\"}],\"histogram2d\":[{\"colorbar\":{\"outlinewidth\":0,\"ticks\":\"\"},\"colorscale\":[[0.0,\"#0d0887\"],[0.1111111111111111,\"#46039f\"],[0.2222222222222222,\"#7201a8\"],[0.3333333333333333,\"#9c179e\"],[0.4444444444444444,\"#bd3786\"],[0.5555555555555556,\"#d8576b\"],[0.6666666666666666,\"#ed7953\"],[0.7777777777777778,\"#fb9f3a\"],[0.8888888888888888,\"#fdca26\"],[1.0,\"#f0f921\"]],\"type\":\"histogram2d\"}],\"histogram2dcontour\":[{\"colorbar\":{\"outlinewidth\":0,\"ticks\":\"\"},\"colorscale\":[[0.0,\"#0d0887\"],[0.1111111111111111,\"#46039f\"],[0.2222222222222222,\"#7201a8\"],[0.3333333333333333,\"#9c179e\"],[0.4444444444444444,\"#bd3786\"],[0.5555555555555556,\"#d8576b\"],[0.6666666666666666,\"#ed7953\"],[0.7777777777777778,\"#fb9f3a\"],[0.8888888888888888,\"#fdca26\"],[1.0,\"#f0f921\"]],\"type\":\"histogram2dcontour\"}],\"mesh3d\":[{\"colorbar\":{\"outlinewidth\":0,\"ticks\":\"\"},\"type\":\"mesh3d\"}],\"parcoords\":[{\"line\":{\"colorbar\":{\"outlinewidth\":0,\"ticks\":\"\"}},\"type\":\"parcoords\"}],\"pie\":[{\"automargin\":true,\"type\":\"pie\"}],\"scatter\":[{\"marker\":{\"colorbar\":{\"outlinewidth\":0,\"ticks\":\"\"}},\"type\":\"scatter\"}],\"scatter3d\":[{\"line\":{\"colorbar\":{\"outlinewidth\":0,\"ticks\":\"\"}},\"marker\":{\"colorbar\":{\"outlinewidth\":0,\"ticks\":\"\"}},\"type\":\"scatter3d\"}],\"scattercarpet\":[{\"marker\":{\"colorbar\":{\"outlinewidth\":0,\"ticks\":\"\"}},\"type\":\"scattercarpet\"}],\"scattergeo\":[{\"marker\":{\"colorbar\":{\"outlinewidth\":0,\"ticks\":\"\"}},\"type\":\"scattergeo\"}],\"scattergl\":[{\"marker\":{\"colorbar\":{\"outlinewidth\":0,\"ticks\":\"\"}},\"type\":\"scattergl\"}],\"scattermapbox\":[{\"marker\":{\"colorbar\":{\"outlinewidth\":0,\"ticks\":\"\"}},\"type\":\"scattermapbox\"}],\"scatterpolar\":[{\"marker\":{\"colorbar\":{\"outlinewidth\":0,\"ticks\":\"\"}},\"type\":\"scatterpolar\"}],\"scatterpolargl\":[{\"marker\":{\"colorbar\":{\"outlinewidth\":0,\"ticks\":\"\"}},\"type\":\"scatterpolargl\"}],\"scatterternary\":[{\"marker\":{\"colorbar\":{\"outlinewidth\":0,\"ticks\":\"\"}},\"type\":\"scatterternary\"}],\"surface\":[{\"colorbar\":{\"outlinewidth\":0,\"ticks\":\"\"},\"colorscale\":[[0.0,\"#0d0887\"],[0.1111111111111111,\"#46039f\"],[0.2222222222222222,\"#7201a8\"],[0.3333333333333333,\"#9c179e\"],[0.4444444444444444,\"#bd3786\"],[0.5555555555555556,\"#d8576b\"],[0.6666666666666666,\"#ed7953\"],[0.7777777777777778,\"#fb9f3a\"],[0.8888888888888888,\"#fdca26\"],[1.0,\"#f0f921\"]],\"type\":\"surface\"}],\"table\":[{\"cells\":{\"fill\":{\"color\":\"#EBF0F8\"},\"line\":{\"color\":\"white\"}},\"header\":{\"fill\":{\"color\":\"#C8D4E3\"},\"line\":{\"color\":\"white\"}},\"type\":\"table\"}]},\"layout\":{\"annotationdefaults\":{\"arrowcolor\":\"#2a3f5f\",\"arrowhead\":0,\"arrowwidth\":1},\"autotypenumbers\":\"strict\",\"coloraxis\":{\"colorbar\":{\"outlinewidth\":0,\"ticks\":\"\"}},\"colorscale\":{\"diverging\":[[0,\"#8e0152\"],[0.1,\"#c51b7d\"],[0.2,\"#de77ae\"],[0.3,\"#f1b6da\"],[0.4,\"#fde0ef\"],[0.5,\"#f7f7f7\"],[0.6,\"#e6f5d0\"],[0.7,\"#b8e186\"],[0.8,\"#7fbc41\"],[0.9,\"#4d9221\"],[1,\"#276419\"]],\"sequential\":[[0.0,\"#0d0887\"],[0.1111111111111111,\"#46039f\"],[0.2222222222222222,\"#7201a8\"],[0.3333333333333333,\"#9c179e\"],[0.4444444444444444,\"#bd3786\"],[0.5555555555555556,\"#d8576b\"],[0.6666666666666666,\"#ed7953\"],[0.7777777777777778,\"#fb9f3a\"],[0.8888888888888888,\"#fdca26\"],[1.0,\"#f0f921\"]],\"sequentialminus\":[[0.0,\"#0d0887\"],[0.1111111111111111,\"#46039f\"],[0.2222222222222222,\"#7201a8\"],[0.3333333333333333,\"#9c179e\"],[0.4444444444444444,\"#bd3786\"],[0.5555555555555556,\"#d8576b\"],[0.6666666666666666,\"#ed7953\"],[0.7777777777777778,\"#fb9f3a\"],[0.8888888888888888,\"#fdca26\"],[1.0,\"#f0f921\"]]},\"colorway\":[\"#636efa\",\"#EF553B\",\"#00cc96\",\"#ab63fa\",\"#FFA15A\",\"#19d3f3\",\"#FF6692\",\"#B6E880\",\"#FF97FF\",\"#FECB52\"],\"font\":{\"color\":\"#2a3f5f\"},\"geo\":{\"bgcolor\":\"white\",\"lakecolor\":\"white\",\"landcolor\":\"#E5ECF6\",\"showlakes\":true,\"showland\":true,\"subunitcolor\":\"white\"},\"hoverlabel\":{\"align\":\"left\"},\"hovermode\":\"closest\",\"mapbox\":{\"style\":\"light\"},\"paper_bgcolor\":\"white\",\"plot_bgcolor\":\"#E5ECF6\",\"polar\":{\"angularaxis\":{\"gridcolor\":\"white\",\"linecolor\":\"white\",\"ticks\":\"\"},\"bgcolor\":\"#E5ECF6\",\"radialaxis\":{\"gridcolor\":\"white\",\"linecolor\":\"white\",\"ticks\":\"\"}},\"scene\":{\"xaxis\":{\"backgroundcolor\":\"#E5ECF6\",\"gridcolor\":\"white\",\"gridwidth\":2,\"linecolor\":\"white\",\"showbackground\":true,\"ticks\":\"\",\"zerolinecolor\":\"white\"},\"yaxis\":{\"backgroundcolor\":\"#E5ECF6\",\"gridcolor\":\"white\",\"gridwidth\":2,\"linecolor\":\"white\",\"showbackground\":true,\"ticks\":\"\",\"zerolinecolor\":\"white\"},\"zaxis\":{\"backgroundcolor\":\"#E5ECF6\",\"gridcolor\":\"white\",\"gridwidth\":2,\"linecolor\":\"white\",\"showbackground\":true,\"ticks\":\"\",\"zerolinecolor\":\"white\"}},\"shapedefaults\":{\"line\":{\"color\":\"#2a3f5f\"}},\"ternary\":{\"aaxis\":{\"gridcolor\":\"white\",\"linecolor\":\"white\",\"ticks\":\"\"},\"baxis\":{\"gridcolor\":\"white\",\"linecolor\":\"white\",\"ticks\":\"\"},\"bgcolor\":\"#E5ECF6\",\"caxis\":{\"gridcolor\":\"white\",\"linecolor\":\"white\",\"ticks\":\"\"}},\"title\":{\"x\":0.05},\"xaxis\":{\"automargin\":true,\"gridcolor\":\"white\",\"linecolor\":\"white\",\"ticks\":\"\",\"title\":{\"standoff\":15},\"zerolinecolor\":\"white\",\"zerolinewidth\":2},\"yaxis\":{\"automargin\":true,\"gridcolor\":\"white\",\"linecolor\":\"white\",\"ticks\":\"\",\"title\":{\"standoff\":15},\"zerolinecolor\":\"white\",\"zerolinewidth\":2}}},\"title\":{\"text\":\"N\\u00e3o sei qual t\\u00edtulo adequado\"}},                        {\"responsive\": true}                    ).then(function(){\n",
       "                            \n",
       "var gd = document.getElementById('4cfba9e6-b480-4b66-b810-9eaced4bd7e6');\n",
       "var x = new MutationObserver(function (mutations, observer) {{\n",
       "        var display = window.getComputedStyle(gd).display;\n",
       "        if (!display || display === 'none') {{\n",
       "            console.log([gd, 'removed!']);\n",
       "            Plotly.purge(gd);\n",
       "            observer.disconnect();\n",
       "        }}\n",
       "}});\n",
       "\n",
       "// Listen for the removal of the full notebook cells\n",
       "var notebookContainer = gd.closest('#notebook-container');\n",
       "if (notebookContainer) {{\n",
       "    x.observe(notebookContainer, {childList: true});\n",
       "}}\n",
       "\n",
       "// Listen for the clearing of the current output cell\n",
       "var outputEl = gd.closest('.output');\n",
       "if (outputEl) {{\n",
       "    x.observe(outputEl, {childList: true});\n",
       "}}\n",
       "\n",
       "                        })                };                });            </script>        </div>"
      ]
     },
     "metadata": {},
     "output_type": "display_data"
    }
   ],
   "source": [
    "grfBarra = go.Bar(\n",
    "    x = df_transposta.columns, \n",
    "    y=df_transposta.sum(),\n",
    "    name = 'Total'\n",
    ")\n",
    "grfLinha1 = go.Scatter(\n",
    "    x = df_transposta.columns, \n",
    "    y=df_transposta.max(),\n",
    "    mode='lines+markers',\n",
    "    name = 'Máximo'\n",
    ")\n",
    "grfLinha2 = go.Scatter(\n",
    "    x = df_transposta.columns, \n",
    "    y=df_transposta.min(),\n",
    "    mode='lines+markers',\n",
    "    name = 'Mínimo'\n",
    ")\n",
    "grfLinha3 = go.Scatter(\n",
    "    x = df_transposta.columns, \n",
    "    y=df_transposta.mean(),\n",
    "    mode='lines+markers',\n",
    "    name = 'Média'\n",
    ")\n",
    "\n",
    "dados = [grfBarra,grfLinha1,grfLinha2,grfLinha3]\n",
    "layout = go.Layout(\n",
    "    title = 'Não sei qual título adequado'\n",
    ")\n",
    "\n",
    "fig = go.Figure(data = dados, layout=layout)\n",
    "fig.show()"
   ]
  },
  {
   "cell_type": "code",
   "execution_count": null,
   "id": "f28d9b68",
   "metadata": {},
   "outputs": [],
   "source": []
  }
 ],
 "metadata": {
  "kernelspec": {
   "display_name": "Python 3",
   "language": "python",
   "name": "python3"
  },
  "language_info": {
   "codemirror_mode": {
    "name": "ipython",
    "version": 3
   },
   "file_extension": ".py",
   "mimetype": "text/x-python",
   "name": "python",
   "nbconvert_exporter": "python",
   "pygments_lexer": "ipython3",
   "version": "3.8.8"
  }
 },
 "nbformat": 4,
 "nbformat_minor": 5
}
